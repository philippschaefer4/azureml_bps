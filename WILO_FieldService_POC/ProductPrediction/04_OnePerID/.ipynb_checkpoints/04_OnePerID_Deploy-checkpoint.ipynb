{
 "cells": [
  {
   "cell_type": "code",
   "execution_count": null,
   "metadata": {},
   "outputs": [],
   "source": [
    "from azureml.core import Workspace, Experiment\n",
    "from azureml.core.authentication import InteractiveLoginAuthentication\n",
    "from azureml.train.estimator import Estimator\n",
    "from azureml.core.webservice import AksWebservice\n",
    "from azureml.core.model import InferenceConfig\n",
    "from azureml.core.model import Model\n",
    "from azureml.core.environment import Environment\n",
    "from azureml.core.conda_dependencies import CondaDependencies\n",
    "import json"
   ]
  },
  {
   "cell_type": "code",
   "execution_count": null,
   "metadata": {},
   "outputs": [],
   "source": [
    "interactive_auth = InteractiveLoginAuthentication(tenant_id=\"39288a38-ff19-432c-8011-1cd9d0dff445\")\n",
    "ws = Workspace(subscription_id=\"793146d9-d4dc-4a73-9728-76c4ffd0cc0d\", resource_group=\"rg_dynamics_test\", workspace_name=\"resdynml1test\", auth=interactive_auth)"
   ]
  },
  {
   "cell_type": "code",
   "execution_count": null,
   "metadata": {},
   "outputs": [],
   "source": [
    "# load experiment cfg\n",
    "with open(\"experiment_cfg.json\", \"r\") as cfg_file:\n",
    "    cfg = json.load(cfg_file)"
   ]
  },
  {
   "cell_type": "markdown",
   "metadata": {},
   "source": [
    "## Score Script"
   ]
  },
  {
   "cell_type": "code",
   "execution_count": null,
   "metadata": {},
   "outputs": [],
   "source": [
    "%%writefile ./src/score.py\n",
    "\n",
    "import numpy as np\n",
    "import pandas as pd\n",
    "import json\n",
    "import os\n",
    "import joblib\n",
    "\n",
    "from azureml.core.model import Model\n",
    "\n",
    "from pipe import create_pipeline\n",
    "\n",
    "\n",
    "def init():\n",
    "    global model\n",
    "    model_path = Model.get_model_path('SKLearnClassifier')\n",
    "    model = joblib.load(model_path)\n",
    "    \n",
    "    global regressor\n",
    "    regressor_path = Model.get_model_path('SKLearnRegressor')\n",
    "    regressor = joblib.load(regressor_path)\n",
    "    \n",
    "    global pipelines\n",
    "    pipeline_path = Model.get_model_path('SKLearnPreprocessPipeline')\n",
    "    pipelines = joblib.load(pipeline_path)\n",
    "    \n",
    "def run(raw_data):\n",
    "    \n",
    "    # get input data\n",
    "    data = json.loads(raw_data)\n",
    "    \n",
    "    # transform with pipeline\n",
    "    X = pipelines['feature_pipe'].transform(pd.DataFrame(data))\n",
    "    \n",
    "    # make prediction\n",
    "    y = model.predict(X)\n",
    "    \n",
    "    # predict duration\n",
    "    y_dur = regressor.predict(X)\n",
    "    \n",
    "    response = [\n",
    "        {\n",
    "            'Products':\n",
    "            [ \n",
    "                pipelines['target_pipe'].transformer_list[1][1].named_steps['target_encode'].col_cats[0][i] \n",
    "                for i in range(y.shape[1]) if y[j,i] == 1 \n",
    "            ],\n",
    "            'Duration':\n",
    "                 y_dur[j,0]\n",
    "        }        \n",
    "            for j in range(y.shape[0])\n",
    "    ]\n",
    "\n",
    "    return response"
   ]
  },
  {
   "cell_type": "markdown",
   "metadata": {},
   "source": [
    "## Deploy Webservice"
   ]
  },
  {
   "cell_type": "code",
   "execution_count": null,
   "metadata": {},
   "outputs": [],
   "source": [
    "inference_config = InferenceConfig(entry_script=\"score.py\", environment=ws.environments[cfg['env_name']], source_directory='./src')\n",
    "\n",
    "aksconfig = AksWebservice.deploy_configuration()\n",
    "\n",
    "service = Model.deploy(workspace=ws, \n",
    "                           name=cfg['webservice_name'],\n",
    "                           models= [ws.models[cfg['PreprocessPipeline']], ws.models[cfg['TrainedClassifier']], ws.models[cfg['TrainedRegressor']]], \n",
    "                           inference_config=inference_config, \n",
    "                           deployment_config=aksconfig,\n",
    "                           deployment_target=ws.compute_targets[cfg['compute_target']])\n",
    "\n",
    "service.wait_for_deployment()"
   ]
  }
 ],
 "metadata": {
  "kernelspec": {
   "display_name": "Python 3.6 - AzureML",
   "language": "python",
   "name": "python3-azureml"
  },
  "language_info": {
   "codemirror_mode": {
    "name": "ipython",
    "version": 3
   },
   "file_extension": ".py",
   "mimetype": "text/x-python",
   "name": "python",
   "nbconvert_exporter": "python",
   "pygments_lexer": "ipython3",
   "version": "3.6.9"
  }
 },
 "nbformat": 4,
 "nbformat_minor": 2
}
