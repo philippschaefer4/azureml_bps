{
 "cells": [
  {
   "cell_type": "code",
   "execution_count": 9,
   "metadata": {},
   "outputs": [],
   "source": [
    "from azureml.core import Workspace, Experiment\n",
    "from azureml.core.authentication import InteractiveLoginAuthentication\n",
    "from azureml.train.sklearn import SKLearn"
   ]
  },
  {
   "cell_type": "code",
   "execution_count": 10,
   "metadata": {},
   "outputs": [],
   "source": [
    "interactive_auth = InteractiveLoginAuthentication(tenant_id=\"39288a38-ff19-432c-8011-1cd9d0dff445\")\n",
    "ws = Workspace(subscription_id=\"793146d9-d4dc-4a73-9728-76c4ffd0cc0d\", resource_group=\"rg_dynamics_test\", workspace_name=\"resdynml1test\", auth=interactive_auth)"
   ]
  },
  {
   "cell_type": "code",
   "execution_count": 11,
   "metadata": {},
   "outputs": [
    {
     "name": "stdout",
     "output_type": "stream",
     "text": [
      "Overwriting ./src/train.py\n"
     ]
    }
   ],
   "source": [
    "%%writefile ./src/train.py\n",
    "\n",
    "from azureml.core import Run\n",
    "from xgboost import XGBClassifier\n",
    "from sklearn.multioutput import MultiOutputClassifier\n",
    "from sklearn.metrics import recall_score, precision_score, hamming_loss, zero_one_loss\n",
    "import os\n",
    "import joblib\n",
    "\n",
    "run = Run.get_context()\n",
    "\n",
    "# load data\n",
    "# train_data = run.input_datasets['train_data'].to_pandas_dataframe()\n",
    "# test_data = run.input_datasets['test_data'].to_pandas_dataframe()\n",
    "# ws = run.experiment.workspace\n",
    "# train_data, test_data, pipes = joblib.load(ws.datasets['oneperid_data'])\n",
    "data = run.input_datasets['oneperid_data']\n",
    "\n",
    "train_data,test_data,pipes = joblib.load(data)\n",
    "\n",
    "models = {}\n",
    "y_pred = []\n",
    "y_true = []\n",
    "for k in train_data:\n",
    "    # split train/test and feat/target\n",
    "    X_train = train_data[k][[ col for col in train_data[k].columns if col.startswith('feat')]]\n",
    "    y_train = train_data[k][[ col for col in train_data[k].columns if col.startswith('target')]]\n",
    "    X_test = test_data[k][[col for col in test_data[k].columns if col.startswith('feat')]]\n",
    "    y_test = test_data[k][[ col for col in test_data[k].columns if col.startswith('target')]]\n",
    "\n",
    "    # train classifier\n",
    "    models[k] = MultiOutputClassifier(\n",
    "                XGBClassifier(n_jobs=-1, max_depth=3, learning_rate=0.1, n_estimators=100, reg_alpha=0, reg_lambda=1)\n",
    "            )\n",
    "    model.fit(X_train, y_train)\n",
    "    y_pred += models[k].predict(X_test)\n",
    "    y_true += y_test\n",
    "\n",
    "run.log('precision_macro', precision_score(y_true, y_pred, average='macro'))\n",
    "run.log('precision_samples', precision_score(y_true, y_pred, average='samples'))\n",
    "run.log('recall_macro', recall_score(y_true, y_pred, average='macro'))\n",
    "run.log('recall_macro', recall_score(y_true, y_pred, average='samples'))\n",
    "run.log('hamming_loss', hamming_loss(y_true, y_pred))\n",
    "run.log('zero_one_loss', zero_one_loss(y_true, y_pred))\n",
    "\n",
    "# # evaluate train data\n",
    "# y_pred = model.predict(X_train)\n",
    "# run.log('precision_macro_train', precision_score(y_train, y_pred, average='macro'))\n",
    "# run.log('precision_samples_train', precision_score(y_train, y_pred, average='samples'))\n",
    "# run.log('recall_macro_train', recall_score(y_train, y_pred, average='macro'))\n",
    "# run.log('recall_macro_train', recall_score(y_train, y_pred, average='samples'))\n",
    "# run.log('hamming_loss_train', hamming_loss(y_train, y_pred))\n",
    "# run.log('zero_one_loss_train', zero_one_loss(y_train, y_pred))\n",
    "\n",
    "# save model\n",
    "os.makedirs('outputs', exist_ok=True)\n",
    "joblib.dump(value=model, filename='outputs/model.pkl')\n",
    "\n",
    "run.complete()"
   ]
  },
  {
   "cell_type": "code",
   "execution_count": 12,
   "metadata": {},
   "outputs": [],
   "source": [
    "est = SKLearn(entry_script='train.py', source_directory='src',\n",
    "             inputs=[   ws.datasets['oneperid_data'].as_named_input('oneperid_data').as_mount() ],\n",
    "             compute_target='local')"
   ]
  },
  {
   "cell_type": "code",
   "execution_count": 13,
   "metadata": {},
   "outputs": [
    {
     "name": "stdout",
     "output_type": "stream",
     "text": [
      "RunId: ProductPredictionOnePerID_1592245422_52d7151e\n",
      "Web View: https://ml.azure.com/experiments/ProductPredictionOnePerID/runs/ProductPredictionOnePerID_1592245422_52d7151e?wsid=/subscriptions/793146d9-d4dc-4a73-9728-76c4ffd0cc0d/resourcegroups/rg_dynamics_test/workspaces/resdynml1test\n",
      "\n",
      "Streaming azureml-logs/70_driver_log.txt\n",
      "========================================\n",
      "\n",
      "Entering context manager injector. Current time:2020-06-15T18:23:44.936384\n",
      "Initialize DatasetContextManager.\n",
      "Starting the daemon thread to refresh tokens in background for process with pid = 8\n",
      "Set Dataset oneperid_data's target path to /tmp/tmpkjltj5rc\n",
      "Enter __enter__ of DatasetContextManager\n",
      "SDK version: azureml-core==1.7.0 azureml-dataprep==1.7.0\n",
      "Processing 'oneperid_data'\n",
      "Processing dataset FileDataset\n",
      "{\n",
      "  \"source\": [\n",
      "    \"https://resdynml1test6456542521.blob.core.windows.net/azureml/ExperimentRun/dcid.ProductPredictionOnePerID_1592243223_7bd77c20/outputs/data\"\n",
      "  ],\n",
      "  \"definition\": [\n",
      "    \"GetFiles\"\n",
      "  ],\n",
      "  \"registration\": {\n",
      "    \"id\": \"1b7b59d6-743d-492d-a5bd-24a6ddaf56f7\",\n",
      "    \"name\": \"oneperid_data\",\n",
      "    \"version\": 1,\n",
      "    \"workspace\": \"Workspace.create(name='resdynml1test', subscription_id='793146d9-d4dc-4a73-9728-76c4ffd0cc0d', resource_group='rg_dynamics_test')\"\n",
      "  }\n",
      "}\n",
      "Mounting oneperid_data to /tmp/tmpkjltj5rc\n",
      "Credentials are not provided to access data from source. Please sign in using identity with required permission granted.\n",
      "To sign in, use a web browser to open the page https://microsoft.com/devicelogin and enter the code C7WVQ2Y2X to authenticate.\n",
      "2020-06-15 18:23:48.422229 | ActivityCompleted: Activity=mount, HowEnded=Failure, Duration=72250.46 [ms], Info = {'activity_id': 'abf30cf1-94b9-4b99-80c2-7dcc6fddf4ed', 'activity_name': 'mount', 'activity_type': 'PublicApi', 'app_name': 'FileDataset', 'source': 'azureml.dataset', 'version': '1.7.0', 'dataprepVersion': '1.7.0', 'completionStatus': 'Success', 'durationMs': 0.73}, Exception=RuntimeError; Cannot mount dataset. Source of the dataset is either not accessible or does not contain any data.\n",
      "Logging warning in history service: ERROR:: Dataset  failed. . Exception Details:Traceback (most recent call last):\n",
      "  File \"/azureml-run/azureml-setup/context_managers.py\", line 237, in __enter__\n",
      "    self.datasets.__enter__()\n",
      "  File \"/azureml-envs/azureml_12c51bdabb987f6db1eeb8e263909841/lib/python3.6/site-packages/azureml/data/context_managers.py\", line 172, in __enter__\n",
      "    context_manager = dataset.mount(mount_point=target_path, mount_options=mount_options)\n",
      "  File \"/azureml-envs/azureml_12c51bdabb987f6db1eeb8e263909841/lib/python3.6/site-packages/azureml/data/_loggerfactory.py\", line 106, in wrapper\n",
      "    return func(*args, **kwargs)\n",
      "  File \"/azureml-envs/azureml_12c51bdabb987f6db1eeb8e263909841/lib/python3.6/site-packages/azureml/data/file_dataset.py\", line 203, in mount\n",
      "    'or does not contain any data.')\n",
      "RuntimeError: Cannot mount dataset. Source of the dataset is either not accessible or does not contain any data.\n",
      "\n",
      "Traceback (most recent call last):\n",
      "  File \"azureml-setup/context_manager_injector.py\", line 282, in <module>\n",
      "    execute_with_context(cm_objects, options.invocation)\n",
      "  File \"azureml-setup/context_manager_injector.py\", line 100, in execute_with_context\n",
      "    stack.enter_context(wrapper)\n",
      "  File \"/azureml-run/azureml-setup/_vendor_contextlib2.py\", line 356, in enter_context\n",
      "    result = _cm_type.__enter__(cm)\n",
      "  File \"azureml-setup/context_manager_injector.py\", line 62, in __enter__\n",
      "    self.context_manager.__enter__()\n",
      "  File \"/azureml-run/azureml-setup/context_managers.py\", line 237, in __enter__\n",
      "    self.datasets.__enter__()\n",
      "  File \"/azureml-envs/azureml_12c51bdabb987f6db1eeb8e263909841/lib/python3.6/site-packages/azureml/data/context_managers.py\", line 172, in __enter__\n",
      "    context_manager = dataset.mount(mount_point=target_path, mount_options=mount_options)\n",
      "  File \"/azureml-envs/azureml_12c51bdabb987f6db1eeb8e263909841/lib/python3.6/site-packages/azureml/data/_loggerfactory.py\", line 106, in wrapper\n",
      "    return func(*args, **kwargs)\n",
      "  File \"/azureml-envs/azureml_12c51bdabb987f6db1eeb8e263909841/lib/python3.6/site-packages/azureml/data/file_dataset.py\", line 203, in mount\n",
      "    'or does not contain any data.')\n",
      "RuntimeError: Cannot mount dataset. Source of the dataset is either not accessible or does not contain any data.\n",
      "\n",
      "\n",
      "Execution Summary\n",
      "=================\n",
      "RunId: ProductPredictionOnePerID_1592245422_52d7151e\n",
      "Web View: https://ml.azure.com/experiments/ProductPredictionOnePerID/runs/ProductPredictionOnePerID_1592245422_52d7151e?wsid=/subscriptions/793146d9-d4dc-4a73-9728-76c4ffd0cc0d/resourcegroups/rg_dynamics_test/workspaces/resdynml1test\n",
      "\n",
      "Warnings:\n",
      "ERROR:: Dataset  failed. . Exception Details:Traceback (most recent call last):\n",
      "  File \"/azureml-run/azureml-setup/context_managers.py\", line 237, in __enter__\n",
      "    self.datasets.__enter__()\n",
      "  File \"/azureml-envs/azureml_12c51bdabb987f6db1eeb8e263909841/lib/python3.6/site-packages/azureml/data/context_managers.py\", line 172, in __enter__\n",
      "    context_manager = dataset.mount(mount_point=target_path, mount_options=mount_options)\n",
      "  File \"/azureml-envs/azureml_12c51bdabb987f6db1eeb8e263909841/lib/python3.6/site-packages/azureml/data/_loggerfactory.py\", line 106, in wrapper\n",
      "    return func(*args, **kwargs)\n",
      "  File \"/azureml-envs/azureml_12c51bdabb987f6db1eeb8e263909841/lib/python3.6/site-packages/azureml/data/file_dataset.py\", line 203, in mount\n",
      "    'or does not contain any data.')\n",
      "RuntimeError: Cannot mount dataset. Source of the dataset is either not accessible or does not contain any data.\n",
      "\n",
      "{\n",
      "  \"error\": {\n",
      "    \"code\": \"ServiceError\",\n",
      "    \"message\": \"Failed to run ['docker', 'run', '--name', 'ProductPredictionOnePerID_1592245422_52d7151e', '--rm', '-v', '/tmp/azureml_runs/ProductPredictionOnePerID_1592245422_52d7151e:/azureml-run', '--shm-size', '2g', '--privileged', '-e', 'AZUREML_DATASET_ENVIRONMENT_VARS=oneperid_data:mount,', '-e', 'ONEPERID_DATA=DatasetConsumptionConfig:oneperid_data', '-e', 'AZUREML_DATAREFERENCE_oneperid_data=DatasetConsumptionConfig:oneperid_data', '-e', 'oneperid_data=DatasetConsumptionConfig:oneperid_data', '-e', 'EXAMPLE_ENV_VAR=EXAMPLE_VALUE', '-e', 'AZUREML_CONTEXT_MANAGER_TRACKUSERERROR=eyJTa2lwSGlzdG9yeUltcG9ydENoZWNrIjoiRmFsc2UifQ==', '-e', 'AZUREML_CONTEXT_MANAGER_RUNHISTORY=eyJPdXRwdXRDb2xsZWN0aW9uIjp0cnVlLCJEaXJlY3Rvcmllc1RvV2F0Y2giOlsibG9ncyJdLCJzbmFwc2hvdFByb2plY3QiOnRydWV9', '-e', 'AZUREML_CONTEXT_MANAGER_DATASET=eyJvbmVwZXJpZF9kYXRhIjp7IkRhdGFMb2NhdGlvbiI6eyJEYXRhc2V0Ijp7IklkIjoiMWI3YjU5ZDYtNzQzZC00OTJkLWE1YmQtMjRhNmRkYWY1NmY3IiwiTmFtZSI6bnVsbCwiVmVyc2lvbiI6bnVsbH0sIkRhdGFQYXRoIjpudWxsfSwiTWVjaGFuaXNtIjoiTW91bnQiLCJFbnZpcm9ubWVudFZhcmlhYmxlTmFtZSI6Im9uZXBlcmlkX2RhdGEiLCJQYXRoT25Db21wdXRlIjpudWxsLCJPdmVyd3JpdGUiOmZhbHNlfX0=', '-e', 'AZUREML_CONTEXT_MANAGER_PROJECTPYTHONPATH=bnVsbA==', '-e', 'AZUREML_RUN_TOKEN_EXPIRY=1594059822', '-e', 'AZUREML_RUN_TOKEN=eyJhbGciOiJSUzI1NiIsImtpZCI6IjFFQzcxMzQ3QjlFMDRERjRFMDAzRDkyRTZFQUY2QzNBQzRFNjAwNDkiLCJ0eXAiOiJKV1QifQ.eyJyb2xlIjoiQ29udHJpYnV0b3IiLCJzY29wZSI6Ii9zdWJzY3JpcHRpb25zLzc5MzE0NmQ5LWQ0ZGMtNGE3My05NzI4LTc2YzRmZmQwY2MwZC9yZXNvdXJjZUdyb3Vwcy9yZ19keW5hbWljc190ZXN0L3Byb3ZpZGVycy9NaWNyb3NvZnQuTWFjaGluZUxlYXJuaW5nU2VydmljZXMvd29ya3NwYWNlcy9yZXNkeW5tbDF0ZXN0IiwiYWNjb3VudGlkIjoiMDAwMDAwMDAtMDAwMC0wMDAwLTAwMDAtMDAwMDAwMDAwMDAwIiwid29ya3NwYWNlSWQiOiIwMjRkMGRiMC1lN2JkLTRhMTctOWEyYy0yMzVlNmE2OTk0MTQiLCJwcm9qZWN0aWQiOiIwMDAwMDAwMC0wMDAwLTAwMDAtMDAwMC0wMDAwMDAwMDAwMDAiLCJkaXNjb3ZlcnkiOiJ1cmk6Ly9kaXNjb3Zlcnl1cmkvIiwidGlkIjoiMzkyODhhMzgtZmYxOS00MzJjLTgwMTEtMWNkOWQwZGZmNDQ1Iiwib2lkIjoiMTI4ODA1MDItZDJiYi00MDExLWJmY2YtNmYxZGUwYzJjZTkyIiwicHVpZCI6IjEwMDMyMDAwQzRGNDc0M0UiLCJpc3MiOiJhenVyZW1sIiwiaWRwIjoiaHR0cHM6Ly9zdHMud2luZG93cy5uZXQvYjAxMDJkZmQtNzg1YS00YWQxLWFjODktMjM5NDJlNDQ1ZDk2LyIsImFwcGlkIjoiUGhpbGlwcCBLbGVpbiIsImFsdHNlY2lkIjoiNTo6MTAwMzdGRkVBNkZDNDRBMSIsImV4cCI6MTU5NDA1OTgyMiwiYXVkIjoiYXp1cmVtbCJ9.rtpEaS3s51oGeMnCW_co7lSZL-1RRPhmfwlQhJAZlmLxv90StqKjYoW24Tt2UczDMwJKq-vjDh32EmhJiMp7nuWVpB2PG8xAvEbHa8FiObgKij9sx69aAsmx0ggcdyGra95K9_JL1WnaxpuKQQc45nSZD99_YhXA94YP3ji_2Eul01QH2k68ERl2754gcHzsl41vVEpilIQ0wvz0MsCVOzI2VwxtFADewA7LltjWfPQhnUcuGNHWO0WR6R58tX1xGtggW__jSU_WPHwiqAqwd9LbMyV3ROAe4Uk1eHcsIALpRVKtb3fh2weoOk3jPt9_wt_-kT_mvfal0PJviJB27A', '-e', 'HBI_WORKSPACE_JOB=false', '-e', 'AZUREML_RUN_TOKEN_RAND=ec267d45-bf1e-41d0-9cfd-d57a72fceb7d', '-e', 'AZUREML_RUN_TOKEN_PASS=f3d3fa0e-b011-429f-884d-9d8f0af9a701', '-e', 'PYTHONUNBUFFERED=True', '-e', 'AZUREML_COMMUNICATOR=None', '-e', 'AZUREML_FRAMEWORK=Python', '-e', 'AZUREML_ARM_PROJECT_NAME=ProductPredictionOnePerID', '-e', 'AZUREML_ARM_WORKSPACE_NAME=resdynml1test', '-e', 'AZUREML_ARM_SUBSCRIPTION=793146d9-d4dc-4a73-9728-76c4ffd0cc0d', '-e', 'AZUREML_ARM_RESOURCEGROUP=rg_dynamics_test', '-e', 'AZUREML_EXPERIMENT_SCOPE=/subscriptions/793146d9-d4dc-4a73-9728-76c4ffd0cc0d/resourceGroups/rg_dynamics_test/providers/Microsoft.MachineLearningServices/workspaces/resdynml1test/experiments/ProductPredictionOnePerID', '-e', 'AZUREML_WORKSPACE_ID=024d0db0-e7bd-4a17-9a2c-235e6a699414', '-e', 'AZUREML_WORKSPACE_SCOPE=/subscriptions/793146d9-d4dc-4a73-9728-76c4ffd0cc0d/resourceGroups/rg_dynamics_test/providers/Microsoft.MachineLearningServices/workspaces/resdynml1test', '-e', 'AZUREML_DATA_CONTAINER_ID=dcid.ProductPredictionOnePerID_1592245422_52d7151e', '-e', 'AZUREML_DISCOVERY_SERVICE_ENDPOINT=https://westeurope.experiments.azureml.net/discovery', '-e', 'AZUREML_RUN_HISTORY_SERVICE_ENDPOINT=https://westeurope.experiments.azureml.net', '-e', 'AZUREML_SERVICE_ENDPOINT=https://westeurope.experiments.azureml.net', '-e', 'AZUREML_RUN_CONFIGURATION=azureml-setup/mutated_run_configuration.json', '-e', 'AZUREML_INSTRUMENTATION_KEY=fb7e27a4-f865-4147-83ee-ffbf79d1a9f5', '-e', 'AZUREML_DRIVERLOG_PATH=azureml-logs/driver_log.txt', '-e', 'TELEMETRY_LOGS=azureml-logs/telemetry_logs/', '-e', 'FAIRLEARN_LOGS=azureml-logs/telemetry_logs/fairlearn_log.txt', '-e', 'INTERPRET_TEXT_LOGS=azureml-logs/telemetry_logs/interpret_text_log.txt', '-e', 'INTERPRET_C_LOGS=azureml-logs/telemetry_logs/interpret_community_log.txt', '-e', 'AZUREML_JOBRELEASELOG_PATH=azureml-logs/job_release_log.txt', '-e', 'AZUREML_JOBPREPLOG_PATH=azureml-logs/job_prep_log.txt', '-e', 'AZUREML_CONTROLLOG_PATH=azureml-logs/control_log.txt', '-e', 'AZUREML_LOGDIRECTORY_PATH=azureml-logs/', '-e', 'AZUREML_PIDFILE_PATH=azureml-setup/pid.txt', '-e', 'AZUREML_RUN_ID=ProductPredictionOnePerID_1592245422_52d7151e', 'azureml/azureml_3ead34f2b708905dba292940baa0fbdf', '/bin/bash', '-c', 'cd /azureml-run && \\\"/azureml-envs/azureml_12c51bdabb987f6db1eeb8e263909841/bin/python\\\" \\\"azureml-setup/run_script.py\\\" \\\"/azureml-envs/azureml_12c51bdabb987f6db1eeb8e263909841/bin/python\\\" \\\"azureml-setup/context_manager_injector.py\\\" \\\"-i\\\" \\\"ProjectPythonPath:context_managers.ProjectPythonPath\\\" \\\"-i\\\" \\\"Dataset:context_managers.Datasets\\\" \\\"-i\\\" \\\"RunHistory:context_managers.RunHistory\\\" \\\"-i\\\" \\\"TrackUserError:context_managers.TrackUserError\\\" \\\"train.py\\\"'] \\n Exit code 1 \\nDetails can be found in azureml-logs/60_control_log.txt log file.\",\n",
      "    \"messageFormat\": null,\n",
      "    \"messageParameters\": {},\n",
      "    \"referenceCode\": null,\n",
      "    \"detailsUri\": null,\n",
      "    \"target\": null,\n",
      "    \"details\": [],\n",
      "    \"innerError\": null,\n",
      "    \"debugInfo\": null\n",
      "  },\n",
      "  \"correlation\": null,\n",
      "  \"environment\": null,\n",
      "  \"location\": null,\n",
      "  \"time\": \"0001-01-01T00:00:00+00:00\",\n",
      "  \"componentName\": null\n",
      "}\n",
      "\n"
     ]
    },
    {
     "ename": "ActivityFailedException",
     "evalue": "ActivityFailedException:\n\tMessage: Activity Failed:\n{\n    \"error\": {\n        \"code\": \"ServiceError\",\n        \"message\": \"Dataset initialization failed: Cannot mount dataset. Source of the dataset is either not accessible or does not contain any data.\",\n        \"details\": [],\n        \"debugInfo\": {\n            \"type\": \"RuntimeError\",\n            \"message\": \"Cannot mount dataset. Source of the dataset is either not accessible or does not contain any data.\",\n            \"stackTrace\": \"  File \\\"azureml-setup/context_manager_injector.py\\\", line 62, in __enter__\\n    self.context_manager.__enter__()\\n  File \\\"/azureml-run/azureml-setup/context_managers.py\\\", line 237, in __enter__\\n    self.datasets.__enter__()\\n  File \\\"/azureml-envs/azureml_12c51bdabb987f6db1eeb8e263909841/lib/python3.6/site-packages/azureml/data/context_managers.py\\\", line 172, in __enter__\\n    context_manager = dataset.mount(mount_point=target_path, mount_options=mount_options)\\n  File \\\"/azureml-envs/azureml_12c51bdabb987f6db1eeb8e263909841/lib/python3.6/site-packages/azureml/data/_loggerfactory.py\\\", line 106, in wrapper\\n    return func(*args, **kwargs)\\n  File \\\"/azureml-envs/azureml_12c51bdabb987f6db1eeb8e263909841/lib/python3.6/site-packages/azureml/data/file_dataset.py\\\", line 203, in mount\\n    'or does not contain any data.')\\n\"\n        },\n        \"messageParameters\": {}\n    },\n    \"time\": \"0001-01-01T00:00:00.000Z\"\n}\n\tInnerException None\n\tErrorResponse \n{\n    \"error\": {\n        \"message\": \"Activity Failed:\\n{\\n    \\\"error\\\": {\\n        \\\"code\\\": \\\"ServiceError\\\",\\n        \\\"message\\\": \\\"Dataset initialization failed: Cannot mount dataset. Source of the dataset is either not accessible or does not contain any data.\\\",\\n        \\\"details\\\": [],\\n        \\\"debugInfo\\\": {\\n            \\\"type\\\": \\\"RuntimeError\\\",\\n            \\\"message\\\": \\\"Cannot mount dataset. Source of the dataset is either not accessible or does not contain any data.\\\",\\n            \\\"stackTrace\\\": \\\"  File \\\\\\\"azureml-setup/context_manager_injector.py\\\\\\\", line 62, in __enter__\\\\n    self.context_manager.__enter__()\\\\n  File \\\\\\\"/azureml-run/azureml-setup/context_managers.py\\\\\\\", line 237, in __enter__\\\\n    self.datasets.__enter__()\\\\n  File \\\\\\\"/azureml-envs/azureml_12c51bdabb987f6db1eeb8e263909841/lib/python3.6/site-packages/azureml/data/context_managers.py\\\\\\\", line 172, in __enter__\\\\n    context_manager = dataset.mount(mount_point=target_path, mount_options=mount_options)\\\\n  File \\\\\\\"/azureml-envs/azureml_12c51bdabb987f6db1eeb8e263909841/lib/python3.6/site-packages/azureml/data/_loggerfactory.py\\\\\\\", line 106, in wrapper\\\\n    return func(*args, **kwargs)\\\\n  File \\\\\\\"/azureml-envs/azureml_12c51bdabb987f6db1eeb8e263909841/lib/python3.6/site-packages/azureml/data/file_dataset.py\\\\\\\", line 203, in mount\\\\n    'or does not contain any data.')\\\\n\\\"\\n        },\\n        \\\"messageParameters\\\": {}\\n    },\\n    \\\"time\\\": \\\"0001-01-01T00:00:00.000Z\\\"\\n}\"\n    }\n}",
     "output_type": "error",
     "traceback": [
      "\u001b[0;31m---------------------------------------------------------------------------\u001b[0m",
      "\u001b[0;31mActivityFailedException\u001b[0m                   Traceback (most recent call last)",
      "\u001b[0;32m<ipython-input-13-87ee3a183ea1>\u001b[0m in \u001b[0;36m<module>\u001b[0;34m\u001b[0m\n\u001b[1;32m      1\u001b[0m \u001b[0mexp\u001b[0m \u001b[0;34m=\u001b[0m \u001b[0mExperiment\u001b[0m\u001b[0;34m(\u001b[0m\u001b[0mws\u001b[0m\u001b[0;34m,\u001b[0m \u001b[0;34m'ProductPredictionOnePerID'\u001b[0m\u001b[0;34m)\u001b[0m\u001b[0;34m\u001b[0m\u001b[0;34m\u001b[0m\u001b[0m\n\u001b[1;32m      2\u001b[0m \u001b[0mrun\u001b[0m \u001b[0;34m=\u001b[0m \u001b[0mexp\u001b[0m\u001b[0;34m.\u001b[0m\u001b[0msubmit\u001b[0m\u001b[0;34m(\u001b[0m\u001b[0mest\u001b[0m\u001b[0;34m)\u001b[0m\u001b[0;34m\u001b[0m\u001b[0;34m\u001b[0m\u001b[0m\n\u001b[0;32m----> 3\u001b[0;31m \u001b[0mrun\u001b[0m\u001b[0;34m.\u001b[0m\u001b[0mwait_for_completion\u001b[0m\u001b[0;34m(\u001b[0m\u001b[0mshow_output\u001b[0m\u001b[0;34m=\u001b[0m\u001b[0;32mTrue\u001b[0m\u001b[0;34m)\u001b[0m\u001b[0;34m\u001b[0m\u001b[0;34m\u001b[0m\u001b[0m\n\u001b[0m",
      "\u001b[0;32m/anaconda/envs/azureml_py36/lib/python3.6/site-packages/azureml/core/run.py\u001b[0m in \u001b[0;36mwait_for_completion\u001b[0;34m(self, show_output, wait_post_processing, raise_on_error)\u001b[0m\n\u001b[1;32m    679\u001b[0m                     \u001b[0mfile_handle\u001b[0m\u001b[0;34m=\u001b[0m\u001b[0msys\u001b[0m\u001b[0;34m.\u001b[0m\u001b[0mstdout\u001b[0m\u001b[0;34m,\u001b[0m\u001b[0;34m\u001b[0m\u001b[0;34m\u001b[0m\u001b[0m\n\u001b[1;32m    680\u001b[0m                     \u001b[0mwait_post_processing\u001b[0m\u001b[0;34m=\u001b[0m\u001b[0mwait_post_processing\u001b[0m\u001b[0;34m,\u001b[0m\u001b[0;34m\u001b[0m\u001b[0;34m\u001b[0m\u001b[0m\n\u001b[0;32m--> 681\u001b[0;31m                     raise_on_error=raise_on_error)\n\u001b[0m\u001b[1;32m    682\u001b[0m                 \u001b[0;32mreturn\u001b[0m \u001b[0mself\u001b[0m\u001b[0;34m.\u001b[0m\u001b[0mget_details\u001b[0m\u001b[0;34m(\u001b[0m\u001b[0;34m)\u001b[0m\u001b[0;34m\u001b[0m\u001b[0;34m\u001b[0m\u001b[0m\n\u001b[1;32m    683\u001b[0m             \u001b[0;32mexcept\u001b[0m \u001b[0mKeyboardInterrupt\u001b[0m\u001b[0;34m:\u001b[0m\u001b[0;34m\u001b[0m\u001b[0;34m\u001b[0m\u001b[0m\n",
      "\u001b[0;32m/anaconda/envs/azureml_py36/lib/python3.6/site-packages/azureml/core/run.py\u001b[0m in \u001b[0;36m_stream_run_output\u001b[0;34m(self, file_handle, wait_post_processing, raise_on_error)\u001b[0m\n\u001b[1;32m    920\u001b[0m                 \u001b[0mfile_handle\u001b[0m\u001b[0;34m.\u001b[0m\u001b[0mwrite\u001b[0m\u001b[0;34m(\u001b[0m\u001b[0;34m\"\\n\"\u001b[0m\u001b[0;34m)\u001b[0m\u001b[0;34m\u001b[0m\u001b[0;34m\u001b[0m\u001b[0m\n\u001b[1;32m    921\u001b[0m             \u001b[0;32melse\u001b[0m\u001b[0;34m:\u001b[0m\u001b[0;34m\u001b[0m\u001b[0;34m\u001b[0m\u001b[0m\n\u001b[0;32m--> 922\u001b[0;31m                 \u001b[0;32mraise\u001b[0m \u001b[0mActivityFailedException\u001b[0m\u001b[0;34m(\u001b[0m\u001b[0merror_details\u001b[0m\u001b[0;34m=\u001b[0m\u001b[0mjson\u001b[0m\u001b[0;34m.\u001b[0m\u001b[0mdumps\u001b[0m\u001b[0;34m(\u001b[0m\u001b[0merror\u001b[0m\u001b[0;34m,\u001b[0m \u001b[0mindent\u001b[0m\u001b[0;34m=\u001b[0m\u001b[0;36m4\u001b[0m\u001b[0;34m)\u001b[0m\u001b[0;34m)\u001b[0m\u001b[0;34m\u001b[0m\u001b[0;34m\u001b[0m\u001b[0m\n\u001b[0m\u001b[1;32m    923\u001b[0m \u001b[0;34m\u001b[0m\u001b[0m\n\u001b[1;32m    924\u001b[0m         \u001b[0mfile_handle\u001b[0m\u001b[0;34m.\u001b[0m\u001b[0mwrite\u001b[0m\u001b[0;34m(\u001b[0m\u001b[0;34m\"\\n\"\u001b[0m\u001b[0;34m)\u001b[0m\u001b[0;34m\u001b[0m\u001b[0;34m\u001b[0m\u001b[0m\n",
      "\u001b[0;31mActivityFailedException\u001b[0m: ActivityFailedException:\n\tMessage: Activity Failed:\n{\n    \"error\": {\n        \"code\": \"ServiceError\",\n        \"message\": \"Dataset initialization failed: Cannot mount dataset. Source of the dataset is either not accessible or does not contain any data.\",\n        \"details\": [],\n        \"debugInfo\": {\n            \"type\": \"RuntimeError\",\n            \"message\": \"Cannot mount dataset. Source of the dataset is either not accessible or does not contain any data.\",\n            \"stackTrace\": \"  File \\\"azureml-setup/context_manager_injector.py\\\", line 62, in __enter__\\n    self.context_manager.__enter__()\\n  File \\\"/azureml-run/azureml-setup/context_managers.py\\\", line 237, in __enter__\\n    self.datasets.__enter__()\\n  File \\\"/azureml-envs/azureml_12c51bdabb987f6db1eeb8e263909841/lib/python3.6/site-packages/azureml/data/context_managers.py\\\", line 172, in __enter__\\n    context_manager = dataset.mount(mount_point=target_path, mount_options=mount_options)\\n  File \\\"/azureml-envs/azureml_12c51bdabb987f6db1eeb8e263909841/lib/python3.6/site-packages/azureml/data/_loggerfactory.py\\\", line 106, in wrapper\\n    return func(*args, **kwargs)\\n  File \\\"/azureml-envs/azureml_12c51bdabb987f6db1eeb8e263909841/lib/python3.6/site-packages/azureml/data/file_dataset.py\\\", line 203, in mount\\n    'or does not contain any data.')\\n\"\n        },\n        \"messageParameters\": {}\n    },\n    \"time\": \"0001-01-01T00:00:00.000Z\"\n}\n\tInnerException None\n\tErrorResponse \n{\n    \"error\": {\n        \"message\": \"Activity Failed:\\n{\\n    \\\"error\\\": {\\n        \\\"code\\\": \\\"ServiceError\\\",\\n        \\\"message\\\": \\\"Dataset initialization failed: Cannot mount dataset. Source of the dataset is either not accessible or does not contain any data.\\\",\\n        \\\"details\\\": [],\\n        \\\"debugInfo\\\": {\\n            \\\"type\\\": \\\"RuntimeError\\\",\\n            \\\"message\\\": \\\"Cannot mount dataset. Source of the dataset is either not accessible or does not contain any data.\\\",\\n            \\\"stackTrace\\\": \\\"  File \\\\\\\"azureml-setup/context_manager_injector.py\\\\\\\", line 62, in __enter__\\\\n    self.context_manager.__enter__()\\\\n  File \\\\\\\"/azureml-run/azureml-setup/context_managers.py\\\\\\\", line 237, in __enter__\\\\n    self.datasets.__enter__()\\\\n  File \\\\\\\"/azureml-envs/azureml_12c51bdabb987f6db1eeb8e263909841/lib/python3.6/site-packages/azureml/data/context_managers.py\\\\\\\", line 172, in __enter__\\\\n    context_manager = dataset.mount(mount_point=target_path, mount_options=mount_options)\\\\n  File \\\\\\\"/azureml-envs/azureml_12c51bdabb987f6db1eeb8e263909841/lib/python3.6/site-packages/azureml/data/_loggerfactory.py\\\\\\\", line 106, in wrapper\\\\n    return func(*args, **kwargs)\\\\n  File \\\\\\\"/azureml-envs/azureml_12c51bdabb987f6db1eeb8e263909841/lib/python3.6/site-packages/azureml/data/file_dataset.py\\\\\\\", line 203, in mount\\\\n    'or does not contain any data.')\\\\n\\\"\\n        },\\n        \\\"messageParameters\\\": {}\\n    },\\n    \\\"time\\\": \\\"0001-01-01T00:00:00.000Z\\\"\\n}\"\n    }\n}"
     ]
    }
   ],
   "source": [
    "exp = Experiment(ws, 'ProductPredictionOnePerID')\n",
    "run = exp.submit(est)\n",
    "run.wait_for_completion(show_output=True)"
   ]
  },
  {
   "cell_type": "code",
   "execution_count": null,
   "metadata": {},
   "outputs": [],
   "source": []
  },
  {
   "cell_type": "code",
   "execution_count": null,
   "metadata": {},
   "outputs": [],
   "source": []
  },
  {
   "cell_type": "code",
   "execution_count": 6,
   "metadata": {},
   "outputs": [],
   "source": [
    "from xgboost import XGBClassifier\n",
    "from sklearn.multioutput import MultiOutputClassifier\n",
    "from sklearn.metrics import recall_score, precision_score, hamming_loss, zero_one_loss\n",
    "import os\n",
    "import joblib\n",
    "\n",
    "# load data\n",
    "# train_data = run.input_datasets['train_data'].to_pandas_dataframe()\n",
    "# test_data = run.input_datasets['test_data'].to_pandas_dataframe()\n",
    "data = ws.datasets['oneperid_data'].as_named_input('oneperid_data').as_mount()"
   ]
  },
  {
   "cell_type": "code",
   "execution_count": 14,
   "metadata": {},
   "outputs": [],
   "source": [
    "data.path_on_compute"
   ]
  },
  {
   "cell_type": "code",
   "execution_count": null,
   "metadata": {},
   "outputs": [],
   "source": [
    "train_data, test_data, pipes"
   ]
  },
  {
   "cell_type": "code",
   "execution_count": null,
   "metadata": {},
   "outputs": [],
   "source": [
    "models = {}\n",
    "y_pred = []\n",
    "y_true = []\n",
    "\n",
    "for k in train_data:\n",
    "    # split train/test and feat/target\n",
    "    X_train = train_data[k][[ col for col in train_data[k].columns if col.startswith('feat')]]\n",
    "    y_train = train_data[k][[ col for col in train_data[k].columns if col.startswith('target')]]\n",
    "    X_test = test_data[k][[col for col in test_data[k].columns if col.startswith('feat')]]\n",
    "    y_test = test_data[k][[ col for col in test_data[k].columns if col.startswith('target')]]\n",
    "\n",
    "    # train classifier\n",
    "    models[k] = MultiOutputClassifier(\n",
    "                XGBClassifier(n_jobs=-1, max_depth=3, learning_rate=0.1, n_estimators=100, reg_alpha=0, reg_lambda=1)\n",
    "            )\n",
    "    model.fit(X_train, y_train)\n",
    "    y_pred += models[k].predict(X_test)\n",
    "    y_true += y_test"
   ]
  },
  {
   "cell_type": "code",
   "execution_count": null,
   "metadata": {},
   "outputs": [],
   "source": [
    "print('precision_macro', precision_score(y_true, y_pred, average='macro'))\n",
    "print('precision_samples', precision_score(y_true, y_pred, average='samples'))\n",
    "print('recall_macro', recall_score(y_true, y_pred, average='macro'))\n",
    "print('recall_macro', recall_score(y_true, y_pred, average='samples'))\n",
    "print('hamming_loss', hamming_loss(y_true, y_pred))\n",
    "print('zero_one_loss', zero_one_loss(y_true, y_pred))"
   ]
  }
 ],
 "metadata": {
  "kernelspec": {
   "display_name": "Python 3.6 - AzureML",
   "language": "python",
   "name": "python3-azureml"
  },
  "language_info": {
   "codemirror_mode": {
    "name": "ipython",
    "version": 3
   },
   "file_extension": ".py",
   "mimetype": "text/x-python",
   "name": "python",
   "nbconvert_exporter": "python",
   "pygments_lexer": "ipython3",
   "version": "3.6.9"
  }
 },
 "nbformat": 4,
 "nbformat_minor": 2
}
