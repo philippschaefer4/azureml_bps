{
 "cells": [
  {
   "cell_type": "code",
   "execution_count": null,
   "metadata": {},
   "outputs": [],
   "source": [
    "from azureml.core import Workspace, Experiment, RunConfiguration\n",
    "from azureml.core.authentication import InteractiveLoginAuthentication\n",
    "from azureml.pipeline.core import Pipeline, PipelineData, StepSequence\n",
    "from azureml.pipeline.steps import PythonScriptStep\n",
    "import json"
   ]
  },
  {
   "cell_type": "code",
   "execution_count": null,
   "metadata": {},
   "outputs": [],
   "source": [
    "interactive_auth = InteractiveLoginAuthentication(tenant_id=\"39288a38-ff19-432c-8011-1cd9d0dff445\")\n",
    "ws = Workspace(subscription_id=\"793146d9-d4dc-4a73-9728-76c4ffd0cc0d\", resource_group=\"rg_dynamics_test\", workspace_name=\"resdynml1test\", auth=interactive_auth)"
   ]
  },
  {
   "cell_type": "code",
   "execution_count": null,
   "metadata": {},
   "outputs": [],
   "source": [
    "# load experiment cfg\n",
    "with open(\"experiment_cfg.json\", \"r\") as cfg_file:\n",
    "    cfg = json.load(cfg_file)"
   ]
  },
  {
   "cell_type": "markdown",
   "metadata": {},
   "source": [
    "## Deployment Step Script"
   ]
  },
  {
   "cell_type": "code",
   "execution_count": null,
   "metadata": {},
   "outputs": [],
   "source": [
    "%%writefile ./src/deploy.py\n",
    "\n",
    "from azureml.core import Run, Model\n",
    "import os\n",
    "import pandas as pd\n",
    "import joblib\n",
    "from argparse import ArgumentParser\n",
    "\n",
    "run = Run.get_context()\n",
    "ws = run.experiment.workspace\n",
    "\n",
    "for child in run.parent.get_children():\n",
    "    if child.name == 'preprocess.py':\n",
    "        child.register_model('SKLearnPreprocessPipeline', 'outputs/pipelines.pkl')\n",
    "    elif child.name == 'train.py':\n",
    "        child.register_model('SKLearnClassifier', 'outputs/model.pkl')\n",
    "        child.register_model('SKLearnRegressor', 'outputs/model_regressor.pkl')\n",
    "        \n",
    "inference_config = InferenceConfig(entry_script=\"score.py\", environment=ws.environments['WILO_POC_sklearn'], source_directory='.')\n",
    "\n",
    "aksconfig = AksWebservice.deploy_configuration()\n",
    "\n",
    "service = Model.deploy(workspace=ws, \n",
    "                           name='SKLearnWebservice',\n",
    "                           models= [ws.models['SKLearnPreprocessPipeline'], ws.models['SKLearnClassifier'], ws.models['SKLearnRegressor']],\n",
    "                           inference_config=inference_config, \n",
    "                           deployment_config=aksconfig,\n",
    "                           deployment_target=ws.compute_targets[cfg['compute_target']])\n",
    "\n",
    "service.wait_for_deployment()\n",
    "        \n",
    "run.complete()"
   ]
  },
  {
   "cell_type": "markdown",
   "metadata": {},
   "source": [
    "## Create Pipeline"
   ]
  },
  {
   "cell_type": "markdown",
   "metadata": {},
   "source": [
    "### Create RunConfig with CondaEnv"
   ]
  },
  {
   "cell_type": "code",
   "execution_count": 1,
   "metadata": {},
   "outputs": [
    {
     "ename": "NameError",
     "evalue": "name 'RunConfiguration' is not defined",
     "output_type": "error",
     "traceback": [
      "\u001b[0;31m---------------------------------------------------------------------------\u001b[0m",
      "\u001b[0;31mNameError\u001b[0m                                 Traceback (most recent call last)",
      "\u001b[0;32m<ipython-input-1-40c73079e8ca>\u001b[0m in \u001b[0;36m<module>\u001b[0;34m\u001b[0m\n\u001b[1;32m      1\u001b[0m \u001b[0;31m# create run config\u001b[0m\u001b[0;34m\u001b[0m\u001b[0;34m\u001b[0m\u001b[0;34m\u001b[0m\u001b[0m\n\u001b[0;32m----> 2\u001b[0;31m \u001b[0mrun_config\u001b[0m \u001b[0;34m=\u001b[0m \u001b[0mRunConfiguration\u001b[0m\u001b[0;34m(\u001b[0m\u001b[0;34m)\u001b[0m\u001b[0;34m\u001b[0m\u001b[0;34m\u001b[0m\u001b[0m\n\u001b[0m\u001b[1;32m      3\u001b[0m \u001b[0mrun_config\u001b[0m\u001b[0;34m.\u001b[0m\u001b[0menvironment\u001b[0m \u001b[0;34m=\u001b[0m \u001b[0mws\u001b[0m\u001b[0;34m.\u001b[0m\u001b[0menvironments\u001b[0m\u001b[0;34m[\u001b[0m\u001b[0mcfg\u001b[0m\u001b[0;34m[\u001b[0m\u001b[0;34m'env_name'\u001b[0m\u001b[0;34m]\u001b[0m\u001b[0;34m]\u001b[0m\u001b[0;34m\u001b[0m\u001b[0;34m\u001b[0m\u001b[0m\n",
      "\u001b[0;31mNameError\u001b[0m: name 'RunConfiguration' is not defined"
     ]
    }
   ],
   "source": [
    "# create run config\n",
    "run_config = RunConfiguration()\n",
    "run_config.environment = ws.environments[cfg['env_name']]"
   ]
  },
  {
   "cell_type": "markdown",
   "metadata": {},
   "source": [
    "### Define PipelineData Objects"
   ]
  },
  {
   "cell_type": "code",
   "execution_count": 2,
   "metadata": {},
   "outputs": [
    {
     "ename": "NameError",
     "evalue": "name 'ws' is not defined",
     "output_type": "error",
     "traceback": [
      "\u001b[0;31m---------------------------------------------------------------------------\u001b[0m",
      "\u001b[0;31mNameError\u001b[0m                                 Traceback (most recent call last)",
      "\u001b[0;32m<ipython-input-2-24a3874c395f>\u001b[0m in \u001b[0;36m<module>\u001b[0;34m\u001b[0m\n\u001b[1;32m      1\u001b[0m \u001b[0;31m# input data\u001b[0m\u001b[0;34m\u001b[0m\u001b[0;34m\u001b[0m\u001b[0;34m\u001b[0m\u001b[0m\n\u001b[0;32m----> 2\u001b[0;31m \u001b[0msymptoms_data\u001b[0m \u001b[0;34m=\u001b[0m \u001b[0mws\u001b[0m\u001b[0;34m.\u001b[0m\u001b[0mdatasets\u001b[0m\u001b[0;34m[\u001b[0m\u001b[0;34m'symptomcodes.csv'\u001b[0m\u001b[0;34m]\u001b[0m\u001b[0;34m.\u001b[0m\u001b[0mas_named_input\u001b[0m\u001b[0;34m(\u001b[0m\u001b[0;34m'symptomcodes'\u001b[0m\u001b[0;34m)\u001b[0m\u001b[0;34m\u001b[0m\u001b[0;34m\u001b[0m\u001b[0m\n\u001b[0m\u001b[1;32m      3\u001b[0m \u001b[0mraw_input_data\u001b[0m \u001b[0;34m=\u001b[0m \u001b[0mws\u001b[0m\u001b[0;34m.\u001b[0m\u001b[0mdatasets\u001b[0m\u001b[0;34m[\u001b[0m\u001b[0;34m'ItemResourceData.csv'\u001b[0m\u001b[0;34m]\u001b[0m\u001b[0;34m.\u001b[0m\u001b[0mas_named_input\u001b[0m\u001b[0;34m(\u001b[0m\u001b[0;34m'df_raw'\u001b[0m\u001b[0;34m)\u001b[0m\u001b[0;34m\u001b[0m\u001b[0;34m\u001b[0m\u001b[0m\n\u001b[1;32m      4\u001b[0m \u001b[0;34m\u001b[0m\u001b[0m\n\u001b[1;32m      5\u001b[0m \u001b[0;31m# prepared data\u001b[0m\u001b[0;34m\u001b[0m\u001b[0;34m\u001b[0m\u001b[0;34m\u001b[0m\u001b[0m\n",
      "\u001b[0;31mNameError\u001b[0m: name 'ws' is not defined"
     ]
    }
   ],
   "source": [
    "# input data\n",
    "symptoms_data = ws.datasets['symptomcodes.csv'].as_named_input('symptomcodes')\n",
    "raw_input_data = ws.datasets['ItemResourceData.csv'].as_named_input('df_raw')\n",
    "\n",
    "# prepared data\n",
    "prepared_data = PipelineData(\"prepared_data\", datastore=ws.datastores['workspaceblobstore'], is_directory=True)\n",
    "\n",
    "# preprocessed data\n",
    "preprocessed_data = PipelineData(\"preprocessed_data\", datastore=ws.datastores['workspaceblobstore'], is_directory=True)\n",
    "\n",
    "# # output\n",
    "# pipeline_data = PipelineData(\"pipeline_data\", datastore=ws.datastores['workspaceblobstore'], is_directory=False)\n",
    "# trained_classifier = PipelineData(\"trained_classifier\", datastore=ws.datastores['workspaceblobstore'], is_directory=False)\n",
    "# trained_regressor = PipelineData(\"trained_regressor\", datastore=ws.datastores['workspaceblobstore'], is_directory=False)"
   ]
  },
  {
   "cell_type": "markdown",
   "metadata": {},
   "source": [
    "### Define Pipeline Steps"
   ]
  },
  {
   "cell_type": "code",
   "execution_count": null,
   "metadata": {},
   "outputs": [],
   "source": [
    "prepare_step = PythonScriptStep(script_name='prepare.py', source_directory='src',\n",
    "                                inputs=[symptoms_data, raw_input_data], outputs=[prepared_data],\n",
    "                                arguments=['--output', prepared_data],\n",
    "                                compute_target=ws.compute_targets['mlcompute'], runconfig=run_config, allow_reuse=True)"
   ]
  },
  {
   "cell_type": "code",
   "execution_count": null,
   "metadata": {},
   "outputs": [],
   "source": [
    "preprocess_step = PythonScriptStep(script_name='preprocess.py', source_directory='src',\n",
    "                                inputs=[prepared_data], outputs=[preprocessed_data],\n",
    "                                arguments=['--input', prepared_data, '--output', preprocessed_data],\n",
    "                                compute_target=ws.compute_targets['mlcompute'], runconfig=run_config, allow_reuse=True)"
   ]
  },
  {
   "cell_type": "code",
   "execution_count": null,
   "metadata": {},
   "outputs": [],
   "source": [
    "train_step = PythonScriptStep(script_name='train.py', source_directory='src',\n",
    "                                inputs=[preprocessed_data], arguments=['--input', preprocessed_data],\n",
    "                                compute_target=ws.compute_targets['mlcompute'], runconfig=run_config, allow_reuse=True)"
   ]
  },
  {
   "cell_type": "code",
   "execution_count": null,
   "metadata": {},
   "outputs": [],
   "source": [
    "deploy_step = PythonScriptStep(script_name='deploy.py', source_directory='src',\n",
    "                               compute_target=ws.compute_targets['mlcompute'], runconfig=run_config, allow_reuse=True)"
   ]
  },
  {
   "cell_type": "markdown",
   "metadata": {},
   "source": [
    "### Create Pipeline"
   ]
  },
  {
   "cell_type": "code",
   "execution_count": null,
   "metadata": {},
   "outputs": [],
   "source": [
    "pipeline = Pipeline(ws, StepSequence([[prepare_step, preprocess_step, train_step], deploy_step]))"
   ]
  },
  {
   "cell_type": "markdown",
   "metadata": {},
   "source": [
    "## Run Experiment"
   ]
  },
  {
   "cell_type": "code",
   "execution_count": null,
   "metadata": {},
   "outputs": [],
   "source": [
    "exp = Experiment(ws, cfg['experiment_name'])\n",
    "run = exp.submit(pipeline)\n",
    "run.wait_for_completion(show_output=True)"
   ]
  }
 ],
 "metadata": {
  "kernelspec": {
   "display_name": "Python 3.6 - AzureML",
   "language": "python",
   "name": "python3-azureml"
  },
  "language_info": {
   "codemirror_mode": {
    "name": "ipython",
    "version": 3
   },
   "file_extension": ".py",
   "mimetype": "text/x-python",
   "name": "python",
   "nbconvert_exporter": "python",
   "pygments_lexer": "ipython3",
   "version": "3.6.9"
  }
 },
 "nbformat": 4,
 "nbformat_minor": 2
}
