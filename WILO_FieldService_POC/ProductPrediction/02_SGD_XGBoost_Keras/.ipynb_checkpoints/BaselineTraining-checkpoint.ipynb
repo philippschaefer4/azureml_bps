{
 "cells": [
  {
   "cell_type": "code",
   "execution_count": 24,
   "metadata": {},
   "outputs": [],
   "source": [
    "import pandas as pd \n",
    "import numpy as np\n",
    "\n",
    "from sklearn.model_selection import train_test_split\n",
    "from sklearn.preprocessing import OneHotEncoder, LabelEncoder\n",
    "from sklearn.linear_model import SGDClassifier\n",
    "from sklearn.decomposition import PCA\n",
    "from sklearn.multioutput import MultiOutputClassifier\n",
    "from sklearn.multiclass import OneVsRestClassifier\n",
    "from sklearn.metrics import hamming_loss\n",
    "from sklearn.metrics import zero_one_loss\n",
    "\n",
    "from xgboost import XGBClassifier"
   ]
  },
  {
   "cell_type": "code",
   "execution_count": 2,
   "metadata": {},
   "outputs": [
    {
     "name": "stdout",
     "output_type": "stream",
     "text": [
      "2250\n"
     ]
    },
    {
     "data": {
      "text/html": [
       "<div>\n",
       "<style scoped>\n",
       "    .dataframe tbody tr th:only-of-type {\n",
       "        vertical-align: middle;\n",
       "    }\n",
       "\n",
       "    .dataframe tbody tr th {\n",
       "        vertical-align: top;\n",
       "    }\n",
       "\n",
       "    .dataframe thead th {\n",
       "        text-align: right;\n",
       "    }\n",
       "</style>\n",
       "<table border=\"1\" class=\"dataframe\">\n",
       "  <thead>\n",
       "    <tr style=\"text-align: right;\">\n",
       "      <th></th>\n",
       "      <th>CaseId</th>\n",
       "      <th>base_group_93102</th>\n",
       "      <th>base_group_22601</th>\n",
       "      <th>base_group_41401</th>\n",
       "      <th>base_group_43905</th>\n",
       "      <th>base_group_43101</th>\n",
       "      <th>base_group_43601</th>\n",
       "      <th>base_group_43701</th>\n",
       "      <th>base_group_43602</th>\n",
       "      <th>base_group_43804</th>\n",
       "      <th>...</th>\n",
       "      <th>product_9063530</th>\n",
       "      <th>product_9034301</th>\n",
       "      <th>product_9142096</th>\n",
       "      <th>product_9060581</th>\n",
       "      <th>product_9058779</th>\n",
       "      <th>product_9003518</th>\n",
       "      <th>product_6042313</th>\n",
       "      <th>product_8020084</th>\n",
       "      <th>product_9002950</th>\n",
       "      <th>product_2140106</th>\n",
       "    </tr>\n",
       "  </thead>\n",
       "  <tbody>\n",
       "    <tr>\n",
       "      <th>0</th>\n",
       "      <td>C-AT016226-ASCAL JC01.00</td>\n",
       "      <td>1</td>\n",
       "      <td>0</td>\n",
       "      <td>0</td>\n",
       "      <td>0</td>\n",
       "      <td>0</td>\n",
       "      <td>0</td>\n",
       "      <td>0</td>\n",
       "      <td>0</td>\n",
       "      <td>0</td>\n",
       "      <td>...</td>\n",
       "      <td>0</td>\n",
       "      <td>0</td>\n",
       "      <td>0</td>\n",
       "      <td>0</td>\n",
       "      <td>0</td>\n",
       "      <td>0</td>\n",
       "      <td>0</td>\n",
       "      <td>0</td>\n",
       "      <td>0</td>\n",
       "      <td>0</td>\n",
       "    </tr>\n",
       "    <tr>\n",
       "      <th>1</th>\n",
       "      <td>CAS-190685-Z2R1J6 JC01.00</td>\n",
       "      <td>0</td>\n",
       "      <td>1</td>\n",
       "      <td>0</td>\n",
       "      <td>0</td>\n",
       "      <td>0</td>\n",
       "      <td>0</td>\n",
       "      <td>0</td>\n",
       "      <td>0</td>\n",
       "      <td>0</td>\n",
       "      <td>...</td>\n",
       "      <td>0</td>\n",
       "      <td>0</td>\n",
       "      <td>0</td>\n",
       "      <td>0</td>\n",
       "      <td>0</td>\n",
       "      <td>0</td>\n",
       "      <td>0</td>\n",
       "      <td>0</td>\n",
       "      <td>0</td>\n",
       "      <td>0</td>\n",
       "    </tr>\n",
       "    <tr>\n",
       "      <th>2</th>\n",
       "      <td>CAS-190685-Z2R1J6 JC02.00</td>\n",
       "      <td>0</td>\n",
       "      <td>1</td>\n",
       "      <td>0</td>\n",
       "      <td>0</td>\n",
       "      <td>0</td>\n",
       "      <td>0</td>\n",
       "      <td>0</td>\n",
       "      <td>0</td>\n",
       "      <td>0</td>\n",
       "      <td>...</td>\n",
       "      <td>0</td>\n",
       "      <td>0</td>\n",
       "      <td>0</td>\n",
       "      <td>0</td>\n",
       "      <td>0</td>\n",
       "      <td>0</td>\n",
       "      <td>0</td>\n",
       "      <td>0</td>\n",
       "      <td>0</td>\n",
       "      <td>0</td>\n",
       "    </tr>\n",
       "    <tr>\n",
       "      <th>3</th>\n",
       "      <td>CAS-191701-H5C4N6 JC01.00</td>\n",
       "      <td>0</td>\n",
       "      <td>1</td>\n",
       "      <td>0</td>\n",
       "      <td>0</td>\n",
       "      <td>0</td>\n",
       "      <td>0</td>\n",
       "      <td>0</td>\n",
       "      <td>0</td>\n",
       "      <td>0</td>\n",
       "      <td>...</td>\n",
       "      <td>0</td>\n",
       "      <td>0</td>\n",
       "      <td>0</td>\n",
       "      <td>0</td>\n",
       "      <td>0</td>\n",
       "      <td>0</td>\n",
       "      <td>0</td>\n",
       "      <td>0</td>\n",
       "      <td>0</td>\n",
       "      <td>0</td>\n",
       "    </tr>\n",
       "    <tr>\n",
       "      <th>4</th>\n",
       "      <td>CAS-193393-C8C7V1 JC02.00</td>\n",
       "      <td>0</td>\n",
       "      <td>1</td>\n",
       "      <td>0</td>\n",
       "      <td>0</td>\n",
       "      <td>0</td>\n",
       "      <td>0</td>\n",
       "      <td>0</td>\n",
       "      <td>0</td>\n",
       "      <td>0</td>\n",
       "      <td>...</td>\n",
       "      <td>0</td>\n",
       "      <td>0</td>\n",
       "      <td>0</td>\n",
       "      <td>0</td>\n",
       "      <td>0</td>\n",
       "      <td>0</td>\n",
       "      <td>0</td>\n",
       "      <td>0</td>\n",
       "      <td>0</td>\n",
       "      <td>0</td>\n",
       "    </tr>\n",
       "  </tbody>\n",
       "</table>\n",
       "<p>5 rows × 1679 columns</p>\n",
       "</div>"
      ],
      "text/plain": [
       "                      CaseId  base_group_93102  base_group_22601  \\\n",
       "0   C-AT016226-ASCAL JC01.00                 1                 0   \n",
       "1  CAS-190685-Z2R1J6 JC01.00                 0                 1   \n",
       "2  CAS-190685-Z2R1J6 JC02.00                 0                 1   \n",
       "3  CAS-191701-H5C4N6 JC01.00                 0                 1   \n",
       "4  CAS-193393-C8C7V1 JC02.00                 0                 1   \n",
       "\n",
       "   base_group_41401  base_group_43905  base_group_43101  base_group_43601  \\\n",
       "0                 0                 0                 0                 0   \n",
       "1                 0                 0                 0                 0   \n",
       "2                 0                 0                 0                 0   \n",
       "3                 0                 0                 0                 0   \n",
       "4                 0                 0                 0                 0   \n",
       "\n",
       "   base_group_43701  base_group_43602  base_group_43804       ...         \\\n",
       "0                 0                 0                 0       ...          \n",
       "1                 0                 0                 0       ...          \n",
       "2                 0                 0                 0       ...          \n",
       "3                 0                 0                 0       ...          \n",
       "4                 0                 0                 0       ...          \n",
       "\n",
       "   product_9063530  product_9034301  product_9142096  product_9060581  \\\n",
       "0                0                0                0                0   \n",
       "1                0                0                0                0   \n",
       "2                0                0                0                0   \n",
       "3                0                0                0                0   \n",
       "4                0                0                0                0   \n",
       "\n",
       "   product_9058779  product_9003518  product_6042313  product_8020084  \\\n",
       "0                0                0                0                0   \n",
       "1                0                0                0                0   \n",
       "2                0                0                0                0   \n",
       "3                0                0                0                0   \n",
       "4                0                0                0                0   \n",
       "\n",
       "   product_9002950  product_2140106  \n",
       "0                0                0  \n",
       "1                0                0  \n",
       "2                0                0  \n",
       "3                0                0  \n",
       "4                0                0  \n",
       "\n",
       "[5 rows x 1679 columns]"
      ]
     },
     "execution_count": 2,
     "metadata": {},
     "output_type": "execute_result"
    }
   ],
   "source": [
    "df = pd.read_csv('WILO_traindata.csv', sep=';', header=0)\n",
    "print(len(df))\n",
    "df.head()"
   ]
  },
  {
   "cell_type": "code",
   "execution_count": 3,
   "metadata": {},
   "outputs": [],
   "source": [
    "# for c in df.columns:\n",
    "#     print(c)"
   ]
  },
  {
   "cell_type": "markdown",
   "metadata": {},
   "source": [
    "### Feature / Target Split"
   ]
  },
  {
   "cell_type": "code",
   "execution_count": 4,
   "metadata": {},
   "outputs": [],
   "source": [
    "X = df.drop([ c for c in df.columns if c.startswith('product_')], axis=1).drop(['CaseId'], axis=1).values\n",
    "y = df[[ c for c in df.columns if c.startswith('product_')]].values"
   ]
  },
  {
   "cell_type": "code",
   "execution_count": 69,
   "metadata": {},
   "outputs": [],
   "source": [
    "y_clean = []\n",
    "# remove columns with too few entries for target\n",
    "for i in range(y.shape[1]):\n",
    "    if y[:,i].sum() >= 5:\n",
    "        y_clean.append(y[:,i])\n",
    "y_clean = np.transpose(np.array(y_clean))"
   ]
  },
  {
   "cell_type": "code",
   "execution_count": 77,
   "metadata": {},
   "outputs": [
    {
     "data": {
      "text/plain": [
       "(2250, 77)"
      ]
     },
     "execution_count": 77,
     "metadata": {},
     "output_type": "execute_result"
    }
   ],
   "source": [
    "y_clean.shape"
   ]
  },
  {
   "cell_type": "code",
   "execution_count": 5,
   "metadata": {},
   "outputs": [],
   "source": [
    "# n = []\n",
    "# for comp in range(1,1100, 10):\n",
    "#     pca = PCA(n_components=comp)\n",
    "#     X_tr = pca.fit_transform(X)\n",
    "#     n.append([comp, pca.explained_variance_ratio_.sum()])"
   ]
  },
  {
   "cell_type": "code",
   "execution_count": 6,
   "metadata": {},
   "outputs": [],
   "source": [
    "# import matplotlib.pyplot as plt\n",
    "# plt.scatter(np.array(n)[:,0], np.array(n)[:,1])"
   ]
  },
  {
   "cell_type": "code",
   "execution_count": 78,
   "metadata": {},
   "outputs": [
    {
     "data": {
      "text/plain": [
       "0.802491632163482"
      ]
     },
     "execution_count": 78,
     "metadata": {},
     "output_type": "execute_result"
    }
   ],
   "source": [
    "pca = PCA(n_components=150)\n",
    "X_tr = pca.fit_transform(X)\n",
    "pca.explained_variance_ratio_.sum()"
   ]
  },
  {
   "cell_type": "markdown",
   "metadata": {},
   "source": [
    "### Train Test Split\n",
    "\n",
    "##### Idee/Bedenken: evtl Zeitreihe --> nicht train-test-split sd. \"neueste\" Datensätze"
   ]
  },
  {
   "cell_type": "code",
   "execution_count": 79,
   "metadata": {},
   "outputs": [],
   "source": [
    "X_train, X_test, y_train, y_test = train_test_split(X_tr, y_clean, test_size=0.1, random_state=42)"
   ]
  },
  {
   "cell_type": "code",
   "execution_count": 80,
   "metadata": {},
   "outputs": [
    {
     "data": {
      "text/plain": [
       "0"
      ]
     },
     "execution_count": 80,
     "metadata": {},
     "output_type": "execute_result"
    }
   ],
   "source": [
    "y_test[:,64].sum()"
   ]
  },
  {
   "cell_type": "code",
   "execution_count": 82,
   "metadata": {},
   "outputs": [],
   "source": [
    "for i in range(y_train.shape[1]):\n",
    "    if y_train[:,i].sum() == 0:\n",
    "        print('###########')\n",
    "        print(i)\n",
    "        print(y_train[:,i].sum())\n",
    "        print(y_test[:,i].sum())\n",
    "        print('###########')"
   ]
  },
  {
   "cell_type": "code",
   "execution_count": 83,
   "metadata": {},
   "outputs": [
    {
     "name": "stdout",
     "output_type": "stream",
     "text": [
      "###########\n",
      "24\n",
      "0\n",
      "8\n",
      "###########\n",
      "###########\n",
      "25\n",
      "0\n",
      "25\n",
      "###########\n",
      "###########\n",
      "27\n",
      "0\n",
      "7\n",
      "###########\n",
      "###########\n",
      "28\n",
      "0\n",
      "5\n",
      "###########\n",
      "###########\n",
      "32\n",
      "0\n",
      "10\n",
      "###########\n",
      "###########\n",
      "34\n",
      "0\n",
      "7\n",
      "###########\n",
      "###########\n",
      "35\n",
      "0\n",
      "16\n",
      "###########\n",
      "###########\n",
      "36\n",
      "0\n",
      "7\n",
      "###########\n",
      "###########\n",
      "38\n",
      "0\n",
      "7\n",
      "###########\n",
      "###########\n",
      "39\n",
      "0\n",
      "5\n",
      "###########\n",
      "###########\n",
      "43\n",
      "0\n",
      "6\n",
      "###########\n",
      "###########\n",
      "44\n",
      "0\n",
      "9\n",
      "###########\n",
      "###########\n",
      "53\n",
      "0\n",
      "10\n",
      "###########\n",
      "###########\n",
      "58\n",
      "0\n",
      "5\n",
      "###########\n",
      "###########\n",
      "59\n",
      "0\n",
      "7\n",
      "###########\n",
      "###########\n",
      "60\n",
      "0\n",
      "7\n",
      "###########\n",
      "###########\n",
      "61\n",
      "0\n",
      "10\n",
      "###########\n",
      "###########\n",
      "62\n",
      "0\n",
      "9\n",
      "###########\n",
      "###########\n",
      "64\n",
      "0\n",
      "6\n",
      "###########\n",
      "###########\n",
      "65\n",
      "0\n",
      "5\n",
      "###########\n",
      "###########\n",
      "66\n",
      "0\n",
      "7\n",
      "###########\n",
      "###########\n",
      "67\n",
      "0\n",
      "7\n",
      "###########\n",
      "###########\n",
      "72\n",
      "0\n",
      "7\n",
      "###########\n",
      "###########\n",
      "73\n",
      "0\n",
      "5\n",
      "###########\n",
      "###########\n",
      "76\n",
      "0\n",
      "5\n",
      "###########\n"
     ]
    }
   ],
   "source": [
    "for i in range(y_test.shape[1]):\n",
    "    if y_test[:,i].sum() == 0:\n",
    "        print('###########')\n",
    "        print(i)\n",
    "        print(y_test[:,i].sum())\n",
    "        print(y_train[:,i].sum())\n",
    "        print('###########')"
   ]
  },
  {
   "cell_type": "markdown",
   "metadata": {},
   "source": [
    "## Train"
   ]
  },
  {
   "cell_type": "markdown",
   "metadata": {},
   "source": [
    "### SGD Classifier"
   ]
  },
  {
   "cell_type": "code",
   "execution_count": 84,
   "metadata": {},
   "outputs": [
    {
     "data": {
      "text/plain": [
       "MultiOutputClassifier(estimator=SGDClassifier(alpha=0.0001, average=False, class_weight=None,\n",
       "       early_stopping=False, epsilon=0.1, eta0=0.0, fit_intercept=True,\n",
       "       l1_ratio=0.15, learning_rate='optimal', loss='hinge', max_iter=1000,\n",
       "       n_iter=None, n_iter_no_change=5, n_jobs=None, penalty='l2',\n",
       "       power_t=0.5, random_state=None, shuffle=True, tol=0.001,\n",
       "       validation_fraction=0.1, verbose=0, warm_start=False),\n",
       "           n_jobs=None)"
      ]
     },
     "execution_count": 84,
     "metadata": {},
     "output_type": "execute_result"
    }
   ],
   "source": [
    "clf = MultiOutputClassifier(SGDClassifier(max_iter=1000, tol=1e-3)) # n_jobs\n",
    "clf.fit(X_train,y_train)"
   ]
  },
  {
   "cell_type": "code",
   "execution_count": 86,
   "metadata": {},
   "outputs": [],
   "source": [
    "y_pred = clf.predict(X_test)"
   ]
  },
  {
   "cell_type": "markdown",
   "metadata": {},
   "source": [
    "### Evaluation"
   ]
  },
  {
   "cell_type": "code",
   "execution_count": 88,
   "metadata": {
    "scrolled": true
   },
   "outputs": [
    {
     "data": {
      "text/plain": [
       "0.7111111111111111"
      ]
     },
     "execution_count": 88,
     "metadata": {},
     "output_type": "execute_result"
    }
   ],
   "source": [
    "zero_one_loss(y_test, y_pred)"
   ]
  },
  {
   "cell_type": "code",
   "execution_count": 89,
   "metadata": {},
   "outputs": [
    {
     "data": {
      "text/plain": [
       "0.01927849927849928"
      ]
     },
     "execution_count": 89,
     "metadata": {},
     "output_type": "execute_result"
    }
   ],
   "source": [
    "hamming_loss(y_test,y_pred)"
   ]
  },
  {
   "cell_type": "markdown",
   "metadata": {},
   "source": [
    "### XGBoost"
   ]
  },
  {
   "cell_type": "code",
   "execution_count": 92,
   "metadata": {},
   "outputs": [],
   "source": [
    "from xgboost import XGBClassifier"
   ]
  },
  {
   "cell_type": "code",
   "execution_count": 94,
   "metadata": {},
   "outputs": [
    {
     "data": {
      "text/plain": [
       "MultiOutputClassifier(estimator=XGBClassifier(base_score=None, booster=None, colsample_bylevel=None,\n",
       "       colsample_bynode=None, colsample_bytree=None, gamma=None,\n",
       "       gpu_id=None, importance_type='gain', interaction_constraints=None,\n",
       "       learning_rate=None, max_delta_step=None, max_depth=4,\n",
       "       min_child_weig..._pos_weight=None, subsample=None,\n",
       "       tree_method=None, validate_parameters=None, verbosity=None),\n",
       "           n_jobs=None)"
      ]
     },
     "execution_count": 94,
     "metadata": {},
     "output_type": "execute_result"
    }
   ],
   "source": [
    "clf = MultiOutputClassifier(XGBClassifier(n_jobs=-1, max_depth=4))\n",
    "clf.fit(X_train,y_train)"
   ]
  },
  {
   "cell_type": "code",
   "execution_count": 95,
   "metadata": {},
   "outputs": [],
   "source": [
    "y_pred = clf.predict(X_test)"
   ]
  },
  {
   "cell_type": "code",
   "execution_count": 96,
   "metadata": {},
   "outputs": [
    {
     "data": {
      "text/plain": [
       "0.6622222222222223"
      ]
     },
     "execution_count": 96,
     "metadata": {},
     "output_type": "execute_result"
    }
   ],
   "source": [
    "zero_one_loss(y_test, y_pred)"
   ]
  },
  {
   "cell_type": "code",
   "execution_count": 97,
   "metadata": {
    "scrolled": true
   },
   "outputs": [
    {
     "data": {
      "text/plain": [
       "0.019567099567099566"
      ]
     },
     "execution_count": 97,
     "metadata": {},
     "output_type": "execute_result"
    }
   ],
   "source": [
    "hamming_loss(y_test,y_pred)"
   ]
  },
  {
   "cell_type": "code",
   "execution_count": null,
   "metadata": {},
   "outputs": [],
   "source": []
  },
  {
   "cell_type": "markdown",
   "metadata": {},
   "source": [
    "### SGD Classifier"
   ]
  },
  {
   "cell_type": "code",
   "execution_count": 99,
   "metadata": {},
   "outputs": [],
   "source": []
  },
  {
   "cell_type": "code",
   "execution_count": 103,
   "metadata": {},
   "outputs": [
    {
     "data": {
      "text/plain": [
       "OneVsRestClassifier(estimator=SGDClassifier(alpha=0.0001, average=False, class_weight=None,\n",
       "       early_stopping=False, epsilon=0.1, eta0=0.0, fit_intercept=True,\n",
       "       l1_ratio=0.15, learning_rate='optimal', loss='hinge', max_iter=1000,\n",
       "       n_iter=None, n_iter_no_change=5, n_jobs=None, penalty='l2',\n",
       "       power_t=0.5, random_state=None, shuffle=True, tol=0.001,\n",
       "       validation_fraction=0.1, verbose=0, warm_start=False),\n",
       "          n_jobs=None)"
      ]
     },
     "execution_count": 103,
     "metadata": {},
     "output_type": "execute_result"
    }
   ],
   "source": [
    "clf = OneVsRestClassifier(SGDClassifier(max_iter=1000, tol=1e-3)) # n_jobs\n",
    "clf.fit(X_train,y_train)"
   ]
  },
  {
   "cell_type": "code",
   "execution_count": 104,
   "metadata": {},
   "outputs": [],
   "source": [
    "y_pred = clf.predict(X_test)"
   ]
  },
  {
   "cell_type": "markdown",
   "metadata": {},
   "source": [
    "### Evaluation"
   ]
  },
  {
   "cell_type": "code",
   "execution_count": 105,
   "metadata": {
    "scrolled": true
   },
   "outputs": [
    {
     "data": {
      "text/plain": [
       "0.6888888888888889"
      ]
     },
     "execution_count": 105,
     "metadata": {},
     "output_type": "execute_result"
    }
   ],
   "source": [
    "zero_one_loss(y_test, y_pred)"
   ]
  },
  {
   "cell_type": "code",
   "execution_count": 106,
   "metadata": {},
   "outputs": [
    {
     "data": {
      "text/plain": [
       "0.019105339105339104"
      ]
     },
     "execution_count": 106,
     "metadata": {},
     "output_type": "execute_result"
    }
   ],
   "source": [
    "hamming_loss(y_test,y_pred)"
   ]
  },
  {
   "cell_type": "markdown",
   "metadata": {},
   "source": [
    "### XGBoost"
   ]
  },
  {
   "cell_type": "code",
   "execution_count": 108,
   "metadata": {},
   "outputs": [
    {
     "data": {
      "text/plain": [
       "OneVsRestClassifier(estimator=XGBClassifier(base_score=None, booster=None, colsample_bylevel=None,\n",
       "       colsample_bynode=None, colsample_bytree=None, gamma=None,\n",
       "       gpu_id=None, importance_type='gain', interaction_constraints=None,\n",
       "       learning_rate=None, max_delta_step=None, max_depth=4,\n",
       "       min_child_weig..._pos_weight=None, subsample=None,\n",
       "       tree_method=None, validate_parameters=None, verbosity=None),\n",
       "          n_jobs=None)"
      ]
     },
     "execution_count": 108,
     "metadata": {},
     "output_type": "execute_result"
    }
   ],
   "source": [
    "clf = OneVsRestClassifier(XGBClassifier(n_jobs=-1, max_depth=4))\n",
    "clf.fit(X_train,y_train)"
   ]
  },
  {
   "cell_type": "code",
   "execution_count": 109,
   "metadata": {},
   "outputs": [],
   "source": [
    "y_pred = clf.predict(X_test)"
   ]
  },
  {
   "cell_type": "code",
   "execution_count": 110,
   "metadata": {},
   "outputs": [
    {
     "data": {
      "text/plain": [
       "0.6622222222222223"
      ]
     },
     "execution_count": 110,
     "metadata": {},
     "output_type": "execute_result"
    }
   ],
   "source": [
    "zero_one_loss(y_test, y_pred)"
   ]
  },
  {
   "cell_type": "code",
   "execution_count": 111,
   "metadata": {
    "scrolled": true
   },
   "outputs": [
    {
     "data": {
      "text/plain": [
       "0.019567099567099566"
      ]
     },
     "execution_count": 111,
     "metadata": {},
     "output_type": "execute_result"
    }
   ],
   "source": [
    "hamming_loss(y_test,y_pred)"
   ]
  },
  {
   "cell_type": "markdown",
   "metadata": {},
   "source": [
    "### Keras"
   ]
  },
  {
   "cell_type": "code",
   "execution_count": 114,
   "metadata": {},
   "outputs": [],
   "source": [
    "X_train, X_test, y_train, y_test = train_test_split(X, y_clean, test_size=0.1, random_state=42)"
   ]
  },
  {
   "cell_type": "code",
   "execution_count": 116,
   "metadata": {},
   "outputs": [
    {
     "data": {
      "text/plain": [
       "(225, 77)"
      ]
     },
     "execution_count": 116,
     "metadata": {},
     "output_type": "execute_result"
    }
   ],
   "source": [
    "y_test.shape"
   ]
  },
  {
   "cell_type": "code",
   "execution_count": null,
   "metadata": {},
   "outputs": [],
   "source": [
    "# pip install tensorflow-gpu"
   ]
  },
  {
   "cell_type": "code",
   "execution_count": 118,
   "metadata": {},
   "outputs": [],
   "source": [
    "import numpy as np\n",
    "import tensorflow as tf\n",
    "from tensorflow import keras\n",
    "from tensorflow.keras.layers import Input, Dense"
   ]
  },
  {
   "cell_type": "code",
   "execution_count": 119,
   "metadata": {},
   "outputs": [],
   "source": [
    "inputs = Input(shape=(X_train.shape[1],))\n",
    "\n",
    "# x = Dense(1024, activation='relu')(inputs)\n",
    "x = Dense(512, activation='relu')(inputs)\n",
    "x = Dense(256, activation='relu')(x)\n",
    "x = Dense(128, activation='relu')(x)\n",
    "x = Dense(64, activation='relu')(x)\n",
    "x = Dense(32, activation='relu')(x)\n",
    "\n",
    "outputs = Dense(y_train.shape[1], activation='sigmoid')(x)"
   ]
  },
  {
   "cell_type": "code",
   "execution_count": 120,
   "metadata": {},
   "outputs": [
    {
     "name": "stdout",
     "output_type": "stream",
     "text": [
      "Model: \"model\"\n",
      "_________________________________________________________________\n",
      "Layer (type)                 Output Shape              Param #   \n",
      "=================================================================\n",
      "input_1 (InputLayer)         [(None, 1171)]            0         \n",
      "_________________________________________________________________\n",
      "dense (Dense)                (None, 512)               600064    \n",
      "_________________________________________________________________\n",
      "dense_1 (Dense)              (None, 256)               131328    \n",
      "_________________________________________________________________\n",
      "dense_2 (Dense)              (None, 128)               32896     \n",
      "_________________________________________________________________\n",
      "dense_3 (Dense)              (None, 64)                8256      \n",
      "_________________________________________________________________\n",
      "dense_4 (Dense)              (None, 32)                2080      \n",
      "_________________________________________________________________\n",
      "dense_5 (Dense)              (None, 77)                2541      \n",
      "=================================================================\n",
      "Total params: 777,165\n",
      "Trainable params: 777,165\n",
      "Non-trainable params: 0\n",
      "_________________________________________________________________\n"
     ]
    }
   ],
   "source": [
    "model = keras.Model(inputs=inputs, outputs=outputs)\n",
    "model.summary()"
   ]
  },
  {
   "cell_type": "code",
   "execution_count": 139,
   "metadata": {},
   "outputs": [
    {
     "name": "stdout",
     "output_type": "stream",
     "text": [
      "Epoch 1/100\n",
      "32/32 [==============================] - 0s 13ms/step - loss: 0.0323 - accuracy: 0.6044\n",
      "Epoch 2/100\n",
      "32/32 [==============================] - 0s 13ms/step - loss: 0.0244 - accuracy: 0.6598\n",
      "Epoch 3/100\n",
      "32/32 [==============================] - 0s 13ms/step - loss: 0.0219 - accuracy: 0.6701\n",
      "Epoch 4/100\n",
      "32/32 [==============================] - 0s 13ms/step - loss: 0.0199 - accuracy: 0.6736\n",
      "Epoch 5/100\n",
      "32/32 [==============================] - 0s 14ms/step - loss: 0.0188 - accuracy: 0.6677\n",
      "Epoch 6/100\n",
      "32/32 [==============================] - 0s 14ms/step - loss: 0.0177 - accuracy: 0.6859\n",
      "Epoch 7/100\n",
      "32/32 [==============================] - 0s 13ms/step - loss: 0.0168 - accuracy: 0.6800\n",
      "Epoch 8/100\n",
      "32/32 [==============================] - 0s 13ms/step - loss: 0.0164 - accuracy: 0.6874\n",
      "Epoch 9/100\n",
      "32/32 [==============================] - 0s 13ms/step - loss: 0.0159 - accuracy: 0.6899\n",
      "Epoch 10/100\n",
      "32/32 [==============================] - 0s 13ms/step - loss: 0.0155 - accuracy: 0.6825\n",
      "Epoch 11/100\n",
      "32/32 [==============================] - 0s 13ms/step - loss: 0.0152 - accuracy: 0.6909\n",
      "Epoch 12/100\n",
      "32/32 [==============================] - 0s 14ms/step - loss: 0.0149 - accuracy: 0.6943 0s - loss: 0.0145 - accuracy\n",
      "Epoch 13/100\n",
      "32/32 [==============================] - 0s 14ms/step - loss: 0.0146 - accuracy: 0.6859\n",
      "Epoch 14/100\n",
      "32/32 [==============================] - 0s 15ms/step - loss: 0.0145 - accuracy: 0.6963\n",
      "Epoch 15/100\n",
      "32/32 [==============================] - 0s 15ms/step - loss: 0.0141 - accuracy: 0.6923\n",
      "Epoch 16/100\n",
      "32/32 [==============================] - 0s 13ms/step - loss: 0.0139 - accuracy: 0.6820\n",
      "Epoch 17/100\n",
      "32/32 [==============================] - 0s 15ms/step - loss: 0.0139 - accuracy: 0.6943\n",
      "Epoch 18/100\n",
      "32/32 [==============================] - 0s 14ms/step - loss: 0.0138 - accuracy: 0.6820\n",
      "Epoch 19/100\n",
      "32/32 [==============================] - 0s 14ms/step - loss: 0.0135 - accuracy: 0.6923\n",
      "Epoch 20/100\n",
      "32/32 [==============================] - 0s 14ms/step - loss: 0.0135 - accuracy: 0.6874\n",
      "Epoch 21/100\n",
      "32/32 [==============================] - 0s 13ms/step - loss: 0.0134 - accuracy: 0.6869\n",
      "Epoch 22/100\n",
      "32/32 [==============================] - 0s 14ms/step - loss: 0.0133 - accuracy: 0.6790\n",
      "Epoch 23/100\n",
      "32/32 [==============================] - 0s 14ms/step - loss: 0.0132 - accuracy: 0.6835\n",
      "Epoch 24/100\n",
      "32/32 [==============================] - 0s 13ms/step - loss: 0.0132 - accuracy: 0.7012\n",
      "Epoch 25/100\n",
      "32/32 [==============================] - 0s 15ms/step - loss: 0.0131 - accuracy: 0.6820\n",
      "Epoch 26/100\n",
      "32/32 [==============================] - 0s 14ms/step - loss: 0.0130 - accuracy: 0.6844\n",
      "Epoch 27/100\n",
      "32/32 [==============================] - 0s 14ms/step - loss: 0.0130 - accuracy: 0.6879\n",
      "Epoch 28/100\n",
      "32/32 [==============================] - 0s 15ms/step - loss: 0.0130 - accuracy: 0.6968\n",
      "Epoch 29/100\n",
      "32/32 [==============================] - 0s 14ms/step - loss: 0.0129 - accuracy: 0.6938\n",
      "Epoch 30/100\n",
      "32/32 [==============================] - 0s 14ms/step - loss: 0.0127 - accuracy: 0.6909\n",
      "Epoch 31/100\n",
      "32/32 [==============================] - 0s 14ms/step - loss: 0.0128 - accuracy: 0.6998\n",
      "Epoch 32/100\n",
      "32/32 [==============================] - 0s 14ms/step - loss: 0.0127 - accuracy: 0.6938\n",
      "Epoch 33/100\n",
      "32/32 [==============================] - 0s 14ms/step - loss: 0.0127 - accuracy: 0.7032\n",
      "Epoch 34/100\n",
      "32/32 [==============================] - 0s 14ms/step - loss: 0.0126 - accuracy: 0.6795\n",
      "Epoch 35/100\n",
      "32/32 [==============================] - 0s 14ms/step - loss: 0.0126 - accuracy: 0.6988\n",
      "Epoch 36/100\n",
      "32/32 [==============================] - 0s 14ms/step - loss: 0.0125 - accuracy: 0.6958\n",
      "Epoch 37/100\n",
      "32/32 [==============================] - 0s 14ms/step - loss: 0.0126 - accuracy: 0.6899\n",
      "Epoch 38/100\n",
      "32/32 [==============================] - 0s 14ms/step - loss: 0.0125 - accuracy: 0.6765\n",
      "Epoch 39/100\n",
      "32/32 [==============================] - 0s 14ms/step - loss: 0.0125 - accuracy: 0.7012\n",
      "Epoch 40/100\n",
      "32/32 [==============================] - 0s 14ms/step - loss: 0.0124 - accuracy: 0.7111\n",
      "Epoch 41/100\n",
      "32/32 [==============================] - 0s 14ms/step - loss: 0.0123 - accuracy: 0.7081\n",
      "Epoch 42/100\n",
      "32/32 [==============================] - 0s 15ms/step - loss: 0.0123 - accuracy: 0.6919\n",
      "Epoch 43/100\n",
      "32/32 [==============================] - 0s 15ms/step - loss: 0.0121 - accuracy: 0.7022\n",
      "Epoch 44/100\n",
      "32/32 [==============================] - 1s 20ms/step - loss: 0.0122 - accuracy: 0.6978\n",
      "Epoch 45/100\n",
      "32/32 [==============================] - 1s 17ms/step - loss: 0.0123 - accuracy: 0.6938\n",
      "Epoch 46/100\n",
      "32/32 [==============================] - 0s 14ms/step - loss: 0.0122 - accuracy: 0.6953 0s - loss: 0.0111 - accuracy\n",
      "Epoch 47/100\n",
      "32/32 [==============================] - 0s 13ms/step - loss: 0.0122 - accuracy: 0.7022\n",
      "Epoch 48/100\n",
      "32/32 [==============================] - 0s 13ms/step - loss: 0.0121 - accuracy: 0.7101\n",
      "Epoch 49/100\n",
      "32/32 [==============================] - 0s 13ms/step - loss: 0.0123 - accuracy: 0.7042\n",
      "Epoch 50/100\n",
      "32/32 [==============================] - 0s 13ms/step - loss: 0.0121 - accuracy: 0.6928\n",
      "Epoch 51/100\n",
      "32/32 [==============================] - 1s 16ms/step - loss: 0.0121 - accuracy: 0.7116\n",
      "Epoch 52/100\n",
      "32/32 [==============================] - 0s 15ms/step - loss: 0.0122 - accuracy: 0.7086\n",
      "Epoch 53/100\n",
      "32/32 [==============================] - 0s 14ms/step - loss: 0.0121 - accuracy: 0.7156\n",
      "Epoch 54/100\n",
      "32/32 [==============================] - 0s 13ms/step - loss: 0.0120 - accuracy: 0.6795\n",
      "Epoch 55/100\n",
      "32/32 [==============================] - 1s 16ms/step - loss: 0.0121 - accuracy: 0.7180\n",
      "Epoch 56/100\n",
      "32/32 [==============================] - 0s 12ms/step - loss: 0.0120 - accuracy: 0.6983\n",
      "Epoch 57/100\n",
      "32/32 [==============================] - 0s 12ms/step - loss: 0.0118 - accuracy: 0.7077\n",
      "Epoch 58/100\n",
      "32/32 [==============================] - 0s 12ms/step - loss: 0.0120 - accuracy: 0.6919\n",
      "Epoch 59/100\n",
      "32/32 [==============================] - 0s 12ms/step - loss: 0.0119 - accuracy: 0.6899\n",
      "Epoch 60/100\n",
      "32/32 [==============================] - 0s 12ms/step - loss: 0.0119 - accuracy: 0.6780\n",
      "Epoch 61/100\n",
      "32/32 [==============================] - 0s 12ms/step - loss: 0.0119 - accuracy: 0.7037\n",
      "Epoch 62/100\n",
      "32/32 [==============================] - 0s 14ms/step - loss: 0.0119 - accuracy: 0.6810\n",
      "Epoch 63/100\n",
      "32/32 [==============================] - 0s 15ms/step - loss: 0.0119 - accuracy: 0.6978\n",
      "Epoch 64/100\n",
      "32/32 [==============================] - 1s 17ms/step - loss: 0.0118 - accuracy: 0.6963\n",
      "Epoch 65/100\n",
      "32/32 [==============================] - 0s 13ms/step - loss: 0.0118 - accuracy: 0.6884\n",
      "Epoch 66/100\n",
      "32/32 [==============================] - 0s 13ms/step - loss: 0.0119 - accuracy: 0.6909\n",
      "Epoch 67/100\n",
      "32/32 [==============================] - 0s 14ms/step - loss: 0.0118 - accuracy: 0.6785\n",
      "Epoch 68/100\n",
      "32/32 [==============================] - 0s 15ms/step - loss: 0.0119 - accuracy: 0.7032\n",
      "Epoch 69/100\n",
      "32/32 [==============================] - 0s 13ms/step - loss: 0.0118 - accuracy: 0.7047\n",
      "Epoch 70/100\n",
      "32/32 [==============================] - 0s 12ms/step - loss: 0.0117 - accuracy: 0.6830\n",
      "Epoch 71/100\n",
      "32/32 [==============================] - 0s 13ms/step - loss: 0.0118 - accuracy: 0.7106\n",
      "Epoch 72/100\n",
      "32/32 [==============================] - 0s 12ms/step - loss: 0.0118 - accuracy: 0.7146\n",
      "Epoch 73/100\n",
      "32/32 [==============================] - 0s 14ms/step - loss: 0.0118 - accuracy: 0.7022\n",
      "Epoch 74/100\n",
      "32/32 [==============================] - 1s 16ms/step - loss: 0.0119 - accuracy: 0.6998\n",
      "Epoch 75/100\n",
      "32/32 [==============================] - 0s 13ms/step - loss: 0.0117 - accuracy: 0.6973\n",
      "Epoch 76/100\n",
      "32/32 [==============================] - 0s 15ms/step - loss: 0.0118 - accuracy: 0.7141\n",
      "Epoch 77/100\n",
      "32/32 [==============================] - 0s 14ms/step - loss: 0.0117 - accuracy: 0.6948\n",
      "Epoch 78/100\n",
      "32/32 [==============================] - 0s 13ms/step - loss: 0.0117 - accuracy: 0.7007\n",
      "Epoch 79/100\n",
      "32/32 [==============================] - 0s 13ms/step - loss: 0.0118 - accuracy: 0.6899\n",
      "Epoch 80/100\n",
      "32/32 [==============================] - 0s 14ms/step - loss: 0.0116 - accuracy: 0.7185\n",
      "Epoch 81/100\n",
      "32/32 [==============================] - 0s 13ms/step - loss: 0.0116 - accuracy: 0.6835 0s - loss: 0.0110 - accura\n",
      "Epoch 82/100\n",
      "32/32 [==============================] - 0s 13ms/step - loss: 0.0116 - accuracy: 0.6963\n",
      "Epoch 83/100\n",
      "32/32 [==============================] - 0s 13ms/step - loss: 0.0116 - accuracy: 0.7116\n",
      "Epoch 84/100\n",
      "32/32 [==============================] - 0s 12ms/step - loss: 0.0116 - accuracy: 0.6899\n",
      "Epoch 85/100\n",
      "32/32 [==============================] - 0s 13ms/step - loss: 0.0116 - accuracy: 0.6899\n",
      "Epoch 86/100\n",
      "32/32 [==============================] - 0s 13ms/step - loss: 0.0116 - accuracy: 0.7160\n",
      "Epoch 87/100\n",
      "32/32 [==============================] - 0s 12ms/step - loss: 0.0115 - accuracy: 0.6953\n",
      "Epoch 88/100\n",
      "32/32 [==============================] - 0s 12ms/step - loss: 0.0115 - accuracy: 0.6923\n",
      "Epoch 89/100\n",
      "32/32 [==============================] - 0s 14ms/step - loss: 0.0116 - accuracy: 0.6899\n",
      "Epoch 90/100\n",
      "32/32 [==============================] - 0s 12ms/step - loss: 0.0115 - accuracy: 0.7131\n",
      "Epoch 91/100\n",
      "32/32 [==============================] - 0s 11ms/step - loss: 0.0116 - accuracy: 0.7062\n",
      "Epoch 92/100\n",
      "32/32 [==============================] - 0s 12ms/step - loss: 0.0116 - accuracy: 0.6958\n",
      "Epoch 93/100\n",
      "32/32 [==============================] - 0s 12ms/step - loss: 0.0115 - accuracy: 0.6923\n",
      "Epoch 94/100\n",
      "32/32 [==============================] - 0s 12ms/step - loss: 0.0116 - accuracy: 0.7131\n",
      "Epoch 95/100\n",
      "32/32 [==============================] - 0s 12ms/step - loss: 0.0115 - accuracy: 0.7017\n",
      "Epoch 96/100\n",
      "32/32 [==============================] - 0s 12ms/step - loss: 0.0115 - accuracy: 0.7190\n",
      "Epoch 97/100\n",
      "32/32 [==============================] - 0s 13ms/step - loss: 0.0115 - accuracy: 0.7062\n",
      "Epoch 98/100\n",
      "32/32 [==============================] - 0s 12ms/step - loss: 0.0115 - accuracy: 0.7017\n",
      "Epoch 99/100\n",
      "32/32 [==============================] - 0s 13ms/step - loss: 0.0114 - accuracy: 0.6953\n",
      "Epoch 100/100\n",
      "32/32 [==============================] - 0s 12ms/step - loss: 0.0115 - accuracy: 0.6780\n"
     ]
    }
   ],
   "source": [
    "model.compile(\n",
    "    loss='binary_crossentropy',\n",
    "    optimizer='rmsprop',\n",
    "    metrics=[\"accuracy\"],\n",
    ")\n",
    "\n",
    "history = model.fit(X_train, y_train, batch_size=64, epochs=100)"
   ]
  },
  {
   "cell_type": "code",
   "execution_count": 141,
   "metadata": {},
   "outputs": [],
   "source": [
    "y_pred = model.predict(X_test).round()"
   ]
  },
  {
   "cell_type": "code",
   "execution_count": 142,
   "metadata": {},
   "outputs": [
    {
     "data": {
      "text/plain": [
       "0.7377777777777778"
      ]
     },
     "execution_count": 142,
     "metadata": {},
     "output_type": "execute_result"
    }
   ],
   "source": [
    "zero_one_loss(y_test, y_pred)"
   ]
  },
  {
   "cell_type": "code",
   "execution_count": 143,
   "metadata": {},
   "outputs": [
    {
     "data": {
      "text/plain": [
       "0.022972582972582974"
      ]
     },
     "execution_count": 143,
     "metadata": {},
     "output_type": "execute_result"
    }
   ],
   "source": [
    "hamming_loss(y_test,y_pred)"
   ]
  },
  {
   "cell_type": "code",
   "execution_count": null,
   "metadata": {},
   "outputs": [],
   "source": []
  }
 ],
 "metadata": {
  "kernelspec": {
   "display_name": "Python 3",
   "language": "python",
   "name": "python3"
  },
  "language_info": {
   "codemirror_mode": {
    "name": "ipython",
    "version": 3
   },
   "file_extension": ".py",
   "mimetype": "text/x-python",
   "name": "python",
   "nbconvert_exporter": "python",
   "pygments_lexer": "ipython3",
   "version": "3.6.9"
  }
 },
 "nbformat": 4,
 "nbformat_minor": 2
}
