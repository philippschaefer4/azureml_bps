{
 "cells": [
  {
   "cell_type": "code",
   "execution_count": 1,
   "metadata": {},
   "outputs": [],
   "source": [
    "import pandas as pd \n",
    "import numpy as np\n",
    "\n",
    "from sklearn.model_selection import train_test_split\n",
    "from sklearn.preprocessing import OneHotEncoder, LabelEncoder\n",
    "from sklearn.linear_model import SGDClassifier\n",
    "from sklearn.decomposition import PCA\n",
    "from sklearn.multioutput import MultiOutputClassifier\n",
    "from sklearn.multiclass import OneVsRestClassifier\n",
    "from sklearn.metrics import hamming_loss\n",
    "from sklearn.metrics import zero_one_loss\n",
    "\n",
    "from xgboost import XGBClassifier"
   ]
  },
  {
   "cell_type": "code",
   "execution_count": 2,
   "metadata": {},
   "outputs": [],
   "source": [
    "from azureml.core import Workspace, Experiment\n",
    "from azureml.core.authentication import InteractiveLoginAuthentication"
   ]
  },
  {
   "cell_type": "code",
   "execution_count": 3,
   "metadata": {},
   "outputs": [],
   "source": [
    "interactive_auth = InteractiveLoginAuthentication(tenant_id=\"39288a38-ff19-432c-8011-1cd9d0dff445\")\n",
    "ws = Workspace(subscription_id=\"793146d9-d4dc-4a73-9728-76c4ffd0cc0d\", resource_group=\"rg_dynamics_test\", workspace_name=\"resdynml1test\", auth=interactive_auth)"
   ]
  },
  {
   "cell_type": "code",
   "execution_count": 4,
   "metadata": {},
   "outputs": [
    {
     "data": {
      "text/plain": [
       "{'DummyPredictionTrain': DatasetRegistration(id='723a8324-8b50-48ba-9398-53c659959f56', name='DummyPredictionTrain', version=5, description='', tags={}), 'DummyPredictionTest': DatasetRegistration(id='b217579b-16ba-4c90-9e95-1776ba592742', name='DummyPredictionTest', version=6, description='', tags={}), 'DummyPredictionPipeline': DatasetRegistration(id='75fbd0e5-81c3-4386-a9e5-0658d3d16360', name='DummyPredictionPipeline', version=3, description='', tags={}), 'ProductPredictionTrain': DatasetRegistration(id='576ee7cb-1c73-45b7-8795-dab72c0d19d1', name='ProductPredictionTrain', version=1, description='', tags={}), 'ProductPredictionTest': DatasetRegistration(id='0ea979fb-10aa-4c82-a7cc-1623ca178f22', name='ProductPredictionTest', version=1, description='', tags={}), 'symptomcodes.csv': DatasetRegistration(id='88af5740-1a1b-4e09-8129-d3c538680909', name='symptomcodes.csv', version=2, description='', tags={}), 'ItemResourceData.csv': DatasetRegistration(id='02e6cb83-4d0c-42b2-bbef-e103c74b3a3c', name='ItemResourceData.csv', version=1, description='Raw Data of Field Service Cases from last 5 years', tags={})}"
      ]
     },
     "execution_count": 4,
     "metadata": {},
     "output_type": "execute_result"
    }
   ],
   "source": [
    "ws.datasets"
   ]
  },
  {
   "cell_type": "code",
   "execution_count": 5,
   "metadata": {},
   "outputs": [
    {
     "name": "stderr",
     "output_type": "stream",
     "text": [
      "\n",
      "KeyboardInterrupt\n",
      "\n"
     ]
    }
   ],
   "source": [
    "# df = pd.read_csv('WILO_traindata.csv', sep=';', header=0)\n",
    "df = ws.datasets['ProductPredictionTrain'].to_pandas_dataframe()\n",
    "print(len(df))\n",
    "df.head()\n",
    "# df['CaseId'] = df['Job Card.JobCard Number']"
   ]
  },
  {
   "cell_type": "code",
   "execution_count": 24,
   "metadata": {},
   "outputs": [],
   "source": [
    "df = df.iloc[10000:20000]"
   ]
  },
  {
   "cell_type": "code",
   "execution_count": null,
   "metadata": {},
   "outputs": [],
   "source": [
    "# for c in df.columns:\n",
    "#     print(c)"
   ]
  },
  {
   "cell_type": "markdown",
   "metadata": {},
   "source": [
    "### Feature / Target Split"
   ]
  },
  {
   "cell_type": "code",
   "execution_count": null,
   "metadata": {},
   "outputs": [],
   "source": [
    "X = df.drop([ c for c in df.columns if c.startswith('product_')], axis=1).drop(['CaseId'], axis=1).values\n",
    "y = df[[ c for c in df.columns if c.startswith('product_')]].values"
   ]
  },
  {
   "cell_type": "code",
   "execution_count": null,
   "metadata": {},
   "outputs": [],
   "source": [
    "y_clean = []\n",
    "# remove columns with too few entries for target\n",
    "for i in range(y.shape[1]):\n",
    "    if y[:,i].sum() >= 5:\n",
    "        y_clean.append(y[:,i])\n",
    "y_clean = np.transpose(np.array(y_clean))"
   ]
  },
  {
   "cell_type": "code",
   "execution_count": 28,
   "metadata": {},
   "outputs": [
    {
     "data": {
      "text/plain": [
       "(0,)"
      ]
     },
     "execution_count": 28,
     "metadata": {},
     "output_type": "execute_result"
    }
   ],
   "source": [
    "y_clean.shape"
   ]
  },
  {
   "cell_type": "code",
   "execution_count": 29,
   "metadata": {},
   "outputs": [],
   "source": [
    "# n = []\n",
    "# for comp in range(1,1100, 10):\n",
    "#     pca = PCA(n_components=comp)\n",
    "#     X_tr = pca.fit_transform(X)\n",
    "#     n.append([comp, pca.explained_variance_ratio_.sum()])"
   ]
  },
  {
   "cell_type": "code",
   "execution_count": 30,
   "metadata": {},
   "outputs": [],
   "source": [
    "# import matplotlib.pyplot as plt\n",
    "# plt.scatter(np.array(n)[:,0], np.array(n)[:,1])"
   ]
  },
  {
   "cell_type": "code",
   "execution_count": 31,
   "metadata": {},
   "outputs": [
    {
     "ename": "ValueError",
     "evalue": "could not convert string to float: 'C-BE008616-CP JC02.00'",
     "output_type": "error",
     "traceback": [
      "\u001b[0;31m---------------------------------------------------------------------------\u001b[0m",
      "\u001b[0;31mValueError\u001b[0m                                Traceback (most recent call last)",
      "\u001b[0;32m<ipython-input-31-de633b8413fa>\u001b[0m in \u001b[0;36m<module>\u001b[0;34m\u001b[0m\n\u001b[1;32m      1\u001b[0m \u001b[0mpca\u001b[0m \u001b[0;34m=\u001b[0m \u001b[0mPCA\u001b[0m\u001b[0;34m(\u001b[0m\u001b[0mn_components\u001b[0m\u001b[0;34m=\u001b[0m\u001b[0;36m150\u001b[0m\u001b[0;34m)\u001b[0m\u001b[0;34m\u001b[0m\u001b[0;34m\u001b[0m\u001b[0m\n\u001b[0;32m----> 2\u001b[0;31m \u001b[0mX_tr\u001b[0m \u001b[0;34m=\u001b[0m \u001b[0mpca\u001b[0m\u001b[0;34m.\u001b[0m\u001b[0mfit_transform\u001b[0m\u001b[0;34m(\u001b[0m\u001b[0mX\u001b[0m\u001b[0;34m)\u001b[0m\u001b[0;34m\u001b[0m\u001b[0;34m\u001b[0m\u001b[0m\n\u001b[0m\u001b[1;32m      3\u001b[0m \u001b[0mpca\u001b[0m\u001b[0;34m.\u001b[0m\u001b[0mexplained_variance_ratio_\u001b[0m\u001b[0;34m.\u001b[0m\u001b[0msum\u001b[0m\u001b[0;34m(\u001b[0m\u001b[0;34m)\u001b[0m\u001b[0;34m\u001b[0m\u001b[0;34m\u001b[0m\u001b[0m\n",
      "\u001b[0;32m/anaconda/envs/azureml_py36/lib/python3.6/site-packages/sklearn/decomposition/pca.py\u001b[0m in \u001b[0;36mfit_transform\u001b[0;34m(self, X, y)\u001b[0m\n\u001b[1;32m    357\u001b[0m \u001b[0;34m\u001b[0m\u001b[0m\n\u001b[1;32m    358\u001b[0m         \"\"\"\n\u001b[0;32m--> 359\u001b[0;31m         \u001b[0mU\u001b[0m\u001b[0;34m,\u001b[0m \u001b[0mS\u001b[0m\u001b[0;34m,\u001b[0m \u001b[0mV\u001b[0m \u001b[0;34m=\u001b[0m \u001b[0mself\u001b[0m\u001b[0;34m.\u001b[0m\u001b[0m_fit\u001b[0m\u001b[0;34m(\u001b[0m\u001b[0mX\u001b[0m\u001b[0;34m)\u001b[0m\u001b[0;34m\u001b[0m\u001b[0;34m\u001b[0m\u001b[0m\n\u001b[0m\u001b[1;32m    360\u001b[0m         \u001b[0mU\u001b[0m \u001b[0;34m=\u001b[0m \u001b[0mU\u001b[0m\u001b[0;34m[\u001b[0m\u001b[0;34m:\u001b[0m\u001b[0;34m,\u001b[0m \u001b[0;34m:\u001b[0m\u001b[0mself\u001b[0m\u001b[0;34m.\u001b[0m\u001b[0mn_components_\u001b[0m\u001b[0;34m]\u001b[0m\u001b[0;34m\u001b[0m\u001b[0;34m\u001b[0m\u001b[0m\n\u001b[1;32m    361\u001b[0m \u001b[0;34m\u001b[0m\u001b[0m\n",
      "\u001b[0;32m/anaconda/envs/azureml_py36/lib/python3.6/site-packages/sklearn/decomposition/pca.py\u001b[0m in \u001b[0;36m_fit\u001b[0;34m(self, X)\u001b[0m\n\u001b[1;32m    379\u001b[0m \u001b[0;34m\u001b[0m\u001b[0m\n\u001b[1;32m    380\u001b[0m         X = check_array(X, dtype=[np.float64, np.float32], ensure_2d=True,\n\u001b[0;32m--> 381\u001b[0;31m                         copy=self.copy)\n\u001b[0m\u001b[1;32m    382\u001b[0m \u001b[0;34m\u001b[0m\u001b[0m\n\u001b[1;32m    383\u001b[0m         \u001b[0;31m# Handle n_components==None\u001b[0m\u001b[0;34m\u001b[0m\u001b[0;34m\u001b[0m\u001b[0;34m\u001b[0m\u001b[0m\n",
      "\u001b[0;32m/anaconda/envs/azureml_py36/lib/python3.6/site-packages/sklearn/utils/validation.py\u001b[0m in \u001b[0;36mcheck_array\u001b[0;34m(array, accept_sparse, accept_large_sparse, dtype, order, copy, force_all_finite, ensure_2d, allow_nd, ensure_min_samples, ensure_min_features, warn_on_dtype, estimator)\u001b[0m\n\u001b[1;32m    525\u001b[0m             \u001b[0;32mtry\u001b[0m\u001b[0;34m:\u001b[0m\u001b[0;34m\u001b[0m\u001b[0;34m\u001b[0m\u001b[0m\n\u001b[1;32m    526\u001b[0m                 \u001b[0mwarnings\u001b[0m\u001b[0;34m.\u001b[0m\u001b[0msimplefilter\u001b[0m\u001b[0;34m(\u001b[0m\u001b[0;34m'error'\u001b[0m\u001b[0;34m,\u001b[0m \u001b[0mComplexWarning\u001b[0m\u001b[0;34m)\u001b[0m\u001b[0;34m\u001b[0m\u001b[0;34m\u001b[0m\u001b[0m\n\u001b[0;32m--> 527\u001b[0;31m                 \u001b[0marray\u001b[0m \u001b[0;34m=\u001b[0m \u001b[0mnp\u001b[0m\u001b[0;34m.\u001b[0m\u001b[0masarray\u001b[0m\u001b[0;34m(\u001b[0m\u001b[0marray\u001b[0m\u001b[0;34m,\u001b[0m \u001b[0mdtype\u001b[0m\u001b[0;34m=\u001b[0m\u001b[0mdtype\u001b[0m\u001b[0;34m,\u001b[0m \u001b[0morder\u001b[0m\u001b[0;34m=\u001b[0m\u001b[0morder\u001b[0m\u001b[0;34m)\u001b[0m\u001b[0;34m\u001b[0m\u001b[0;34m\u001b[0m\u001b[0m\n\u001b[0m\u001b[1;32m    528\u001b[0m             \u001b[0;32mexcept\u001b[0m \u001b[0mComplexWarning\u001b[0m\u001b[0;34m:\u001b[0m\u001b[0;34m\u001b[0m\u001b[0;34m\u001b[0m\u001b[0m\n\u001b[1;32m    529\u001b[0m                 raise ValueError(\"Complex data not supported\\n\"\n",
      "\u001b[0;32m/anaconda/envs/azureml_py36/lib/python3.6/site-packages/numpy/core/numeric.py\u001b[0m in \u001b[0;36masarray\u001b[0;34m(a, dtype, order)\u001b[0m\n\u001b[1;32m    536\u001b[0m \u001b[0;34m\u001b[0m\u001b[0m\n\u001b[1;32m    537\u001b[0m     \"\"\"\n\u001b[0;32m--> 538\u001b[0;31m     \u001b[0;32mreturn\u001b[0m \u001b[0marray\u001b[0m\u001b[0;34m(\u001b[0m\u001b[0ma\u001b[0m\u001b[0;34m,\u001b[0m \u001b[0mdtype\u001b[0m\u001b[0;34m,\u001b[0m \u001b[0mcopy\u001b[0m\u001b[0;34m=\u001b[0m\u001b[0;32mFalse\u001b[0m\u001b[0;34m,\u001b[0m \u001b[0morder\u001b[0m\u001b[0;34m=\u001b[0m\u001b[0morder\u001b[0m\u001b[0;34m)\u001b[0m\u001b[0;34m\u001b[0m\u001b[0;34m\u001b[0m\u001b[0m\n\u001b[0m\u001b[1;32m    539\u001b[0m \u001b[0;34m\u001b[0m\u001b[0m\n\u001b[1;32m    540\u001b[0m \u001b[0;34m\u001b[0m\u001b[0m\n",
      "\u001b[0;31mValueError\u001b[0m: could not convert string to float: 'C-BE008616-CP JC02.00'"
     ]
    }
   ],
   "source": [
    "pca = PCA(n_components=150)\n",
    "X_tr = pca.fit_transform(X)\n",
    "pca.explained_variance_ratio_.sum()"
   ]
  },
  {
   "cell_type": "markdown",
   "metadata": {},
   "source": [
    "### Train Test Split\n",
    "\n",
    "##### Idee/Bedenken: evtl Zeitreihe --> nicht train-test-split sd. \"neueste\" Datensätze"
   ]
  },
  {
   "cell_type": "code",
   "execution_count": null,
   "metadata": {},
   "outputs": [],
   "source": [
    "X_train, X_test, y_train, y_test = train_test_split(X_tr, y_clean, test_size=0.1, random_state=42)"
   ]
  },
  {
   "cell_type": "code",
   "execution_count": null,
   "metadata": {},
   "outputs": [],
   "source": [
    "y_test[:,64].sum()"
   ]
  },
  {
   "cell_type": "code",
   "execution_count": null,
   "metadata": {},
   "outputs": [],
   "source": [
    "for i in range(y_train.shape[1]):\n",
    "    if y_train[:,i].sum() == 0:\n",
    "        print('###########')\n",
    "        print(i)\n",
    "        print(y_train[:,i].sum())\n",
    "        print(y_test[:,i].sum())\n",
    "        print('###########')"
   ]
  },
  {
   "cell_type": "code",
   "execution_count": null,
   "metadata": {},
   "outputs": [],
   "source": [
    "for i in range(y_test.shape[1]):\n",
    "    if y_test[:,i].sum() == 0:\n",
    "        print('###########')\n",
    "        print(i)\n",
    "        print(y_test[:,i].sum())\n",
    "        print(y_train[:,i].sum())\n",
    "        print('###########')"
   ]
  },
  {
   "cell_type": "markdown",
   "metadata": {},
   "source": [
    "## Train"
   ]
  },
  {
   "cell_type": "markdown",
   "metadata": {},
   "source": [
    "### SGD Classifier"
   ]
  },
  {
   "cell_type": "code",
   "execution_count": null,
   "metadata": {},
   "outputs": [],
   "source": [
    "clf = MultiOutputClassifier(SGDClassifier(max_iter=1000, tol=1e-3)) # n_jobs\n",
    "clf.fit(X_train,y_train)"
   ]
  },
  {
   "cell_type": "code",
   "execution_count": null,
   "metadata": {},
   "outputs": [],
   "source": [
    "y_pred = clf.predict(X_test)"
   ]
  },
  {
   "cell_type": "markdown",
   "metadata": {},
   "source": [
    "### Evaluation"
   ]
  },
  {
   "cell_type": "code",
   "execution_count": null,
   "metadata": {
    "scrolled": true
   },
   "outputs": [],
   "source": [
    "zero_one_loss(y_test, y_pred)"
   ]
  },
  {
   "cell_type": "code",
   "execution_count": null,
   "metadata": {},
   "outputs": [],
   "source": [
    "hamming_loss(y_test,y_pred)"
   ]
  },
  {
   "cell_type": "markdown",
   "metadata": {},
   "source": [
    "### XGBoost"
   ]
  },
  {
   "cell_type": "code",
   "execution_count": null,
   "metadata": {},
   "outputs": [],
   "source": [
    "from xgboost import XGBClassifier"
   ]
  },
  {
   "cell_type": "code",
   "execution_count": null,
   "metadata": {},
   "outputs": [],
   "source": [
    "clf = MultiOutputClassifier(XGBClassifier(n_jobs=-1, max_depth=4))\n",
    "clf.fit(X_train,y_train)"
   ]
  },
  {
   "cell_type": "code",
   "execution_count": null,
   "metadata": {},
   "outputs": [],
   "source": [
    "y_pred = clf.predict(X_test)"
   ]
  },
  {
   "cell_type": "code",
   "execution_count": null,
   "metadata": {},
   "outputs": [],
   "source": [
    "zero_one_loss(y_test, y_pred)"
   ]
  },
  {
   "cell_type": "code",
   "execution_count": null,
   "metadata": {
    "scrolled": true
   },
   "outputs": [],
   "source": [
    "hamming_loss(y_test,y_pred)"
   ]
  },
  {
   "cell_type": "code",
   "execution_count": null,
   "metadata": {},
   "outputs": [],
   "source": []
  },
  {
   "cell_type": "markdown",
   "metadata": {},
   "source": [
    "### SGD Classifier"
   ]
  },
  {
   "cell_type": "code",
   "execution_count": null,
   "metadata": {},
   "outputs": [],
   "source": []
  },
  {
   "cell_type": "code",
   "execution_count": null,
   "metadata": {},
   "outputs": [],
   "source": [
    "clf = OneVsRestClassifier(SGDClassifier(max_iter=1000, tol=1e-3)) # n_jobs\n",
    "clf.fit(X_train,y_train)"
   ]
  },
  {
   "cell_type": "code",
   "execution_count": null,
   "metadata": {},
   "outputs": [],
   "source": [
    "y_pred = clf.predict(X_test)"
   ]
  },
  {
   "cell_type": "markdown",
   "metadata": {},
   "source": [
    "### Evaluation"
   ]
  },
  {
   "cell_type": "code",
   "execution_count": null,
   "metadata": {
    "scrolled": true
   },
   "outputs": [],
   "source": [
    "zero_one_loss(y_test, y_pred)"
   ]
  },
  {
   "cell_type": "code",
   "execution_count": null,
   "metadata": {},
   "outputs": [],
   "source": [
    "hamming_loss(y_test,y_pred)"
   ]
  },
  {
   "cell_type": "markdown",
   "metadata": {},
   "source": [
    "### XGBoost"
   ]
  },
  {
   "cell_type": "code",
   "execution_count": null,
   "metadata": {},
   "outputs": [],
   "source": [
    "clf = OneVsRestClassifier(XGBClassifier(n_jobs=-1, max_depth=4))\n",
    "clf.fit(X_train,y_train)"
   ]
  },
  {
   "cell_type": "code",
   "execution_count": null,
   "metadata": {},
   "outputs": [],
   "source": [
    "y_pred = clf.predict(X_test)"
   ]
  },
  {
   "cell_type": "code",
   "execution_count": null,
   "metadata": {},
   "outputs": [],
   "source": [
    "zero_one_loss(y_test, y_pred)"
   ]
  },
  {
   "cell_type": "code",
   "execution_count": null,
   "metadata": {
    "scrolled": true
   },
   "outputs": [],
   "source": [
    "hamming_loss(y_test,y_pred)"
   ]
  },
  {
   "cell_type": "markdown",
   "metadata": {},
   "source": [
    "### Keras"
   ]
  },
  {
   "cell_type": "code",
   "execution_count": null,
   "metadata": {},
   "outputs": [],
   "source": [
    "X_train, X_test, y_train, y_test = train_test_split(X, y_clean, test_size=0.1, random_state=42)"
   ]
  },
  {
   "cell_type": "code",
   "execution_count": 26,
   "metadata": {},
   "outputs": [],
   "source": [
    "X_train = np.array([[1,0,1,1,0],[1,1,1,0,0]])\n",
    "X_test = np.array([[1,0,1,1,0],[1,1,1,0,0]])\n",
    "y_train = np.array([[1.,0.,1.,1.,0.],[1.,1.,1.,0.,0.]])\n",
    "y_test = np.array([[1.,0.,1.,1.,0.],[1.,1.,1.,0.,0.]])"
   ]
  },
  {
   "cell_type": "code",
   "execution_count": 8,
   "metadata": {},
   "outputs": [
    {
     "data": {
      "text/plain": [
       "(2, 5)"
      ]
     },
     "execution_count": 8,
     "metadata": {},
     "output_type": "execute_result"
    }
   ],
   "source": [
    "y_test.shape"
   ]
  },
  {
   "cell_type": "code",
   "execution_count": 9,
   "metadata": {},
   "outputs": [],
   "source": [
    "# pip install tensorflow-gpu"
   ]
  },
  {
   "cell_type": "code",
   "execution_count": 10,
   "metadata": {},
   "outputs": [],
   "source": [
    "import numpy as np\n",
    "import tensorflow as tf\n",
    "from tensorflow import keras\n",
    "from tensorflow.keras.layers import Input, Dense"
   ]
  },
  {
   "cell_type": "code",
   "execution_count": 11,
   "metadata": {},
   "outputs": [],
   "source": [
    "inputs = Input(shape=(X_train.shape[1],))\n",
    "\n",
    "# x = Dense(1024, activation='relu')(inputs)\n",
    "x = Dense(512, activation='relu')(inputs)\n",
    "x = Dense(256, activation='relu')(x)\n",
    "x = Dense(128, activation='relu')(x)\n",
    "x = Dense(64, activation='relu')(x)\n",
    "x = Dense(32, activation='relu')(x)\n",
    "\n",
    "outputs = Dense(y_train.shape[1], activation='sigmoid')(x)"
   ]
  },
  {
   "cell_type": "code",
   "execution_count": 12,
   "metadata": {},
   "outputs": [
    {
     "name": "stdout",
     "output_type": "stream",
     "text": [
      "Model: \"model\"\n",
      "_________________________________________________________________\n",
      "Layer (type)                 Output Shape              Param #   \n",
      "=================================================================\n",
      "input_1 (InputLayer)         [(None, 5)]               0         \n",
      "_________________________________________________________________\n",
      "dense (Dense)                (None, 512)               3072      \n",
      "_________________________________________________________________\n",
      "dense_1 (Dense)              (None, 256)               131328    \n",
      "_________________________________________________________________\n",
      "dense_2 (Dense)              (None, 128)               32896     \n",
      "_________________________________________________________________\n",
      "dense_3 (Dense)              (None, 64)                8256      \n",
      "_________________________________________________________________\n",
      "dense_4 (Dense)              (None, 32)                2080      \n",
      "_________________________________________________________________\n",
      "dense_5 (Dense)              (None, 5)                 165       \n",
      "=================================================================\n",
      "Total params: 177,797\n",
      "Trainable params: 177,797\n",
      "Non-trainable params: 0\n",
      "_________________________________________________________________\n"
     ]
    }
   ],
   "source": [
    "model = keras.Model(inputs=inputs, outputs=outputs)\n",
    "model.summary()"
   ]
  },
  {
   "cell_type": "code",
   "execution_count": 13,
   "metadata": {},
   "outputs": [
    {
     "name": "stdout",
     "output_type": "stream",
     "text": [
      "Train on 2 samples\n",
      "Epoch 1/100\n",
      "2/2 [==============================] - 3s 1s/sample - loss: 0.6940 - accuracy: 0.4000\n",
      "Epoch 2/100\n",
      "2/2 [==============================] - 0s 2ms/sample - loss: 0.6423 - accuracy: 0.8000\n",
      "Epoch 3/100\n",
      "2/2 [==============================] - 0s 2ms/sample - loss: 0.5760 - accuracy: 0.8000\n",
      "Epoch 4/100\n",
      "2/2 [==============================] - 0s 2ms/sample - loss: 0.5027 - accuracy: 0.8000\n",
      "Epoch 5/100\n",
      "2/2 [==============================] - 0s 2ms/sample - loss: 0.4357 - accuracy: 0.8000\n",
      "Epoch 6/100\n",
      "2/2 [==============================] - 0s 2ms/sample - loss: 0.3833 - accuracy: 0.8000\n",
      "Epoch 7/100\n",
      "2/2 [==============================] - 0s 1ms/sample - loss: 0.3314 - accuracy: 0.9000\n",
      "Epoch 8/100\n",
      "2/2 [==============================] - 0s 1ms/sample - loss: 0.2888 - accuracy: 1.0000\n",
      "Epoch 9/100\n",
      "2/2 [==============================] - 0s 2ms/sample - loss: 0.2517 - accuracy: 1.0000\n",
      "Epoch 10/100\n",
      "2/2 [==============================] - 0s 1ms/sample - loss: 0.2150 - accuracy: 1.0000\n",
      "Epoch 11/100\n",
      "2/2 [==============================] - 0s 1ms/sample - loss: 0.1902 - accuracy: 1.0000\n",
      "Epoch 12/100\n",
      "2/2 [==============================] - 0s 2ms/sample - loss: 0.1647 - accuracy: 1.0000\n",
      "Epoch 13/100\n",
      "2/2 [==============================] - 0s 1ms/sample - loss: 0.1501 - accuracy: 1.0000\n",
      "Epoch 14/100\n",
      "2/2 [==============================] - 0s 1ms/sample - loss: 0.1174 - accuracy: 1.0000\n",
      "Epoch 15/100\n",
      "2/2 [==============================] - 0s 2ms/sample - loss: 0.0938 - accuracy: 1.0000\n",
      "Epoch 16/100\n",
      "2/2 [==============================] - 0s 2ms/sample - loss: 0.0761 - accuracy: 1.0000\n",
      "Epoch 17/100\n",
      "2/2 [==============================] - 0s 2ms/sample - loss: 0.0609 - accuracy: 1.0000\n",
      "Epoch 18/100\n",
      "2/2 [==============================] - 0s 1ms/sample - loss: 0.0509 - accuracy: 1.0000\n",
      "Epoch 19/100\n",
      "2/2 [==============================] - 0s 1ms/sample - loss: 0.0422 - accuracy: 1.0000\n",
      "Epoch 20/100\n",
      "2/2 [==============================] - 0s 1ms/sample - loss: 0.0340 - accuracy: 1.0000\n",
      "Epoch 21/100\n",
      "2/2 [==============================] - 0s 1ms/sample - loss: 0.0288 - accuracy: 1.0000\n",
      "Epoch 22/100\n",
      "2/2 [==============================] - 0s 1ms/sample - loss: 0.0236 - accuracy: 1.0000\n",
      "Epoch 23/100\n",
      "2/2 [==============================] - 0s 1ms/sample - loss: 0.0203 - accuracy: 1.0000\n",
      "Epoch 24/100\n",
      "2/2 [==============================] - 0s 1ms/sample - loss: 0.0162 - accuracy: 1.0000\n",
      "Epoch 25/100\n",
      "2/2 [==============================] - 0s 2ms/sample - loss: 0.0136 - accuracy: 1.0000\n",
      "Epoch 26/100\n",
      "2/2 [==============================] - 0s 2ms/sample - loss: 0.0115 - accuracy: 1.0000\n",
      "Epoch 27/100\n",
      "2/2 [==============================] - 0s 1ms/sample - loss: 0.0099 - accuracy: 1.0000\n",
      "Epoch 28/100\n",
      "2/2 [==============================] - 0s 1ms/sample - loss: 0.0085 - accuracy: 1.0000\n",
      "Epoch 29/100\n",
      "2/2 [==============================] - 0s 2ms/sample - loss: 0.0074 - accuracy: 1.0000\n",
      "Epoch 30/100\n",
      "2/2 [==============================] - 0s 1ms/sample - loss: 0.0064 - accuracy: 1.0000\n",
      "Epoch 31/100\n",
      "2/2 [==============================] - 0s 1ms/sample - loss: 0.0056 - accuracy: 1.0000\n",
      "Epoch 32/100\n",
      "2/2 [==============================] - 0s 1ms/sample - loss: 0.0050 - accuracy: 1.0000\n",
      "Epoch 33/100\n",
      "2/2 [==============================] - 0s 1ms/sample - loss: 0.0045 - accuracy: 1.0000\n",
      "Epoch 34/100\n",
      "2/2 [==============================] - 0s 1ms/sample - loss: 0.0038 - accuracy: 1.0000\n",
      "Epoch 35/100\n",
      "2/2 [==============================] - 0s 1ms/sample - loss: 0.0034 - accuracy: 1.0000\n",
      "Epoch 36/100\n",
      "2/2 [==============================] - 0s 1ms/sample - loss: 0.0030 - accuracy: 1.0000\n",
      "Epoch 37/100\n",
      "2/2 [==============================] - 0s 1ms/sample - loss: 0.0026 - accuracy: 1.0000\n",
      "Epoch 38/100\n",
      "2/2 [==============================] - 0s 2ms/sample - loss: 0.0023 - accuracy: 1.0000\n",
      "Epoch 39/100\n",
      "2/2 [==============================] - 0s 1ms/sample - loss: 0.0020 - accuracy: 1.0000\n",
      "Epoch 40/100\n",
      "2/2 [==============================] - 0s 2ms/sample - loss: 0.0018 - accuracy: 1.0000\n",
      "Epoch 41/100\n",
      "2/2 [==============================] - 0s 1ms/sample - loss: 0.0016 - accuracy: 1.0000\n",
      "Epoch 42/100\n",
      "2/2 [==============================] - 0s 2ms/sample - loss: 0.0014 - accuracy: 1.0000\n",
      "Epoch 43/100\n",
      "2/2 [==============================] - 0s 1ms/sample - loss: 0.0013 - accuracy: 1.0000\n",
      "Epoch 44/100\n",
      "2/2 [==============================] - 0s 1ms/sample - loss: 0.0012 - accuracy: 1.0000\n",
      "Epoch 45/100\n",
      "2/2 [==============================] - 0s 1ms/sample - loss: 0.0010 - accuracy: 1.0000\n",
      "Epoch 46/100\n",
      "2/2 [==============================] - 0s 1ms/sample - loss: 9.4457e-04 - accuracy: 1.0000\n",
      "Epoch 47/100\n",
      "2/2 [==============================] - 0s 1ms/sample - loss: 8.5806e-04 - accuracy: 1.0000\n",
      "Epoch 48/100\n",
      "2/2 [==============================] - 0s 2ms/sample - loss: 7.7603e-04 - accuracy: 1.0000\n",
      "Epoch 49/100\n",
      "2/2 [==============================] - 0s 1ms/sample - loss: 7.0999e-04 - accuracy: 1.0000\n",
      "Epoch 50/100\n",
      "2/2 [==============================] - 0s 2ms/sample - loss: 6.4043e-04 - accuracy: 1.0000\n",
      "Epoch 51/100\n",
      "2/2 [==============================] - 0s 1ms/sample - loss: 5.8565e-04 - accuracy: 1.0000\n",
      "Epoch 52/100\n",
      "2/2 [==============================] - 0s 1ms/sample - loss: 5.3641e-04 - accuracy: 1.0000\n",
      "Epoch 53/100\n",
      "2/2 [==============================] - 0s 1ms/sample - loss: 4.9175e-04 - accuracy: 1.0000\n",
      "Epoch 54/100\n",
      "2/2 [==============================] - 0s 1ms/sample - loss: 4.5023e-04 - accuracy: 1.0000\n",
      "Epoch 55/100\n",
      "2/2 [==============================] - 0s 1ms/sample - loss: 4.1576e-04 - accuracy: 1.0000\n",
      "Epoch 56/100\n",
      "2/2 [==============================] - 0s 2ms/sample - loss: 3.8200e-04 - accuracy: 1.0000\n",
      "Epoch 57/100\n",
      "2/2 [==============================] - 0s 2ms/sample - loss: 3.5316e-04 - accuracy: 1.0000\n",
      "Epoch 58/100\n",
      "2/2 [==============================] - 0s 2ms/sample - loss: 3.2247e-04 - accuracy: 1.0000\n",
      "Epoch 59/100\n",
      "2/2 [==============================] - 0s 1ms/sample - loss: 2.9722e-04 - accuracy: 1.0000\n",
      "Epoch 60/100\n",
      "2/2 [==============================] - 0s 2ms/sample - loss: 2.7343e-04 - accuracy: 1.0000\n",
      "Epoch 61/100\n",
      "2/2 [==============================] - 0s 2ms/sample - loss: 2.5292e-04 - accuracy: 1.0000\n",
      "Epoch 62/100\n",
      "2/2 [==============================] - 0s 2ms/sample - loss: 2.3363e-04 - accuracy: 1.0000\n",
      "Epoch 63/100\n",
      "2/2 [==============================] - 0s 2ms/sample - loss: 2.1700e-04 - accuracy: 1.0000\n",
      "Epoch 64/100\n",
      "2/2 [==============================] - 0s 2ms/sample - loss: 2.0057e-04 - accuracy: 1.0000\n",
      "Epoch 65/100\n",
      "2/2 [==============================] - 0s 1ms/sample - loss: 1.8549e-04 - accuracy: 1.0000\n",
      "Epoch 66/100\n",
      "2/2 [==============================] - 0s 2ms/sample - loss: 1.7165e-04 - accuracy: 1.0000\n",
      "Epoch 67/100\n",
      "2/2 [==============================] - 0s 2ms/sample - loss: 1.5947e-04 - accuracy: 1.0000\n",
      "Epoch 68/100\n",
      "2/2 [==============================] - 0s 2ms/sample - loss: 1.4751e-04 - accuracy: 1.0000\n",
      "Epoch 69/100\n",
      "2/2 [==============================] - 0s 2ms/sample - loss: 1.3540e-04 - accuracy: 1.0000\n",
      "Epoch 70/100\n",
      "2/2 [==============================] - 0s 2ms/sample - loss: 1.2549e-04 - accuracy: 1.0000\n",
      "Epoch 71/100\n",
      "2/2 [==============================] - 0s 2ms/sample - loss: 1.1574e-04 - accuracy: 1.0000\n",
      "Epoch 72/100\n",
      "2/2 [==============================] - 0s 1ms/sample - loss: 1.0658e-04 - accuracy: 1.0000\n",
      "Epoch 73/100\n",
      "2/2 [==============================] - 0s 2ms/sample - loss: 9.8470e-05 - accuracy: 1.0000\n",
      "Epoch 74/100\n",
      "2/2 [==============================] - 0s 2ms/sample - loss: 9.1252e-05 - accuracy: 1.0000\n",
      "Epoch 75/100\n",
      "2/2 [==============================] - 0s 2ms/sample - loss: 8.4405e-05 - accuracy: 1.0000\n",
      "Epoch 76/100\n",
      "2/2 [==============================] - 0s 2ms/sample - loss: 7.8236e-05 - accuracy: 1.0000\n",
      "Epoch 77/100\n",
      "2/2 [==============================] - 0s 1ms/sample - loss: 7.2710e-05 - accuracy: 1.0000\n",
      "Epoch 78/100\n",
      "2/2 [==============================] - 0s 2ms/sample - loss: 6.7607e-05 - accuracy: 1.0000\n",
      "Epoch 79/100\n",
      "2/2 [==============================] - 0s 2ms/sample - loss: 6.2935e-05 - accuracy: 1.0000\n",
      "Epoch 80/100\n",
      "2/2 [==============================] - 0s 1ms/sample - loss: 5.8241e-05 - accuracy: 1.0000\n",
      "Epoch 81/100\n",
      "2/2 [==============================] - 0s 1ms/sample - loss: 5.4137e-05 - accuracy: 1.0000\n"
     ]
    },
    {
     "name": "stdout",
     "output_type": "stream",
     "text": [
      "Epoch 82/100\n",
      "2/2 [==============================] - 0s 2ms/sample - loss: 5.0304e-05 - accuracy: 1.0000\n",
      "Epoch 83/100\n",
      "2/2 [==============================] - 0s 2ms/sample - loss: 4.6881e-05 - accuracy: 1.0000\n",
      "Epoch 84/100\n",
      "2/2 [==============================] - 0s 1ms/sample - loss: 4.3591e-05 - accuracy: 1.0000\n",
      "Epoch 85/100\n",
      "2/2 [==============================] - 0s 1ms/sample - loss: 4.0673e-05 - accuracy: 1.0000\n",
      "Epoch 86/100\n",
      "2/2 [==============================] - 0s 1ms/sample - loss: 3.7902e-05 - accuracy: 1.0000\n",
      "Epoch 87/100\n",
      "2/2 [==============================] - 0s 2ms/sample - loss: 3.5297e-05 - accuracy: 1.0000\n",
      "Epoch 88/100\n",
      "2/2 [==============================] - 0s 2ms/sample - loss: 3.2933e-05 - accuracy: 1.0000\n",
      "Epoch 89/100\n",
      "2/2 [==============================] - 0s 2ms/sample - loss: 3.0650e-05 - accuracy: 1.0000\n",
      "Epoch 90/100\n",
      "2/2 [==============================] - 0s 2ms/sample - loss: 2.8610e-05 - accuracy: 1.0000\n",
      "Epoch 91/100\n",
      "2/2 [==============================] - 0s 2ms/sample - loss: 2.6753e-05 - accuracy: 1.0000\n",
      "Epoch 92/100\n",
      "2/2 [==============================] - 0s 1ms/sample - loss: 2.4971e-05 - accuracy: 1.0000\n",
      "Epoch 93/100\n",
      "2/2 [==============================] - 0s 2ms/sample - loss: 2.3296e-05 - accuracy: 1.0000\n",
      "Epoch 94/100\n",
      "2/2 [==============================] - 0s 1ms/sample - loss: 2.1824e-05 - accuracy: 1.0000\n",
      "Epoch 95/100\n",
      "2/2 [==============================] - 0s 1ms/sample - loss: 2.0664e-05 - accuracy: 1.0000\n",
      "Epoch 96/100\n",
      "2/2 [==============================] - 0s 1ms/sample - loss: 1.9197e-05 - accuracy: 1.0000\n",
      "Epoch 97/100\n",
      "2/2 [==============================] - 0s 2ms/sample - loss: 1.7841e-05 - accuracy: 1.0000\n",
      "Epoch 98/100\n",
      "2/2 [==============================] - 0s 1ms/sample - loss: 1.6680e-05 - accuracy: 1.0000\n",
      "Epoch 99/100\n",
      "2/2 [==============================] - 0s 2ms/sample - loss: 1.5716e-05 - accuracy: 1.0000\n",
      "Epoch 100/100\n",
      "2/2 [==============================] - 0s 1ms/sample - loss: 1.4703e-05 - accuracy: 1.0000\n"
     ]
    }
   ],
   "source": [
    "model.compile(\n",
    "    loss='binary_crossentropy',\n",
    "    optimizer='rmsprop',\n",
    "    metrics=[\"accuracy\"],\n",
    ")\n",
    "\n",
    "history = model.fit(X_train, y_train, batch_size=64, epochs=100)"
   ]
  },
  {
   "cell_type": "code",
   "execution_count": 27,
   "metadata": {},
   "outputs": [],
   "source": [
    "y_pred = model.predict(X_test)"
   ]
  },
  {
   "cell_type": "code",
   "execution_count": 31,
   "metadata": {},
   "outputs": [
    {
     "data": {
      "text/plain": [
       "array([[1., 0., 1., 1., 0.],\n",
       "       [1., 1., 1., 0., 0.]], dtype=float32)"
      ]
     },
     "execution_count": 31,
     "metadata": {},
     "output_type": "execute_result"
    }
   ],
   "source": [
    "np.round(y_pred)"
   ]
  },
  {
   "cell_type": "code",
   "execution_count": 34,
   "metadata": {},
   "outputs": [
    {
     "data": {
      "text/plain": [
       "array([[1., 0., 1., 1., 0.],\n",
       "       [1., 1., 1., 0., 0.]], dtype=float32)"
      ]
     },
     "execution_count": 34,
     "metadata": {},
     "output_type": "execute_result"
    }
   ],
   "source": [
    "y_pred.round()"
   ]
  },
  {
   "cell_type": "code",
   "execution_count": 35,
   "metadata": {},
   "outputs": [
    {
     "data": {
      "text/plain": [
       "0.0"
      ]
     },
     "execution_count": 35,
     "metadata": {},
     "output_type": "execute_result"
    }
   ],
   "source": [
    "zero_one_loss(y_test, y_pred.round())"
   ]
  },
  {
   "cell_type": "code",
   "execution_count": 33,
   "metadata": {},
   "outputs": [
    {
     "ename": "ValueError",
     "evalue": "Classification metrics can't handle a mix of multilabel-indicator and continuous-multioutput targets",
     "output_type": "error",
     "traceback": [
      "\u001b[0;31m---------------------------------------------------------------------------\u001b[0m",
      "\u001b[0;31mValueError\u001b[0m                                Traceback (most recent call last)",
      "\u001b[0;32m<ipython-input-33-dd2a1ff905c4>\u001b[0m in \u001b[0;36m<module>\u001b[0;34m\u001b[0m\n\u001b[0;32m----> 1\u001b[0;31m \u001b[0mhamming_loss\u001b[0m\u001b[0;34m(\u001b[0m\u001b[0my_test\u001b[0m\u001b[0;34m,\u001b[0m\u001b[0my_pred\u001b[0m\u001b[0;34m)\u001b[0m\u001b[0;34m\u001b[0m\u001b[0;34m\u001b[0m\u001b[0m\n\u001b[0m",
      "\u001b[0;32m/anaconda/envs/azureml_py36/lib/python3.6/site-packages/sklearn/metrics/classification.py\u001b[0m in \u001b[0;36mhamming_loss\u001b[0;34m(y_true, y_pred, labels, sample_weight)\u001b[0m\n\u001b[1;32m   1672\u001b[0m     \"\"\"\n\u001b[1;32m   1673\u001b[0m \u001b[0;34m\u001b[0m\u001b[0m\n\u001b[0;32m-> 1674\u001b[0;31m     \u001b[0my_type\u001b[0m\u001b[0;34m,\u001b[0m \u001b[0my_true\u001b[0m\u001b[0;34m,\u001b[0m \u001b[0my_pred\u001b[0m \u001b[0;34m=\u001b[0m \u001b[0m_check_targets\u001b[0m\u001b[0;34m(\u001b[0m\u001b[0my_true\u001b[0m\u001b[0;34m,\u001b[0m \u001b[0my_pred\u001b[0m\u001b[0;34m)\u001b[0m\u001b[0;34m\u001b[0m\u001b[0;34m\u001b[0m\u001b[0m\n\u001b[0m\u001b[1;32m   1675\u001b[0m     \u001b[0mcheck_consistent_length\u001b[0m\u001b[0;34m(\u001b[0m\u001b[0my_true\u001b[0m\u001b[0;34m,\u001b[0m \u001b[0my_pred\u001b[0m\u001b[0;34m,\u001b[0m \u001b[0msample_weight\u001b[0m\u001b[0;34m)\u001b[0m\u001b[0;34m\u001b[0m\u001b[0;34m\u001b[0m\u001b[0m\n\u001b[1;32m   1676\u001b[0m \u001b[0;34m\u001b[0m\u001b[0m\n",
      "\u001b[0;32m/anaconda/envs/azureml_py36/lib/python3.6/site-packages/sklearn/metrics/classification.py\u001b[0m in \u001b[0;36m_check_targets\u001b[0;34m(y_true, y_pred)\u001b[0m\n\u001b[1;32m     79\u001b[0m     \u001b[0;32mif\u001b[0m \u001b[0mlen\u001b[0m\u001b[0;34m(\u001b[0m\u001b[0my_type\u001b[0m\u001b[0;34m)\u001b[0m \u001b[0;34m>\u001b[0m \u001b[0;36m1\u001b[0m\u001b[0;34m:\u001b[0m\u001b[0;34m\u001b[0m\u001b[0;34m\u001b[0m\u001b[0m\n\u001b[1;32m     80\u001b[0m         raise ValueError(\"Classification metrics can't handle a mix of {0} \"\n\u001b[0;32m---> 81\u001b[0;31m                          \"and {1} targets\".format(type_true, type_pred))\n\u001b[0m\u001b[1;32m     82\u001b[0m \u001b[0;34m\u001b[0m\u001b[0m\n\u001b[1;32m     83\u001b[0m     \u001b[0;31m# We can't have more than one value on y_type => The set is no more needed\u001b[0m\u001b[0;34m\u001b[0m\u001b[0;34m\u001b[0m\u001b[0;34m\u001b[0m\u001b[0m\n",
      "\u001b[0;31mValueError\u001b[0m: Classification metrics can't handle a mix of multilabel-indicator and continuous-multioutput targets"
     ]
    }
   ],
   "source": [
    "hamming_loss(y_test,y_pred)"
   ]
  },
  {
   "cell_type": "code",
   "execution_count": null,
   "metadata": {},
   "outputs": [],
   "source": []
  }
 ],
 "metadata": {
  "kernelspec": {
   "display_name": "Python 3",
   "language": "python",
   "name": "python3"
  },
  "language_info": {
   "codemirror_mode": {
    "name": "ipython",
    "version": 3
   },
   "file_extension": ".py",
   "mimetype": "text/x-python",
   "name": "python",
   "nbconvert_exporter": "python",
   "pygments_lexer": "ipython3",
   "version": "3.6.9"
  }
 },
 "nbformat": 4,
 "nbformat_minor": 2
}
