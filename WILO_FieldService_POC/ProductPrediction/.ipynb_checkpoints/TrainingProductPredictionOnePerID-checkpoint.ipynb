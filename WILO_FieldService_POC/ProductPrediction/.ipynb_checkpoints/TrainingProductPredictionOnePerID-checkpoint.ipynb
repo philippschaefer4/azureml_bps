{
 "cells": [
  {
   "cell_type": "code",
   "execution_count": 1,
   "metadata": {},
   "outputs": [],
   "source": [
    "from azureml.core import Workspace, Experiment\n",
    "from azureml.core.authentication import InteractiveLoginAuthentication\n",
    "from azureml.train.sklearn import SKLearn"
   ]
  },
  {
   "cell_type": "code",
   "execution_count": 2,
   "metadata": {},
   "outputs": [],
   "source": [
    "interactive_auth = InteractiveLoginAuthentication(tenant_id=\"39288a38-ff19-432c-8011-1cd9d0dff445\")\n",
    "ws = Workspace(subscription_id=\"793146d9-d4dc-4a73-9728-76c4ffd0cc0d\", resource_group=\"rg_dynamics_test\", workspace_name=\"resdynml1test\", auth=interactive_auth)"
   ]
  },
  {
   "cell_type": "code",
   "execution_count": null,
   "metadata": {},
   "outputs": [],
   "source": [
    "%%writefile ./src/train.py\n",
    "\n",
    "from azureml.core import Run\n",
    "from xgboost import XGBClassifier\n",
    "from sklearn.multioutput import MultiOutputClassifier\n",
    "from sklearn.metrics import recall_score, precision_score, hamming_loss, zero_one_loss\n",
    "import os\n",
    "import joblib\n",
    "\n",
    "run = Run.get_context()\n",
    "\n",
    "# load data\n",
    "train_data = run.input_datasets['train_data'].to_pandas_dataframe()\n",
    "test_data = run.input_datasets['test_data'].to_pandas_dataframe()\n",
    "\n",
    "# split train/test and feat/target\n",
    "X_train = train_data[[ col for col in train_data.columns if col.startswith('feat')]]\n",
    "y_train = train_data[[ col for col in train_data.columns if col.startswith('target')]]\n",
    "X_test = test_data[[col for col in test_data.columns if col.startswith('feat')]]\n",
    "y_test = test_data[[ col for col in test_data.columns if col.startswith('target')]]\n",
    "\n",
    "# train classifier\n",
    "model = MultiOutputClassifier(\n",
    "            XGBClassifier(n_jobs=-1, max_depth=3, learning_rate=0.1, n_estimators=100, reg_alpha=0, reg_lambda=1)\n",
    "        )\n",
    "model.fit(X_train, y_train)\n",
    "\n",
    "# evaluate test data\n",
    "y_pred = model.predict(X_test)\n",
    "run.log('precision_macro', precision_score(y_test, y_pred, average='macro'))\n",
    "run.log('precision_samples', precision_score(y_test, y_pred, average='samples'))\n",
    "run.log('recall_macro', recall_score(y_test, y_pred, average='macro'))\n",
    "run.log('recall_macro', recall_score(y_test, y_pred, average='samples'))\n",
    "run.log('hamming_loss', hamming_loss(y_test, y_pred))\n",
    "run.log('zero_one_loss', zero_one_loss(y_test, y_pred))\n",
    "\n",
    "# evaluate train data\n",
    "y_pred = model.predict(X_train)\n",
    "run.log('precision_macro_train', precision_score(y_train, y_pred, average='macro'))\n",
    "run.log('precision_samples_train', precision_score(y_train, y_pred, average='samples'))\n",
    "run.log('recall_macro_train', recall_score(y_train, y_pred, average='macro'))\n",
    "run.log('recall_macro_train', recall_score(y_train, y_pred, average='samples'))\n",
    "run.log('hamming_loss_train', hamming_loss(y_train, y_pred))\n",
    "run.log('zero_one_loss_train', zero_one_loss(y_train, y_pred))\n",
    "\n",
    "# save model\n",
    "os.makedirs('outputs', exist_ok=True)\n",
    "joblib.dump(value=model, filename='outputs/model.pkl')\n",
    "\n",
    "run.complete()"
   ]
  },
  {
   "cell_type": "code",
   "execution_count": null,
   "metadata": {},
   "outputs": [],
   "source": [
    "est = SKLearn(entry_script='train.py', source_directory='src',\n",
    "             inputs=[    ws.datasets['ProductPredictionTrain'].as_named_input('train_data'), \n",
    "                         ws.datasets['ProductPredictionTest'].as_named_input('test_data')    ],\n",
    "             compute_target='local')"
   ]
  },
  {
   "cell_type": "code",
   "execution_count": null,
   "metadata": {},
   "outputs": [],
   "source": [
    "exp = Experiment(ws, 'ProductPrediction')\n",
    "run = exp.submit(est)\n",
    "run.wait_for_completion(show_output=True)"
   ]
  }
 ],
 "metadata": {
  "kernelspec": {
   "display_name": "Python 3.6 - AzureML",
   "language": "python",
   "name": "python3-azureml"
  },
  "language_info": {
   "codemirror_mode": {
    "name": "ipython",
    "version": 3
   },
   "file_extension": ".py",
   "mimetype": "text/x-python",
   "name": "python",
   "nbconvert_exporter": "python",
   "pygments_lexer": "ipython3",
   "version": "3.6.9"
  }
 },
 "nbformat": 4,
 "nbformat_minor": 2
}
