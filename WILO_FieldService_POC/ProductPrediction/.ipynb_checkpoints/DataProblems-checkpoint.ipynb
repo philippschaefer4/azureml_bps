{
 "cells": [
  {
   "cell_type": "code",
   "execution_count": 1,
   "metadata": {},
   "outputs": [],
   "source": [
    "from azureml.core import Workspace\n",
    "from azureml.core.authentication import InteractiveLoginAuthentication\n",
    "\n",
    "import pandas as pd\n",
    "import numpy as np\n",
    "import datetime "
   ]
  },
  {
   "cell_type": "code",
   "execution_count": 2,
   "metadata": {},
   "outputs": [],
   "source": [
    "interactive_auth = InteractiveLoginAuthentication(tenant_id=\"39288a38-ff19-432c-8011-1cd9d0dff445\")\n",
    "ws = Workspace(subscription_id=\"793146d9-d4dc-4a73-9728-76c4ffd0cc0d\", resource_group=\"rg_dynamics_test\", workspace_name=\"resdynml1test\", auth=interactive_auth)"
   ]
  },
  {
   "cell_type": "code",
   "execution_count": 3,
   "metadata": {},
   "outputs": [],
   "source": [
    "# df_symptoms_init = pd.read_csv('symptomcodes.csv', sep=';', header=0)\n",
    "\n",
    "df_symptoms_init = ws.datasets['symptomcodes.csv']\n",
    "df_symptoms_init = df_symptoms_init.to_pandas_dataframe()\n",
    "\n",
    "symptoms_codes = pd.concat([df_symptoms_init.Symptom1.dropna(),\n",
    "                            df_symptoms_init.Symptom2.dropna(),\n",
    "                            df_symptoms_init.Symptom3.dropna(),\n",
    "                            df_symptoms_init.Symptom4.dropna()],\n",
    "                           axis=0).unique()\n",
    "symptoms_codes = [ 'symptom_' + str(symp) for symp in symptoms_codes ]"
   ]
  },
  {
   "cell_type": "code",
   "execution_count": 4,
   "metadata": {},
   "outputs": [
    {
     "data": {
      "text/plain": [
       "752544"
      ]
     },
     "execution_count": 4,
     "metadata": {},
     "output_type": "execute_result"
    }
   ],
   "source": [
    "df = ws.datasets['ItemResourceData.csv']\n",
    "df = df.to_pandas_dataframe()\n",
    "len(df)"
   ]
  },
  {
   "cell_type": "code",
   "execution_count": 5,
   "metadata": {},
   "outputs": [
    {
     "data": {
      "text/plain": [
       "606229"
      ]
     },
     "execution_count": 5,
     "metadata": {},
     "output_type": "execute_result"
    }
   ],
   "source": [
    "# get only data from last n years\n",
    "n = 5\n",
    "df_tr = df\n",
    "df_tr = df[df['Job Card.Date Start Work']>(datetime.datetime.today() - datetime.timedelta(days=n*365))]\n",
    "len(df_tr)"
   ]
  },
  {
   "cell_type": "code",
   "execution_count": 6,
   "metadata": {},
   "outputs": [
    {
     "data": {
      "text/plain": [
       "146315"
      ]
     },
     "execution_count": 6,
     "metadata": {},
     "output_type": "execute_result"
    }
   ],
   "source": [
    "# 1.1.1900\n",
    "len(df[df['Job Card.Date Start Work']<(datetime.datetime.today() - datetime.timedelta(days=n*365))])"
   ]
  },
  {
   "cell_type": "code",
   "execution_count": 7,
   "metadata": {},
   "outputs": [
    {
     "data": {
      "text/plain": [
       "606229"
      ]
     },
     "execution_count": 7,
     "metadata": {},
     "output_type": "execute_result"
    }
   ],
   "source": [
    "# remove '-' as Installed Base.InstalledBase ProductID\n",
    "df_tr = df_tr.replace(['', '0', '-', '000', 'N/A'], np.nan)\n",
    "len(df_tr)"
   ]
  },
  {
   "cell_type": "code",
   "execution_count": 8,
   "metadata": {},
   "outputs": [
    {
     "data": {
      "text/plain": [
       "Index(['Installed Base.Product Group',\n",
       "       'Installed Base.InstalledBase ProductID', 'Job Card.JobCard Number',\n",
       "       'Location.Country', 'Location.City', 'Location.Location Type',\n",
       "       'Location.Postal Code', 'Product.Product Name',\n",
       "       'Product.Product Number', 'ItemResourceAppliedQuantity',\n",
       "       'Job Card.Date Start Work', 'Job Card.Date End Work',\n",
       "       'Job Card.ComponentCode', 'Job Card.FailureCode',\n",
       "       'Job Card.Symptom Description'],\n",
       "      dtype='object')"
      ]
     },
     "execution_count": 8,
     "metadata": {},
     "output_type": "execute_result"
    }
   ],
   "source": [
    "df.columns"
   ]
  },
  {
   "cell_type": "code",
   "execution_count": 9,
   "metadata": {},
   "outputs": [
    {
     "data": {
      "text/plain": [
       "385877"
      ]
     },
     "execution_count": 9,
     "metadata": {},
     "output_type": "execute_result"
    }
   ],
   "source": [
    "df_tr = df_tr[['Installed Base.Product Group', 'Installed Base.InstalledBase ProductID','Location.Country', 'Location.City', 'Location.Location Type','Location.Postal Code', 'Job Card.JobCard Number', 'Product.Product Number','Product.Product Name', 'Job Card.Date Start Work', 'Job Card.Date End Work', 'Job Card.ComponentCode', 'Job Card.FailureCode', 'Job Card.Symptom Description']]\n",
    "df_tr = df_tr.dropna().reset_index(drop=True)\n",
    "len(df_tr)"
   ]
  },
  {
   "cell_type": "code",
   "execution_count": 10,
   "metadata": {},
   "outputs": [
    {
     "data": {
      "text/plain": [
       "Index(['Installed Base.Product Group',\n",
       "       'Installed Base.InstalledBase ProductID', 'Location.Country',\n",
       "       'Location.City', 'Location.Location Type', 'Location.Postal Code',\n",
       "       'Job Card.JobCard Number', 'Product.Product Number',\n",
       "       'Product.Product Name', 'Job Card.Date Start Work',\n",
       "       'Job Card.Date End Work', 'Job Card.ComponentCode',\n",
       "       'Job Card.FailureCode', 'Job Card.Symptom Description'],\n",
       "      dtype='object')"
      ]
     },
     "execution_count": 10,
     "metadata": {},
     "output_type": "execute_result"
    }
   ],
   "source": [
    "df_tr.columns"
   ]
  },
  {
   "cell_type": "markdown",
   "metadata": {},
   "source": [
    "# Features"
   ]
  },
  {
   "cell_type": "markdown",
   "metadata": {},
   "source": [
    "## Product Group / Product ID"
   ]
  },
  {
   "cell_type": "code",
   "execution_count": 11,
   "metadata": {},
   "outputs": [
    {
     "name": "stdout",
     "output_type": "stream",
     "text": [
      "74.21142857142857\n",
      "10.0\n",
      "1.0110548851693266\n",
      "1.0\n"
     ]
    }
   ],
   "source": [
    "# Problem: es gibt mehrere Groups pro ID und mehrere IDs pro Group\n",
    "\n",
    "# anzahl ids pro gruppe\n",
    "print(df_tr[['Installed Base.Product Group', 'Installed Base.InstalledBase ProductID']].drop_duplicates().groupby(['Installed Base.Product Group'])['Installed Base.InstalledBase ProductID'].count().mean())\n",
    "print(df_tr[['Installed Base.Product Group', 'Installed Base.InstalledBase ProductID']].drop_duplicates().groupby(['Installed Base.Product Group'])['Installed Base.InstalledBase ProductID'].count().median())\n",
    "\n",
    "# anzahl gruppen pro id\n",
    "print(df_tr[['Installed Base.Product Group', 'Installed Base.InstalledBase ProductID']].drop_duplicates().groupby(['Installed Base.InstalledBase ProductID'])['Installed Base.Product Group'].count().mean())\n",
    "print(df_tr[['Installed Base.Product Group', 'Installed Base.InstalledBase ProductID']].drop_duplicates().groupby(['Installed Base.InstalledBase ProductID'])['Installed Base.Product Group'].count().median())"
   ]
  },
  {
   "cell_type": "code",
   "execution_count": 12,
   "metadata": {},
   "outputs": [
    {
     "data": {
      "text/html": [
       "<div>\n",
       "<style scoped>\n",
       "    .dataframe tbody tr th:only-of-type {\n",
       "        vertical-align: middle;\n",
       "    }\n",
       "\n",
       "    .dataframe tbody tr th {\n",
       "        vertical-align: top;\n",
       "    }\n",
       "\n",
       "    .dataframe thead th {\n",
       "        text-align: right;\n",
       "    }\n",
       "</style>\n",
       "<table border=\"1\" class=\"dataframe\">\n",
       "  <thead>\n",
       "    <tr style=\"text-align: right;\">\n",
       "      <th></th>\n",
       "      <th>Installed Base.InstalledBase ProductID</th>\n",
       "      <th>Installed Base.Product Group</th>\n",
       "    </tr>\n",
       "  </thead>\n",
       "  <tbody>\n",
       "    <tr>\n",
       "      <th>80</th>\n",
       "      <td>111319193</td>\n",
       "      <td>22101</td>\n",
       "    </tr>\n",
       "    <tr>\n",
       "      <th>83</th>\n",
       "      <td>111319296</td>\n",
       "      <td>22101</td>\n",
       "    </tr>\n",
       "    <tr>\n",
       "      <th>9052</th>\n",
       "      <td>2001345</td>\n",
       "      <td>22101</td>\n",
       "    </tr>\n",
       "    <tr>\n",
       "      <th>9054</th>\n",
       "      <td>2001350</td>\n",
       "      <td>22101</td>\n",
       "    </tr>\n",
       "    <tr>\n",
       "      <th>9061</th>\n",
       "      <td>2001351</td>\n",
       "      <td>22101</td>\n",
       "    </tr>\n",
       "    <tr>\n",
       "      <th>9550</th>\n",
       "      <td>2006931</td>\n",
       "      <td>22101</td>\n",
       "    </tr>\n",
       "    <tr>\n",
       "      <th>28533</th>\n",
       "      <td>2044009</td>\n",
       "      <td>22101</td>\n",
       "    </tr>\n",
       "    <tr>\n",
       "      <th>28559</th>\n",
       "      <td>2044010</td>\n",
       "      <td>22101</td>\n",
       "    </tr>\n",
       "    <tr>\n",
       "      <th>28588</th>\n",
       "      <td>2044011</td>\n",
       "      <td>22101</td>\n",
       "    </tr>\n",
       "    <tr>\n",
       "      <th>28590</th>\n",
       "      <td>2044012</td>\n",
       "      <td>22101</td>\n",
       "    </tr>\n",
       "    <tr>\n",
       "      <th>28596</th>\n",
       "      <td>2044014</td>\n",
       "      <td>22101</td>\n",
       "    </tr>\n",
       "    <tr>\n",
       "      <th>28922</th>\n",
       "      <td>2046600</td>\n",
       "      <td>22101</td>\n",
       "    </tr>\n",
       "    <tr>\n",
       "      <th>28934</th>\n",
       "      <td>2046601</td>\n",
       "      <td>22101</td>\n",
       "    </tr>\n",
       "    <tr>\n",
       "      <th>28962</th>\n",
       "      <td>2046612</td>\n",
       "      <td>22101</td>\n",
       "    </tr>\n",
       "    <tr>\n",
       "      <th>29758</th>\n",
       "      <td>2048320</td>\n",
       "      <td>22101</td>\n",
       "    </tr>\n",
       "    <tr>\n",
       "      <th>29783</th>\n",
       "      <td>2048321</td>\n",
       "      <td>22101</td>\n",
       "    </tr>\n",
       "    <tr>\n",
       "      <th>29790</th>\n",
       "      <td>2048322</td>\n",
       "      <td>22101</td>\n",
       "    </tr>\n",
       "    <tr>\n",
       "      <th>29808</th>\n",
       "      <td>2048323</td>\n",
       "      <td>22101</td>\n",
       "    </tr>\n",
       "    <tr>\n",
       "      <th>32375</th>\n",
       "      <td>2053648</td>\n",
       "      <td>22101</td>\n",
       "    </tr>\n",
       "    <tr>\n",
       "      <th>34026</th>\n",
       "      <td>2060363</td>\n",
       "      <td>22101</td>\n",
       "    </tr>\n",
       "    <tr>\n",
       "      <th>34414</th>\n",
       "      <td>2061962</td>\n",
       "      <td>22101</td>\n",
       "    </tr>\n",
       "    <tr>\n",
       "      <th>34418</th>\n",
       "      <td>2061963</td>\n",
       "      <td>22101</td>\n",
       "    </tr>\n",
       "    <tr>\n",
       "      <th>34782</th>\n",
       "      <td>2063677</td>\n",
       "      <td>22101</td>\n",
       "    </tr>\n",
       "    <tr>\n",
       "      <th>35701</th>\n",
       "      <td>2066132</td>\n",
       "      <td>22101</td>\n",
       "    </tr>\n",
       "    <tr>\n",
       "      <th>35719</th>\n",
       "      <td>2066133</td>\n",
       "      <td>22101</td>\n",
       "    </tr>\n",
       "    <tr>\n",
       "      <th>38279</th>\n",
       "      <td>2085597</td>\n",
       "      <td>22101</td>\n",
       "    </tr>\n",
       "    <tr>\n",
       "      <th>38435</th>\n",
       "      <td>2087496</td>\n",
       "      <td>22101</td>\n",
       "    </tr>\n",
       "    <tr>\n",
       "      <th>39663</th>\n",
       "      <td>2089472</td>\n",
       "      <td>22101</td>\n",
       "    </tr>\n",
       "    <tr>\n",
       "      <th>82600</th>\n",
       "      <td>2131673</td>\n",
       "      <td>22101</td>\n",
       "    </tr>\n",
       "    <tr>\n",
       "      <th>82609</th>\n",
       "      <td>2131778</td>\n",
       "      <td>22101</td>\n",
       "    </tr>\n",
       "  </tbody>\n",
       "</table>\n",
       "</div>"
      ],
      "text/plain": [
       "      Installed Base.InstalledBase ProductID Installed Base.Product Group\n",
       "80                                 111319193                        22101\n",
       "83                                 111319296                        22101\n",
       "9052                                 2001345                        22101\n",
       "9054                                 2001350                        22101\n",
       "9061                                 2001351                        22101\n",
       "9550                                 2006931                        22101\n",
       "28533                                2044009                        22101\n",
       "28559                                2044010                        22101\n",
       "28588                                2044011                        22101\n",
       "28590                                2044012                        22101\n",
       "28596                                2044014                        22101\n",
       "28922                                2046600                        22101\n",
       "28934                                2046601                        22101\n",
       "28962                                2046612                        22101\n",
       "29758                                2048320                        22101\n",
       "29783                                2048321                        22101\n",
       "29790                                2048322                        22101\n",
       "29808                                2048323                        22101\n",
       "32375                                2053648                        22101\n",
       "34026                                2060363                        22101\n",
       "34414                                2061962                        22101\n",
       "34418                                2061963                        22101\n",
       "34782                                2063677                        22101\n",
       "35701                                2066132                        22101\n",
       "35719                                2066133                        22101\n",
       "38279                                2085597                        22101\n",
       "38435                                2087496                        22101\n",
       "39663                                2089472                        22101\n",
       "82600                                2131673                        22101\n",
       "82609                                2131778                        22101"
      ]
     },
     "execution_count": 12,
     "metadata": {},
     "output_type": "execute_result"
    }
   ],
   "source": [
    "# multiple productids for one group\n",
    "df_tr[df_tr['Installed Base.Product Group'] == '22101'][['Installed Base.InstalledBase ProductID', 'Installed Base.Product Group']].drop_duplicates()"
   ]
  },
  {
   "cell_type": "code",
   "execution_count": 13,
   "metadata": {},
   "outputs": [
    {
     "data": {
      "text/html": [
       "<div>\n",
       "<style scoped>\n",
       "    .dataframe tbody tr th:only-of-type {\n",
       "        vertical-align: middle;\n",
       "    }\n",
       "\n",
       "    .dataframe tbody tr th {\n",
       "        vertical-align: top;\n",
       "    }\n",
       "\n",
       "    .dataframe thead th {\n",
       "        text-align: right;\n",
       "    }\n",
       "</style>\n",
       "<table border=\"1\" class=\"dataframe\">\n",
       "  <thead>\n",
       "    <tr style=\"text-align: right;\">\n",
       "      <th></th>\n",
       "      <th>Installed Base.InstalledBase ProductID</th>\n",
       "      <th>Installed Base.Product Group</th>\n",
       "    </tr>\n",
       "  </thead>\n",
       "  <tbody>\n",
       "  </tbody>\n",
       "</table>\n",
       "</div>"
      ],
      "text/plain": [
       "Empty DataFrame\n",
       "Columns: [Installed Base.InstalledBase ProductID, Installed Base.Product Group]\n",
       "Index: []"
      ]
     },
     "execution_count": 13,
     "metadata": {},
     "output_type": "execute_result"
    }
   ],
   "source": [
    "# multiple groups for one productid\n",
    "df_tr[df_tr['Installed Base.InstalledBase ProductID'] == '9140962'][['Installed Base.InstalledBase ProductID', 'Installed Base.Product Group']].drop_duplicates()"
   ]
  },
  {
   "cell_type": "markdown",
   "metadata": {},
   "source": [
    "## Location"
   ]
  },
  {
   "cell_type": "code",
   "execution_count": 14,
   "metadata": {},
   "outputs": [
    {
     "name": "stdout",
     "output_type": "stream",
     "text": [
      "1.2106656286492798\n",
      "4.208407940833009\n",
      "2.0445309458933436\n",
      "4.799299338263916\n",
      "      Job Card.JobCard Number Installed Base.InstalledBase ProductID  \\\n",
      "42      C-BE005805-HA JC01.00                              111151799   \n",
      "43      C-BE005805-HA JC01.00                              111151799   \n",
      "44   CAS-45039-B8Q3F3 JC01.00                              111151799   \n",
      "45   CAS-45039-B8Q3F3 JC01.00                              111151799   \n",
      "46   CAS-45039-B8Q3F3 JC01.00                              111151799   \n",
      "47  CAS-142034-M9P4B2 JC01.00                              111151799   \n",
      "48  CAS-142034-M9P4B2 JC01.00                              111151799   \n",
      "49  CAS-142034-M9P4B2 JC01.00                              111151799   \n",
      "50   CAS-65124-G7C0X4 JC01.00                              111151799   \n",
      "51   CAS-65124-G7C0X4 JC01.00                              111151799   \n",
      "52   CAS-65124-G7C0X4 JC01.00                              111151799   \n",
      "53   CAS-65124-G7C0X4 JC01.00                              111151799   \n",
      "54   CAS-65124-G7C0X4 JC01.00                              111151799   \n",
      "55   CAS-65124-G7C0X4 JC01.00                              111151799   \n",
      "56   CAS-65124-G7C0X4 JC01.00                              111151799   \n",
      "57   CAS-65124-G7C0X4 JC01.00                              111151799   \n",
      "58   CAS-65124-G7C0X4 JC01.00                              111151799   \n",
      "59   CAS-65500-G9M3J3 JC01.00                              111151799   \n",
      "60   CAS-65500-G9M3J3 JC01.00                              111151799   \n",
      "\n",
      "   Location.Country  Location.City     Location.Location Type  \\\n",
      "42               BE      BRUXELLES     Building - Residential   \n",
      "43               BE      BRUXELLES     Building - Residential   \n",
      "44               DE  Veitshöchheim      Building - Commercial   \n",
      "45               DE  Veitshöchheim      Building - Commercial   \n",
      "46               DE  Veitshöchheim      Building - Commercial   \n",
      "47               DE    Liebenwalde  Building - Administrative   \n",
      "48               DE    Liebenwalde  Building - Administrative   \n",
      "49               DE    Liebenwalde  Building - Administrative   \n",
      "50               DE       Nittenau            Plant - Factory   \n",
      "51               DE       Nittenau            Plant - Factory   \n",
      "52               DE       Nittenau            Plant - Factory   \n",
      "53               DE       Nittenau            Plant - Factory   \n",
      "54               DE       Nittenau            Plant - Factory   \n",
      "55               DE       Nittenau            Plant - Factory   \n",
      "56               DE       Nittenau            Plant - Factory   \n",
      "57               DE       Nittenau            Plant - Factory   \n",
      "58               DE       Nittenau            Plant - Factory   \n",
      "59               DE         Tabarz        Building - Hospital   \n",
      "60               DE         Tabarz        Building - Hospital   \n",
      "\n",
      "   Location.Postal Code  \n",
      "42                 1180  \n",
      "43                 1180  \n",
      "44                97209  \n",
      "45                97209  \n",
      "46                97209  \n",
      "47                16559  \n",
      "48                16559  \n",
      "49                16559  \n",
      "50                93149  \n",
      "51                93149  \n",
      "52                93149  \n",
      "53                93149  \n",
      "54                93149  \n",
      "55                93149  \n",
      "56                93149  \n",
      "57                93149  \n",
      "58                93149  \n",
      "59                99891  \n",
      "60                99891  \n"
     ]
    }
   ],
   "source": [
    "# Problem: es gibt mehrere Locations pro ID (abhängig von CaseId)\n",
    "\n",
    "print(df_tr[['Location.Country', 'Installed Base.InstalledBase ProductID']].drop_duplicates().groupby(['Installed Base.InstalledBase ProductID'])['Location.Country'].count().mean())\n",
    "print(df_tr[['Location.City', 'Installed Base.InstalledBase ProductID']].drop_duplicates().groupby(['Installed Base.InstalledBase ProductID'])['Location.City'].count().mean())\n",
    "print(df_tr[['Location.Location Type', 'Installed Base.InstalledBase ProductID']].drop_duplicates().groupby(['Installed Base.InstalledBase ProductID'])['Location.Location Type'].count().mean())\n",
    "print(df_tr[['Location.Postal Code', 'Installed Base.InstalledBase ProductID']].drop_duplicates().groupby(['Installed Base.InstalledBase ProductID'])['Location.Postal Code'].count().mean())\n",
    "\n",
    "print(df_tr[df_tr['Installed Base.InstalledBase ProductID']=='111151799'][['Job Card.JobCard Number',  'Installed Base.InstalledBase ProductID', 'Location.Country', 'Location.City', 'Location.Location Type', 'Location.Postal Code']])"
   ]
  },
  {
   "cell_type": "markdown",
   "metadata": {},
   "source": [
    "## Component und Failure Codes"
   ]
  },
  {
   "cell_type": "code",
   "execution_count": 15,
   "metadata": {},
   "outputs": [],
   "source": [
    "# es gibt comp fail combos die nicht in symptom tabelle sind\n",
    "\n",
    "df_failcodes = df_tr[['Job Card.JobCard Number', 'Job Card.ComponentCode','Job Card.FailureCode']].rename(columns={'Job Card.JobCard Number':'CaseId'})\n",
    "df_symptoms = df_symptoms_init[['ComponentCode', 'FailureCode', 'Symptom1', 'Symptom2', 'Symptom3', 'Symptom4']]\n",
    "\n",
    "# create component code - failure code combination column in traindata\n",
    "df_failcodes_combo = pd.DataFrame(df_failcodes.apply(lambda x: (x['Job Card.ComponentCode'],x['Job Card.FailureCode']),axis=1), columns=['CompFail'])\n",
    "df_failcodes = pd.concat([df_failcodes[['CaseId']], df_failcodes_combo], axis=1)\n",
    "\n",
    "# create component code - failure code combination column in symptom table\n",
    "symptoms_combo = pd.DataFrame(df_symptoms.apply(lambda x: (x['ComponentCode'],x['FailureCode']),axis=1), columns=['CompFail'])\n",
    "df_symptoms = pd.concat([df_symptoms[['Symptom1', 'Symptom2', 'Symptom3', 'Symptom4']], symptoms_combo], axis=1)"
   ]
  },
  {
   "cell_type": "code",
   "execution_count": 16,
   "metadata": {},
   "outputs": [
    {
     "data": {
      "text/html": [
       "<div>\n",
       "<style scoped>\n",
       "    .dataframe tbody tr th:only-of-type {\n",
       "        vertical-align: middle;\n",
       "    }\n",
       "\n",
       "    .dataframe tbody tr th {\n",
       "        vertical-align: top;\n",
       "    }\n",
       "\n",
       "    .dataframe thead th {\n",
       "        text-align: right;\n",
       "    }\n",
       "</style>\n",
       "<table border=\"1\" class=\"dataframe\">\n",
       "  <thead>\n",
       "    <tr style=\"text-align: right;\">\n",
       "      <th></th>\n",
       "      <th>Symptom1</th>\n",
       "      <th>Symptom2</th>\n",
       "      <th>Symptom3</th>\n",
       "      <th>Symptom4</th>\n",
       "      <th>CompFail</th>\n",
       "    </tr>\n",
       "  </thead>\n",
       "  <tbody>\n",
       "    <tr>\n",
       "      <th>0</th>\n",
       "      <td>G001</td>\n",
       "      <td>P002</td>\n",
       "      <td>K001</td>\n",
       "      <td>K002</td>\n",
       "      <td>(CS1A, CSW9)</td>\n",
       "    </tr>\n",
       "    <tr>\n",
       "      <th>1</th>\n",
       "      <td>P002</td>\n",
       "      <td>M002</td>\n",
       "      <td>None</td>\n",
       "      <td>None</td>\n",
       "      <td>(CS1A, CSX3)</td>\n",
       "    </tr>\n",
       "    <tr>\n",
       "      <th>2</th>\n",
       "      <td>P002</td>\n",
       "      <td>M002</td>\n",
       "      <td>None</td>\n",
       "      <td>None</td>\n",
       "      <td>(CS1A, CSY0)</td>\n",
       "    </tr>\n",
       "    <tr>\n",
       "      <th>3</th>\n",
       "      <td>A002</td>\n",
       "      <td>M002</td>\n",
       "      <td>None</td>\n",
       "      <td>None</td>\n",
       "      <td>(CS1B, CSY5)</td>\n",
       "    </tr>\n",
       "    <tr>\n",
       "      <th>4</th>\n",
       "      <td>G001</td>\n",
       "      <td>None</td>\n",
       "      <td>None</td>\n",
       "      <td>None</td>\n",
       "      <td>(CS1C, CSZ9)</td>\n",
       "    </tr>\n",
       "  </tbody>\n",
       "</table>\n",
       "</div>"
      ],
      "text/plain": [
       "  Symptom1 Symptom2 Symptom3 Symptom4      CompFail\n",
       "0     G001     P002     K001     K002  (CS1A, CSW9)\n",
       "1     P002     M002     None     None  (CS1A, CSX3)\n",
       "2     P002     M002     None     None  (CS1A, CSY0)\n",
       "3     A002     M002     None     None  (CS1B, CSY5)\n",
       "4     G001     None     None     None  (CS1C, CSZ9)"
      ]
     },
     "execution_count": 16,
     "metadata": {},
     "output_type": "execute_result"
    }
   ],
   "source": [
    "df_symptoms.head()"
   ]
  },
  {
   "cell_type": "code",
   "execution_count": 17,
   "metadata": {},
   "outputs": [
    {
     "data": {
      "text/html": [
       "<div>\n",
       "<style scoped>\n",
       "    .dataframe tbody tr th:only-of-type {\n",
       "        vertical-align: middle;\n",
       "    }\n",
       "\n",
       "    .dataframe tbody tr th {\n",
       "        vertical-align: top;\n",
       "    }\n",
       "\n",
       "    .dataframe thead th {\n",
       "        text-align: right;\n",
       "    }\n",
       "</style>\n",
       "<table border=\"1\" class=\"dataframe\">\n",
       "  <thead>\n",
       "    <tr style=\"text-align: right;\">\n",
       "      <th></th>\n",
       "      <th>CaseId</th>\n",
       "      <th>CompFail</th>\n",
       "    </tr>\n",
       "  </thead>\n",
       "  <tbody>\n",
       "    <tr>\n",
       "      <th>0</th>\n",
       "      <td>CAS-34621-Z7R3S7 JC18.00</td>\n",
       "      <td>(CSXT, CSY7)</td>\n",
       "    </tr>\n",
       "    <tr>\n",
       "      <th>1</th>\n",
       "      <td>CAS-57422-L8N1P3 JC07.00</td>\n",
       "      <td>(CSXT, CSY7)</td>\n",
       "    </tr>\n",
       "    <tr>\n",
       "      <th>2</th>\n",
       "      <td>CAS-93677-L2H9S3 JC01.00</td>\n",
       "      <td>(CSXT, CSY7)</td>\n",
       "    </tr>\n",
       "    <tr>\n",
       "      <th>3</th>\n",
       "      <td>CAS-120240-N5Z8G3 JC01.00</td>\n",
       "      <td>(CSXT, CSY7)</td>\n",
       "    </tr>\n",
       "    <tr>\n",
       "      <th>4</th>\n",
       "      <td>CAS-162708-W1W3T3 JC01.00</td>\n",
       "      <td>(CSXT, CSY7)</td>\n",
       "    </tr>\n",
       "  </tbody>\n",
       "</table>\n",
       "</div>"
      ],
      "text/plain": [
       "                      CaseId      CompFail\n",
       "0   CAS-34621-Z7R3S7 JC18.00  (CSXT, CSY7)\n",
       "1   CAS-57422-L8N1P3 JC07.00  (CSXT, CSY7)\n",
       "2   CAS-93677-L2H9S3 JC01.00  (CSXT, CSY7)\n",
       "3  CAS-120240-N5Z8G3 JC01.00  (CSXT, CSY7)\n",
       "4  CAS-162708-W1W3T3 JC01.00  (CSXT, CSY7)"
      ]
     },
     "execution_count": 17,
     "metadata": {},
     "output_type": "execute_result"
    }
   ],
   "source": [
    "df_failcodes.head()"
   ]
  },
  {
   "cell_type": "code",
   "execution_count": 18,
   "metadata": {},
   "outputs": [
    {
     "name": "stdout",
     "output_type": "stream",
     "text": [
      "33\n",
      "3\n"
     ]
    }
   ],
   "source": [
    "# Combo in Symptom-Tabelle aber nicht in Training data (nicht so schlimm, aber ?)\n",
    "print(len(set(df_symptoms['CompFail']).difference(set(df_failcodes['CompFail']))))\n",
    "      \n",
    "# Combo in Traindata aber nicht in Sympton tabelle (keine Symptome übersetzbar)\n",
    "print(len(set(df_failcodes['CompFail']).difference(set(df_symptoms['CompFail']))))"
   ]
  },
  {
   "cell_type": "code",
   "execution_count": 19,
   "metadata": {},
   "outputs": [
    {
     "data": {
      "text/plain": [
       "30"
      ]
     },
     "execution_count": 19,
     "metadata": {},
     "output_type": "execute_result"
    }
   ],
   "source": [
    "# Combos in Symptom tabelle ohne Symptome\n",
    "# (keine Symptome übersetzbar)\n",
    "\n",
    "df_s = df_symptoms[df_symptoms['Symptom1'].isnull()].reset_index(drop=True)\n",
    "df_s = df_s[df_s['Symptom2'].isnull()].reset_index(drop=True)\n",
    "df_s = df_s[df_s['Symptom3'].isnull()].reset_index(drop=True)\n",
    "df_s = df_s[df_s['Symptom4'].isnull()].reset_index(drop=True)\n",
    "len(df_s)"
   ]
  },
  {
   "cell_type": "markdown",
   "metadata": {},
   "source": [
    "## Description"
   ]
  },
  {
   "cell_type": "code",
   "execution_count": 21,
   "metadata": {},
   "outputs": [
    {
     "data": {
      "text/plain": [
       "0    Vertragswartung\n",
       "1    Vertragswartung\n",
       "2    Vertragswartung\n",
       "3    Vertragswartung\n",
       "4    Vertragswartung\n",
       "Name: Job Card.Symptom Description, dtype: object"
      ]
     },
     "execution_count": 21,
     "metadata": {},
     "output_type": "execute_result"
    }
   ],
   "source": [
    "# könnte auch analysiert werden, aber eher später\n",
    "# Frage: steht da auch etwas sinnvolles drin?\n",
    "\n",
    "df_tr['Job Card.Symptom Description'].head()"
   ]
  },
  {
   "cell_type": "markdown",
   "metadata": {},
   "source": [
    "# Targets"
   ]
  },
  {
   "cell_type": "markdown",
   "metadata": {},
   "source": [
    "## ProductName / ProductNr"
   ]
  },
  {
   "cell_type": "code",
   "execution_count": 22,
   "metadata": {},
   "outputs": [
    {
     "data": {
      "text/plain": [
       "Index(['Installed Base.Product Group',\n",
       "       'Installed Base.InstalledBase ProductID', 'Location.Country',\n",
       "       'Location.City', 'Location.Location Type', 'Location.Postal Code',\n",
       "       'Job Card.JobCard Number', 'Product.Product Number',\n",
       "       'Product.Product Name', 'Job Card.Date Start Work',\n",
       "       'Job Card.Date End Work', 'Job Card.ComponentCode',\n",
       "       'Job Card.FailureCode', 'Job Card.Symptom Description'],\n",
       "      dtype='object')"
      ]
     },
     "execution_count": 22,
     "metadata": {},
     "output_type": "execute_result"
    }
   ],
   "source": [
    "df_tr.columns"
   ]
  },
  {
   "cell_type": "code",
   "execution_count": 23,
   "metadata": {},
   "outputs": [
    {
     "name": "stdout",
     "output_type": "stream",
     "text": [
      "1.2075725026852846\n",
      "1.0177662102523481\n"
     ]
    }
   ],
   "source": [
    "# Problem: es gibt mehrere Namen pro Nr und mehrere Nr pro Name\n",
    "\n",
    "# anzahl ids pro gruppe\n",
    "print(df_tr[['Product.Product Number', 'Product.Product Name']].drop_duplicates().groupby(['Product.Product Number'])['Product.Product Name'].count().mean())\n",
    "\n",
    "# anzahl gruppen pro id\n",
    "print(df_tr[['Product.Product Number', 'Product.Product Name']].drop_duplicates().groupby(['Product.Product Name'])['Product.Product Number'].count().mean())"
   ]
  },
  {
   "cell_type": "code",
   "execution_count": 24,
   "metadata": {},
   "outputs": [
    {
     "data": {
      "text/plain": [
       "26467    PASSSTÜCK FL DN40 X 30 PN6 KPL.F1\n",
       "59225           F1 Passstück DN40 30mm PN6\n",
       "97593                            SPACER F1\n",
       "Name: Product.Product Name, dtype: object"
      ]
     },
     "execution_count": 24,
     "metadata": {},
     "output_type": "execute_result"
    }
   ],
   "source": [
    "df_tr[df_tr['Product.Product Number']=='110586593']['Product.Product Name'].drop_duplicates()"
   ]
  },
  {
   "cell_type": "code",
   "execution_count": 25,
   "metadata": {},
   "outputs": [
    {
     "data": {
      "text/plain": [
       "37106     2830018-10\n",
       "103143       2830091\n",
       "Name: Product.Product Number, dtype: object"
      ]
     },
     "execution_count": 25,
     "metadata": {},
     "output_type": "execute_result"
    }
   ],
   "source": [
    "df_tr[df_tr['Product.Product Name']=='Flanschdichtung DN65 PN10']['Product.Product Number'].drop_duplicates()"
   ]
  },
  {
   "cell_type": "markdown",
   "metadata": {},
   "source": [
    "### Dauer"
   ]
  },
  {
   "cell_type": "code",
   "execution_count": null,
   "metadata": {},
   "outputs": [],
   "source": [
    "# mehrere Timestamps pro Case\n",
    "\n",
    "print(df_tr[['Job Card.JobCard Number', 'Job Card.Date Start Work', 'Job Card.Date End Work']].drop_duplicates().groupby(['Job Card.JobCard Number'])['Job Card.Date Start Work', 'Job Card.Date End Work'].count().mean())"
   ]
  },
  {
   "cell_type": "code",
   "execution_count": null,
   "metadata": {},
   "outputs": [],
   "source": [
    "x = df_tr[['Job Card.JobCard Number', 'Job Card.Date Start Work', 'Job Card.Date End Work']].drop_duplicates().groupby(['Job Card.JobCard Number'])['Job Card.Date Start Work', 'Job Card.Date End Work'].count().reset_index()"
   ]
  },
  {
   "cell_type": "code",
   "execution_count": null,
   "metadata": {},
   "outputs": [],
   "source": [
    "df_tr[df_tr['Job Card.JobCard Number']=='CAS-124239-C6C8Y1 JC01.00'][['Job Card.Date Start Work', 'Job Card.Date End Work']]"
   ]
  },
  {
   "cell_type": "code",
   "execution_count": null,
   "metadata": {},
   "outputs": [],
   "source": [
    "# wie soll dauer berechnet werden\n",
    "# z.B. hier\n",
    "# 1) von 6:30 bis 14:00                                               = 10.5h\n",
    "# oder\n",
    "# 2) Summe: 6:30-7:00 + 11:30-12:00 + 12:00-12:30 + 13:30-14:00       = 2h          <=== wahrscheinlich das\n",
    "# oder\n",
    "# 3) Summe von allen Einträgen                                        = 2.5\n",
    "\n",
    "df_tr[df_tr['Job Card.JobCard Number']=='CAS-77817-X1H3H1 JC01.00'][['Job Card.Date Start Work', 'Job Card.Date End Work']]"
   ]
  },
  {
   "cell_type": "code",
   "execution_count": null,
   "metadata": {},
   "outputs": [],
   "source": [
    "x[x['Job Card.Date Start Work']>1]"
   ]
  },
  {
   "cell_type": "code",
   "execution_count": null,
   "metadata": {},
   "outputs": [],
   "source": [
    "y = df_tr[['Job Card.JobCard Number', 'Job Card.Date Start Work', 'Job Card.Date End Work']].drop_duplicates()"
   ]
  },
  {
   "cell_type": "code",
   "execution_count": null,
   "metadata": {},
   "outputs": [],
   "source": []
  }
 ],
 "metadata": {
  "kernelspec": {
   "display_name": "Python 3.6 - AzureML",
   "language": "python",
   "name": "python3-azureml"
  },
  "language_info": {
   "codemirror_mode": {
    "name": "ipython",
    "version": 3
   },
   "file_extension": ".py",
   "mimetype": "text/x-python",
   "name": "python",
   "nbconvert_exporter": "python",
   "pygments_lexer": "ipython3",
   "version": "3.6.9"
  }
 },
 "nbformat": 4,
 "nbformat_minor": 2
}
