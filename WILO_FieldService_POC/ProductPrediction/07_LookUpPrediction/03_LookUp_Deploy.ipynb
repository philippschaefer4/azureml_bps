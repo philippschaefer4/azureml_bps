{
 "cells": [
  {
   "cell_type": "code",
   "execution_count": 1,
   "metadata": {},
   "outputs": [],
   "source": [
    "from azureml.core import Workspace, Experiment\n",
    "from azureml.core.authentication import InteractiveLoginAuthentication\n",
    "from azureml.train.estimator import Estimator\n",
    "from azureml.core.webservice import AksWebservice\n",
    "from azureml.core.model import InferenceConfig\n",
    "from azureml.core.model import Model\n",
    "from azureml.core.environment import Environment\n",
    "from azureml.core.conda_dependencies import CondaDependencies\n",
    "import json"
   ]
  },
  {
   "cell_type": "code",
   "execution_count": 2,
   "metadata": {},
   "outputs": [],
   "source": [
    "interactive_auth = InteractiveLoginAuthentication(tenant_id=\"39288a38-ff19-432c-8011-1cd9d0dff445\")\n",
    "ws = Workspace(subscription_id=\"793146d9-d4dc-4a73-9728-76c4ffd0cc0d\", resource_group=\"rg_dynamics_test\", workspace_name=\"resdynml1test\", auth=interactive_auth)"
   ]
  },
  {
   "cell_type": "code",
   "execution_count": 3,
   "metadata": {},
   "outputs": [],
   "source": [
    "# load experiment cfg\n",
    "with open(\"experiment_cfg.json\", \"r\") as cfg_file:\n",
    "    cfg = json.load(cfg_file)"
   ]
  },
  {
   "cell_type": "markdown",
   "metadata": {},
   "source": [
    "## Score Script"
   ]
  },
  {
   "cell_type": "code",
   "execution_count": 4,
   "metadata": {},
   "outputs": [
    {
     "name": "stdout",
     "output_type": "stream",
     "text": [
      "Overwriting ./src/score.py\n"
     ]
    }
   ],
   "source": [
    "%%writefile ./src/score.py\n",
    "\n",
    "import numpy as np\n",
    "import pandas as pd\n",
    "import json\n",
    "import os\n",
    "import joblib\n",
    "from lookup import LookUpClassifier\n",
    "from azureml.core.model import Model\n",
    "\n",
    "def init():\n",
    "    global model\n",
    "    model_path = Model.get_model_path('LookUpModel')\n",
    "    model = joblib.load(model_path)\n",
    "    \n",
    "def run(raw_data):\n",
    "    \n",
    "    # get input data\n",
    "    data = json.loads(raw_data)\n",
    "    \n",
    "    X = [ [d['ProductId'], d['Country'], ' '.join(d['Symptoms']) ] for d in data]\n",
    "    \n",
    "    # make prediction\n",
    "    y = model.predict(X)\n",
    "    \n",
    "    response = [\n",
    "        {\n",
    "            'Products':\n",
    "                y[j].split(' '),\n",
    "            'Duration':\n",
    "                 round(np.random.random())*10 #y_dur[j,0]\n",
    "        }        \n",
    "            for j in range(len(y))\n",
    "    ]\n",
    "\n",
    "    return response"
   ]
  },
  {
   "cell_type": "markdown",
   "metadata": {},
   "source": [
    "## Deploy Webservice"
   ]
  },
  {
   "cell_type": "code",
   "execution_count": 5,
   "metadata": {},
   "outputs": [
    {
     "name": "stdout",
     "output_type": "stream",
     "text": [
      "AKS service creation operation finished, operation \"Succeeded\"\n"
     ]
    }
   ],
   "source": [
    "inference_config = InferenceConfig(entry_script=\"score.py\", environment=ws.environments[cfg['env_name']], source_directory='./src')\n",
    "\n",
    "aksconfig = AksWebservice.deploy_configuration()\n",
    "\n",
    "service = Model.deploy(workspace=ws, \n",
    "                           name=cfg['webservice_name'],\n",
    "                           models= [ ws.models[cfg['TrainedClassifier']] ], \n",
    "                           inference_config=inference_config, \n",
    "                           deployment_config=aksconfig,\n",
    "                           deployment_target=ws.compute_targets[cfg['inference_target']])\n",
    "\n",
    "service.wait_for_deployment()"
   ]
  },
  {
   "cell_type": "code",
   "execution_count": null,
   "metadata": {},
   "outputs": [],
   "source": []
  }
 ],
 "metadata": {
  "kernelspec": {
   "display_name": "Python 3.6 - AzureML",
   "language": "python",
   "name": "python3-azureml"
  },
  "language_info": {
   "codemirror_mode": {
    "name": "ipython",
    "version": 3
   },
   "file_extension": ".py",
   "mimetype": "text/x-python",
   "name": "python",
   "nbconvert_exporter": "python",
   "pygments_lexer": "ipython3",
   "version": "3.6.9"
  }
 },
 "nbformat": 4,
 "nbformat_minor": 2
}
