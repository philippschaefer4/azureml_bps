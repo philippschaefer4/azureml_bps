{
 "cells": [
  {
   "cell_type": "code",
   "execution_count": 22,
   "metadata": {},
   "outputs": [],
   "source": [
    "from azureml.core import Workspace, Experiment\n",
    "from azureml.core.authentication import InteractiveLoginAuthentication\n",
    "\n",
    "from azureml.core.webservice import AciWebservice, LocalWebservice\n",
    "from azureml.core.model import InferenceConfig\n",
    "from azureml.core.model import Model\n",
    "from azureml.core.environment import Environment\n",
    "from azureml.core.conda_dependencies import CondaDependencies"
   ]
  },
  {
   "cell_type": "code",
   "execution_count": 23,
   "metadata": {},
   "outputs": [],
   "source": [
    "interactive_auth = InteractiveLoginAuthentication(tenant_id=\"39288a38-ff19-432c-8011-1cd9d0dff445\")\n",
    "ws = Workspace(subscription_id=\"793146d9-d4dc-4a73-9728-76c4ffd0cc0d\", resource_group=\"rg_dynamics_test\", workspace_name=\"resdynml1test\", auth=interactive_auth)"
   ]
  },
  {
   "cell_type": "code",
   "execution_count": 9,
   "metadata": {},
   "outputs": [
    {
     "name": "stdout",
     "output_type": "stream",
     "text": [
      "Overwriting ./score/score.py\n"
     ]
    }
   ],
   "source": [
    "%%writefile ./score/score.py\n",
    "\n",
    "# import json\n",
    "# import numpy as np\n",
    "# import os\n",
    "from azureml.core.model import Model\n",
    "import joblib\n",
    "from pipe import create_pipeline\n",
    "# import pandas as pd\n",
    "\n",
    "\n",
    "def init():\n",
    "    global model\n",
    "#     model = 'hallo' \n",
    "    model_path = Model.get_model_path('DummyModel')\n",
    "#     model = model_path\n",
    "    model = joblib.load(model_path)\n",
    "    \n",
    "def run(raw_data):\n",
    "    return 'haali'"
   ]
  },
  {
   "cell_type": "code",
   "execution_count": 10,
   "metadata": {},
   "outputs": [
    {
     "data": {
      "text/plain": [
       "'myenv.yml'"
      ]
     },
     "execution_count": 10,
     "metadata": {},
     "output_type": "execute_result"
    }
   ],
   "source": [
    "cd = CondaDependencies.create()\n",
    "cd.add_pip_package(\"azureml-defaults\")\n",
    "cd.add_pip_package('pyarrow==0.12.0')\n",
    "cd.add_pip_package('joblib')\n",
    "cd.add_pip_package('scikit-learn==0.20.3')\n",
    "cd.save_to_file(base_directory='./score', conda_file_path='myenv.yml')"
   ]
  },
  {
   "cell_type": "code",
   "execution_count": 11,
   "metadata": {},
   "outputs": [],
   "source": [
    "myenv = Environment.from_conda_specification(name=\"myenv\", file_path=\"./score/myenv.yml\")"
   ]
  },
  {
   "cell_type": "code",
   "execution_count": 12,
   "metadata": {},
   "outputs": [],
   "source": [
    "inference_config = InferenceConfig(entry_script=\"score.py\", environment=myenv, source_directory='./score')"
   ]
  },
  {
   "cell_type": "code",
   "execution_count": 13,
   "metadata": {},
   "outputs": [],
   "source": [
    "aciconfig = AciWebservice.deploy_configuration(cpu_cores=1,\n",
    "                                               auth_enabled=False, # this flag generates API keys to secure access\n",
    "                                               memory_gb=1,                                 \n",
    "                                               description='Dummy Classifier for Product Prediction')"
   ]
  },
  {
   "cell_type": "code",
   "execution_count": 14,
   "metadata": {},
   "outputs": [],
   "source": [
    "service = Model.deploy(workspace=ws, \n",
    "                           name='dummy-product-prediction-aci2', \n",
    "                           models= [ws.models['DummyModel']], \n",
    "                           inference_config=inference_config, \n",
    "                           deployment_config=aciconfig)"
   ]
  },
  {
   "cell_type": "code",
   "execution_count": 21,
   "metadata": {},
   "outputs": [
    {
     "name": "stdout",
     "output_type": "stream",
     "text": [
      "2020-06-16T16:59:21,915212634+00:00 - gunicorn/run \n",
      "2020-06-16T16:59:21,916106840+00:00 - iot-server/run \n",
      "2020-06-16T16:59:21,927673514+00:00 - rsyslog/run \n",
      "2020-06-16T16:59:21,938380682+00:00 - nginx/run \n",
      "/usr/sbin/nginx: /azureml-envs/azureml_c19cf3552ae7d24af5d3c3e41db2bf7e/lib/libcrypto.so.1.0.0: no version information available (required by /usr/sbin/nginx)\n",
      "/usr/sbin/nginx: /azureml-envs/azureml_c19cf3552ae7d24af5d3c3e41db2bf7e/lib/libcrypto.so.1.0.0: no version information available (required by /usr/sbin/nginx)\n",
      "/usr/sbin/nginx: /azureml-envs/azureml_c19cf3552ae7d24af5d3c3e41db2bf7e/lib/libssl.so.1.0.0: no version information available (required by /usr/sbin/nginx)\n",
      "/usr/sbin/nginx: /azureml-envs/azureml_c19cf3552ae7d24af5d3c3e41db2bf7e/lib/libssl.so.1.0.0: no version information available (required by /usr/sbin/nginx)\n",
      "/usr/sbin/nginx: /azureml-envs/azureml_c19cf3552ae7d24af5d3c3e41db2bf7e/lib/libssl.so.1.0.0: no version information available (required by /usr/sbin/nginx)\n",
      "EdgeHubConnectionString and IOTEDGE_IOTHUBHOSTNAME are not set. Exiting...\n",
      "2020-06-16T16:59:22,053068515+00:00 - iot-server/finish 1 0\n",
      "2020-06-16T16:59:22,054623525+00:00 - Exit code 1 is normal. Not restarting iot-server.\n",
      "Starting gunicorn 19.9.0\n",
      "Listening at: http://127.0.0.1:31311 (13)\n",
      "Using worker: sync\n",
      "worker timeout is set to 300\n",
      "Booting worker with pid: 42\n",
      "Initialized PySpark session.\n",
      "Initializing logger\n",
      "Starting up app insights client\n",
      "Starting up request id generator\n",
      "Starting up app insight hooks\n",
      "Invoking user's init function\n",
      "/azureml-envs/azureml_c19cf3552ae7d24af5d3c3e41db2bf7e/lib/python3.6/site-packages/sklearn/base.py:334: UserWarning: Trying to unpickle estimator DummyClassifier from version 0.20.3 when using version 0.23.1. This might lead to breaking code or invalid results. Use at your own risk.\n",
      "  UserWarning)\n",
      "/azureml-envs/azureml_c19cf3552ae7d24af5d3c3e41db2bf7e/lib/python3.6/site-packages/sklearn/base.py:334: UserWarning: Trying to unpickle estimator Pipeline from version 0.20.3 when using version 0.23.1. This might lead to breaking code or invalid results. Use at your own risk.\n",
      "  UserWarning)\n",
      "/azureml-envs/azureml_c19cf3552ae7d24af5d3c3e41db2bf7e/lib/python3.6/site-packages/sklearn/base.py:334: UserWarning: Trying to unpickle estimator FeatureUnion from version 0.20.3 when using version 0.23.1. This might lead to breaking code or invalid results. Use at your own risk.\n",
      "  UserWarning)\n",
      "/azureml-envs/azureml_c19cf3552ae7d24af5d3c3e41db2bf7e/lib/python3.6/site-packages/sklearn/base.py:334: UserWarning: Trying to unpickle estimator MultiOutputClassifier from version 0.20.3 when using version 0.23.1. This might lead to breaking code or invalid results. Use at your own risk.\n",
      "  UserWarning)\n",
      "Users's init has completed successfully\n",
      "Scoring timeout is found from os.environ: 60000 ms\n",
      "Swagger file not present\n",
      "404\n",
      "127.0.0.1 - - [16/Jun/2020:16:59:40 +0000] \"GET /swagger.json HTTP/1.0\" 404 19 \"-\" \"Go-http-client/1.1\"\n",
      "\n"
     ]
    }
   ],
   "source": [
    "print(ws.webservices['dummy-product-prediction-aci2'].get_logs())"
   ]
  },
  {
   "cell_type": "code",
   "execution_count": 25,
   "metadata": {},
   "outputs": [
    {
     "name": "stderr",
     "output_type": "stream",
     "text": [
      "ERROR - Received bad response from Model Management Service:\n",
      "Response Code: 404\n",
      "Headers: {'Date': 'Tue, 16 Jun 2020 17:34:37 GMT', 'Content-Type': 'application/json', 'Transfer-Encoding': 'chunked', 'Connection': 'keep-alive', 'Vary': 'Accept-Encoding', 'Request-Context': 'appId=cid-v1:6a27ce65-5555-41a3-85f7-b7a1ce31fd6b', 'x-ms-client-request-id': 'e4b9d82628b44d91afdc4988f27430b9', 'x-ms-client-session-id': 'e57ab2fc-0468-41e7-af64-72ce2b556b86', 'api-supported-versions': '1.0, 2018-03-01-preview, 2018-11-19', 'Strict-Transport-Security': 'max-age=15724800; includeSubDomains; preload', 'Content-Encoding': 'gzip'}\n",
      "Content: b'{\"code\":\"NotFound\",\"statusCode\":404,\"message\":\"The specified resource was not found.\",\"details\":[{\"code\":\"ContainerLogNotAvailable\",\"message\":\"Log of container \\'dummy-product-prediction-aci\\' in container group \\'dummy-product-prediction-aci\\' is not available yet. Please check container \\'InstanceView\\' for more information or retry later.\"}],\"correlation\":{\"RequestId\":\"e4b9d82628b44d91afdc4988f27430b9\"}}'\n",
      "\n"
     ]
    },
    {
     "ename": "WebserviceException",
     "evalue": "WebserviceException:\n\tMessage: Received bad response from Model Management Service:\nResponse Code: 404\nHeaders: {'Date': 'Tue, 16 Jun 2020 17:34:37 GMT', 'Content-Type': 'application/json', 'Transfer-Encoding': 'chunked', 'Connection': 'keep-alive', 'Vary': 'Accept-Encoding', 'Request-Context': 'appId=cid-v1:6a27ce65-5555-41a3-85f7-b7a1ce31fd6b', 'x-ms-client-request-id': 'e4b9d82628b44d91afdc4988f27430b9', 'x-ms-client-session-id': 'e57ab2fc-0468-41e7-af64-72ce2b556b86', 'api-supported-versions': '1.0, 2018-03-01-preview, 2018-11-19', 'Strict-Transport-Security': 'max-age=15724800; includeSubDomains; preload', 'Content-Encoding': 'gzip'}\nContent: b'{\"code\":\"NotFound\",\"statusCode\":404,\"message\":\"The specified resource was not found.\",\"details\":[{\"code\":\"ContainerLogNotAvailable\",\"message\":\"Log of container \\'dummy-product-prediction-aci\\' in container group \\'dummy-product-prediction-aci\\' is not available yet. Please check container \\'InstanceView\\' for more information or retry later.\"}],\"correlation\":{\"RequestId\":\"e4b9d82628b44d91afdc4988f27430b9\"}}'\n\tInnerException None\n\tErrorResponse \n{\n    \"error\": {\n        \"message\": \"Received bad response from Model Management Service:\\nResponse Code: 404\\nHeaders: {'Date': 'Tue, 16 Jun 2020 17:34:37 GMT', 'Content-Type': 'application/json', 'Transfer-Encoding': 'chunked', 'Connection': 'keep-alive', 'Vary': 'Accept-Encoding', 'Request-Context': 'appId=cid-v1:6a27ce65-5555-41a3-85f7-b7a1ce31fd6b', 'x-ms-client-request-id': 'e4b9d82628b44d91afdc4988f27430b9', 'x-ms-client-session-id': 'e57ab2fc-0468-41e7-af64-72ce2b556b86', 'api-supported-versions': '1.0, 2018-03-01-preview, 2018-11-19', 'Strict-Transport-Security': 'max-age=15724800; includeSubDomains; preload', 'Content-Encoding': 'gzip'}\\nContent: b'{\\\"code\\\":\\\"NotFound\\\",\\\"statusCode\\\":404,\\\"message\\\":\\\"The specified resource was not found.\\\",\\\"details\\\":[{\\\"code\\\":\\\"ContainerLogNotAvailable\\\",\\\"message\\\":\\\"Log of container \\\\'dummy-product-prediction-aci\\\\' in container group \\\\'dummy-product-prediction-aci\\\\' is not available yet. Please check container \\\\'InstanceView\\\\' for more information or retry later.\\\"}],\\\"correlation\\\":{\\\"RequestId\\\":\\\"e4b9d82628b44d91afdc4988f27430b9\\\"}}'\"\n    }\n}",
     "output_type": "error",
     "traceback": [
      "\u001b[0;31m---------------------------------------------------------------------------\u001b[0m",
      "\u001b[0;31mWebserviceException\u001b[0m                       Traceback (most recent call last)",
      "\u001b[0;32m<ipython-input-25-89f6ae8768f0>\u001b[0m in \u001b[0;36m<module>\u001b[0;34m\u001b[0m\n\u001b[0;32m----> 1\u001b[0;31m \u001b[0mws\u001b[0m\u001b[0;34m.\u001b[0m\u001b[0mwebservices\u001b[0m\u001b[0;34m[\u001b[0m\u001b[0;34m'dummy-product-prediction-aci'\u001b[0m\u001b[0;34m]\u001b[0m\u001b[0;34m.\u001b[0m\u001b[0mget_logs\u001b[0m\u001b[0;34m(\u001b[0m\u001b[0;34m)\u001b[0m\u001b[0;34m\u001b[0m\u001b[0;34m\u001b[0m\u001b[0m\n\u001b[0m",
      "\u001b[0;32m/anaconda/envs/azureml_py36/lib/python3.6/site-packages/azureml/core/webservice/webservice.py\u001b[0m in \u001b[0;36mget_logs\u001b[0;34m(self, num_lines)\u001b[0m\n\u001b[1;32m    943\u001b[0m                                       \u001b[0;34m'Headers: {}\\n'\u001b[0m\u001b[0;34m\u001b[0m\u001b[0;34m\u001b[0m\u001b[0m\n\u001b[1;32m    944\u001b[0m                                       \u001b[0;34m'Content: {}'\u001b[0m\u001b[0;34m.\u001b[0m\u001b[0mformat\u001b[0m\u001b[0;34m(\u001b[0m\u001b[0mresp\u001b[0m\u001b[0;34m.\u001b[0m\u001b[0mstatus_code\u001b[0m\u001b[0;34m,\u001b[0m \u001b[0mresp\u001b[0m\u001b[0;34m.\u001b[0m\u001b[0mheaders\u001b[0m\u001b[0;34m,\u001b[0m \u001b[0mresp\u001b[0m\u001b[0;34m.\u001b[0m\u001b[0mcontent\u001b[0m\u001b[0;34m)\u001b[0m\u001b[0;34m,\u001b[0m\u001b[0;34m\u001b[0m\u001b[0;34m\u001b[0m\u001b[0m\n\u001b[0;32m--> 945\u001b[0;31m                                       logger=module_logger)\n\u001b[0m\u001b[1;32m    946\u001b[0m         \u001b[0;32melse\u001b[0m\u001b[0;34m:\u001b[0m\u001b[0;34m\u001b[0m\u001b[0;34m\u001b[0m\u001b[0m\n\u001b[1;32m    947\u001b[0m             \u001b[0mcontent\u001b[0m \u001b[0;34m=\u001b[0m \u001b[0mresp\u001b[0m\u001b[0;34m.\u001b[0m\u001b[0mcontent\u001b[0m\u001b[0;34m\u001b[0m\u001b[0;34m\u001b[0m\u001b[0m\n",
      "\u001b[0;31mWebserviceException\u001b[0m: WebserviceException:\n\tMessage: Received bad response from Model Management Service:\nResponse Code: 404\nHeaders: {'Date': 'Tue, 16 Jun 2020 17:34:37 GMT', 'Content-Type': 'application/json', 'Transfer-Encoding': 'chunked', 'Connection': 'keep-alive', 'Vary': 'Accept-Encoding', 'Request-Context': 'appId=cid-v1:6a27ce65-5555-41a3-85f7-b7a1ce31fd6b', 'x-ms-client-request-id': 'e4b9d82628b44d91afdc4988f27430b9', 'x-ms-client-session-id': 'e57ab2fc-0468-41e7-af64-72ce2b556b86', 'api-supported-versions': '1.0, 2018-03-01-preview, 2018-11-19', 'Strict-Transport-Security': 'max-age=15724800; includeSubDomains; preload', 'Content-Encoding': 'gzip'}\nContent: b'{\"code\":\"NotFound\",\"statusCode\":404,\"message\":\"The specified resource was not found.\",\"details\":[{\"code\":\"ContainerLogNotAvailable\",\"message\":\"Log of container \\'dummy-product-prediction-aci\\' in container group \\'dummy-product-prediction-aci\\' is not available yet. Please check container \\'InstanceView\\' for more information or retry later.\"}],\"correlation\":{\"RequestId\":\"e4b9d82628b44d91afdc4988f27430b9\"}}'\n\tInnerException None\n\tErrorResponse \n{\n    \"error\": {\n        \"message\": \"Received bad response from Model Management Service:\\nResponse Code: 404\\nHeaders: {'Date': 'Tue, 16 Jun 2020 17:34:37 GMT', 'Content-Type': 'application/json', 'Transfer-Encoding': 'chunked', 'Connection': 'keep-alive', 'Vary': 'Accept-Encoding', 'Request-Context': 'appId=cid-v1:6a27ce65-5555-41a3-85f7-b7a1ce31fd6b', 'x-ms-client-request-id': 'e4b9d82628b44d91afdc4988f27430b9', 'x-ms-client-session-id': 'e57ab2fc-0468-41e7-af64-72ce2b556b86', 'api-supported-versions': '1.0, 2018-03-01-preview, 2018-11-19', 'Strict-Transport-Security': 'max-age=15724800; includeSubDomains; preload', 'Content-Encoding': 'gzip'}\\nContent: b'{\\\"code\\\":\\\"NotFound\\\",\\\"statusCode\\\":404,\\\"message\\\":\\\"The specified resource was not found.\\\",\\\"details\\\":[{\\\"code\\\":\\\"ContainerLogNotAvailable\\\",\\\"message\\\":\\\"Log of container \\\\'dummy-product-prediction-aci\\\\' in container group \\\\'dummy-product-prediction-aci\\\\' is not available yet. Please check container \\\\'InstanceView\\\\' for more information or retry later.\\\"}],\\\"correlation\\\":{\\\"RequestId\\\":\\\"e4b9d82628b44d91afdc4988f27430b9\\\"}}'\"\n    }\n}"
     ]
    }
   ],
   "source": [
    "ws.webservices['dummy-product-prediction-aci'].get_logs()"
   ]
  }
 ],
 "metadata": {
  "kernelspec": {
   "display_name": "Python 3.6 - AzureML",
   "language": "python",
   "name": "python3-azureml"
  },
  "language_info": {
   "codemirror_mode": {
    "name": "ipython",
    "version": 3
   },
   "file_extension": ".py",
   "mimetype": "text/x-python",
   "name": "python",
   "nbconvert_exporter": "python",
   "pygments_lexer": "ipython3",
   "version": "3.6.9"
  }
 },
 "nbformat": 4,
 "nbformat_minor": 2
}
