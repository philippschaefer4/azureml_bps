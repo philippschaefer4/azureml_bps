{
 "cells": [
  {
   "cell_type": "code",
   "execution_count": 4,
   "metadata": {},
   "outputs": [],
   "source": [
    "from azureml.core import Workspace, Experiment, Environment\n",
    "from azureml.core.conda_dependencies import CondaDependencies\n",
    "from azureml.core.authentication import InteractiveLoginAuthentication\n",
    "import json\n",
    "import os"
   ]
  },
  {
   "cell_type": "code",
   "execution_count": 5,
   "metadata": {},
   "outputs": [],
   "source": [
    "interactive_auth = InteractiveLoginAuthentication(tenant_id=\"39288a38-ff19-432c-8011-1cd9d0dff445\")\n",
    "ws = Workspace(subscription_id=\"793146d9-d4dc-4a73-9728-76c4ffd0cc0d\", resource_group=\"rg_dynamics_test\", workspace_name=\"resdynml1test\", auth=interactive_auth)"
   ]
  },
  {
   "cell_type": "code",
   "execution_count": 6,
   "metadata": {},
   "outputs": [],
   "source": [
    "os.makedirs('src', exist_ok=True)\n",
    "os.makedirs('artifacts', exist_ok=True)"
   ]
  },
  {
   "cell_type": "markdown",
   "metadata": {},
   "source": [
    "## Create Config File"
   ]
  },
  {
   "cell_type": "code",
   "execution_count": 7,
   "metadata": {},
   "outputs": [],
   "source": [
    "prefix = 'Dummy'\n",
    "\n",
    "cfg = {\n",
    "    'experiment_name' : prefix+'Prediction',\n",
    "    'env_name' : 'WILO_POC_'+prefix,\n",
    "    'symptomcodes_dataset' : 'symptomcodes.csv',\n",
    "    'raw_data_dataset' : 'ItemResourceData.csv',\n",
    "    'prepared_data_dataset' : prefix+'PreparedData',\n",
    "    'train_dataset' : prefix+'TrainData',\n",
    "    'test_dataset' : prefix+'TestData',\n",
    "    'PreprocessPipeline' : prefix+'PreprocessPipeline',\n",
    "    'TrainedClassifier' : prefix+'Classifier',\n",
    "    'TrainedRegressor' : prefix+'Regressor',\n",
    "    'webservice_name' : prefix.lower()+'-webservice',\n",
    "    'compute_target' : 'mlcompute',\n",
    "    'inference_target' : 'mlinference',\n",
    "    'storage': 'workspaceblobstore'\n",
    "}"
   ]
  },
  {
   "cell_type": "code",
   "execution_count": 8,
   "metadata": {},
   "outputs": [],
   "source": [
    "# save to file\n",
    "with open(\"experiment_cfg.json\", \"w\") as cfg_file:\n",
    "    json.dump(cfg, cfg_file)"
   ]
  },
  {
   "cell_type": "markdown",
   "metadata": {},
   "source": [
    "## Define Environment"
   ]
  },
  {
   "cell_type": "code",
   "execution_count": null,
   "metadata": {},
   "outputs": [],
   "source": [
    "# define dependencies\n",
    "\n",
    "cd = CondaDependencies()\n",
    "cd.add_conda_package('numpy==1.16.2')\n",
    "cd.add_pip_package(\"azureml-defaults\")\n",
    "cd.add_pip_package('azureml-dataprep[pandas,fuse]')\n",
    "cd.add_pip_package('pyarrow==0.12.0')\n",
    "cd.add_pip_package('joblib==0.14.1')\n",
    "cd.add_pip_package('scikit-learn==0.20.3')"
   ]
  },
  {
   "cell_type": "code",
   "execution_count": null,
   "metadata": {},
   "outputs": [],
   "source": [
    "# register environment\n",
    "\n",
    "if cfg['env_name'] in ws.environments:\n",
    "    env = ws.environments[cfg['env_name']]\n",
    "else:\n",
    "    env = Environment(cfg['env_name'])\n",
    "env.python.conda_dependencies = cd\n",
    "env.docker.enabled = True\n",
    "env.register(ws)"
   ]
  },
  {
   "cell_type": "code",
   "execution_count": null,
   "metadata": {},
   "outputs": [],
   "source": []
  }
 ],
 "metadata": {
  "kernelspec": {
   "display_name": "Python 3.6 - AzureML",
   "language": "python",
   "name": "python3-azureml"
  },
  "language_info": {
   "codemirror_mode": {
    "name": "ipython",
    "version": 3
   },
   "file_extension": ".py",
   "mimetype": "text/x-python",
   "name": "python",
   "nbconvert_exporter": "python",
   "pygments_lexer": "ipython3",
   "version": "3.6.9"
  }
 },
 "nbformat": 4,
 "nbformat_minor": 2
}
