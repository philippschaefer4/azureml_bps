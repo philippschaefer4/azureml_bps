{
 "cells": [
  {
   "cell_type": "code",
   "execution_count": null,
   "metadata": {},
   "outputs": [],
   "source": [
    "from azureml.core import Workspace, Experiment, Dataset\n",
    "from azureml.core.authentication import InteractiveLoginAuthentication\n",
    "from azureml.train.estimator import Estimator\n",
    "import json"
   ]
  },
  {
   "cell_type": "code",
   "execution_count": null,
   "metadata": {},
   "outputs": [],
   "source": [
    "interactive_auth = InteractiveLoginAuthentication(tenant_id=\"39288a38-ff19-432c-8011-1cd9d0dff445\")\n",
    "ws = Workspace(subscription_id=\"793146d9-d4dc-4a73-9728-76c4ffd0cc0d\", resource_group=\"rg_dynamics_test\", workspace_name=\"resdynml1test\", auth=interactive_auth)"
   ]
  },
  {
   "cell_type": "code",
   "execution_count": null,
   "metadata": {},
   "outputs": [],
   "source": [
    "# load experiment cfg\n",
    "with open(\"experiment_cfg.json\", \"r\") as cfg_file:\n",
    "    cfg = json.load(cfg_file)"
   ]
  },
  {
   "cell_type": "markdown",
   "metadata": {},
   "source": [
    "## Score Script"
   ]
  },
  {
   "cell_type": "code",
   "execution_count": null,
   "metadata": {},
   "outputs": [],
   "source": [
    "%%writefile ./src/score.py\n",
    "\n",
    "import json\n",
    "import numpy as np\n",
    "import os\n",
    "from azureml.core.model import Model\n",
    "import joblib\n",
    "from pipe import create_pipeline\n",
    "import pandas as pd\n",
    "\n",
    "def init():\n",
    "    global model\n",
    "    global regressor\n",
    "    global pipelines\n",
    "    model_path = Model.get_model_path('DummyModel')\n",
    "    model = joblib.load(model_path)\n",
    "    regressor_path = Model.get_model_path('DummyModelRegressor')\n",
    "    regressor = joblib.load(regressor_path)\n",
    "    pipeline_path = Model.get_model_path('DummyPipe')\n",
    "    pipelines = joblib.load(pipeline_path)\n",
    "    \n",
    "def run(raw_data):\n",
    "    \n",
    "    # get input data\n",
    "    data = json.loads(raw_data)\n",
    "    \n",
    "    # transform with pipeline\n",
    "    X = pipelines['feature_pipe'].transform(pd.DataFrame(data))\n",
    "    \n",
    "    # make prediction\n",
    "    y = model.predict(X)\n",
    "    \n",
    "    # predict duration\n",
    "    y_dur = regressor.predict(X)\n",
    "    \n",
    "    response = [\n",
    "        {\n",
    "            'Products':\n",
    "            [ \n",
    "                pipelines['target_pipe'].transformer_list[1][1].named_steps['target_encode'].col_cats[0][i] \n",
    "                for i in range(y.shape[1]) if y[j,i] == 1 \n",
    "            ],\n",
    "            'Duration':\n",
    "                 y_dur[j,0]\n",
    "        }        \n",
    "            for j in range(y.shape[0])\n",
    "    ]\n",
    "\n",
    "    return response"
   ]
  },
  {
   "cell_type": "markdown",
   "metadata": {},
   "source": [
    "## Deploy Webservice"
   ]
  },
  {
   "cell_type": "code",
   "execution_count": null,
   "metadata": {},
   "outputs": [],
   "source": [
    "from azureml.core.webservice import AciWebservice, LocalWebservice\n",
    "from azureml.core.model import InferenceConfig\n",
    "from azureml.core.model import Model\n",
    "from azureml.core.environment import Environment\n",
    "from azureml.core.conda_dependencies import CondaDependencies\n",
    "\n",
    "cd = CondaDependencies.create()\n",
    "cd.add_pip_package(\"azureml-defaults\")\n",
    "cd.add_pip_package('pyarrow==0.12.0')\n",
    "cd.add_pip_package('joblib')\n",
    "cd.add_pip_package('scikit-learn==0.20.3')\n",
    "cd.save_to_file(base_directory='./score', conda_file_path='myenv.yml')\n",
    "\n",
    "myenv = Environment.from_conda_specification(name=\"myenv\", file_path=\"./score/myenv.yml\")\n",
    "inference_config = InferenceConfig(entry_script=\"score.py\", environment=myenv, source_directory='./score')\n",
    "\n",
    "aciconfig = AciWebservice.deploy_configuration(cpu_cores=1,\n",
    "                                               auth_enabled=False, # this flag generates API keys to secure access\n",
    "                                               memory_gb=1,                                 \n",
    "                                               description='Dummy Classifier for Product Prediction')\n",
    "\n",
    "#aciconfig = LocalWebservice.deploy_configuration(port=1234)\n",
    "\n",
    "service = Model.deploy(workspace=ws, \n",
    "                           name='dummy-product-prediction-aci',\n",
    "                           models= [ws.models['DummyModel'], ws.models['DummyModelRegressor'], ws.models['DummyPipe']], \n",
    "                           inference_config=inference_config, \n",
    "                           deployment_config=aciconfig)\n",
    "\n",
    "service.wait_for_deployment()\n",
    "# print(service.state)"
   ]
  }
 ],
 "metadata": {
  "kernelspec": {
   "display_name": "Python 3.6 - AzureML",
   "language": "python",
   "name": "python3-azureml"
  },
  "language_info": {
   "codemirror_mode": {
    "name": "ipython",
    "version": 3
   },
   "file_extension": ".py",
   "mimetype": "text/x-python",
   "name": "python",
   "nbconvert_exporter": "python",
   "pygments_lexer": "ipython3",
   "version": "3.6.9"
  }
 },
 "nbformat": 4,
 "nbformat_minor": 2
}
