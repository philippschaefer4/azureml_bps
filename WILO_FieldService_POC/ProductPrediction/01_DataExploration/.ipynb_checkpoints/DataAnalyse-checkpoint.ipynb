{
 "cells": [
  {
   "cell_type": "code",
   "execution_count": 1,
   "metadata": {
    "jupyter": {
     "outputs_hidden": true,
     "source_hidden": false
    },
    "nteract": {
     "transient": {
      "deleting": false
     }
    },
    "outputExpanded": false
   },
   "outputs": [],
   "source": [
    "from azureml.core import Workspace\n",
    "from azureml.core.authentication import InteractiveLoginAuthentication\n",
    "\n",
    "import pandas as pd\n",
    "import numpy as np\n",
    "import datetime \n",
    "from sklearn.preprocessing import MultiLabelBinarizer"
   ]
  },
  {
   "cell_type": "code",
   "execution_count": 2,
   "metadata": {},
   "outputs": [],
   "source": [
    "interactive_auth = InteractiveLoginAuthentication(tenant_id=\"39288a38-ff19-432c-8011-1cd9d0dff445\")\n",
    "ws = Workspace(subscription_id=\"793146d9-d4dc-4a73-9728-76c4ffd0cc0d\", resource_group=\"rg_dynamics_test\", workspace_name=\"resdynml1test\", auth=interactive_auth)"
   ]
  },
  {
   "cell_type": "markdown",
   "metadata": {},
   "source": [
    "## Load Data Files"
   ]
  },
  {
   "cell_type": "markdown",
   "metadata": {},
   "source": [
    "### Symptoms"
   ]
  },
  {
   "cell_type": "code",
   "execution_count": 23,
   "metadata": {},
   "outputs": [
    {
     "data": {
      "text/plain": [
       "['symptom_G001',\n",
       " 'symptom_P002',\n",
       " 'symptom_A002',\n",
       " 'symptom_L001',\n",
       " 'symptom_T001',\n",
       " 'symptom_B001',\n",
       " 'symptom_X001',\n",
       " 'symptom_M002',\n",
       " 'symptom_P001',\n",
       " 'symptom_K001',\n",
       " 'symptom_K002',\n",
       " 'symptom_X002',\n",
       " 'symptom_F003',\n",
       " 'symptom_F001',\n",
       " 'symptom_F002',\n",
       " 'symptom_X004',\n",
       " 'symptom_M001',\n",
       " 'symptom_I001',\n",
       " 'symptom_W001',\n",
       " 'symptom_G002',\n",
       " 'symptom_A001',\n",
       " 'symptom_X003']"
      ]
     },
     "execution_count": 23,
     "metadata": {},
     "output_type": "execute_result"
    }
   ],
   "source": [
    "# df_symptoms_init = pd.read_csv('symptomcodes.csv', sep=';', header=0)\n",
    "\n",
    "df_symptoms_init = ws.datasets['symptomcodes.csv']\n",
    "df_symptoms_init = df_symptoms_init.to_pandas_dataframe()\n",
    "\n",
    "symptoms_codes = pd.concat([df_symptoms_init.Symptom1.dropna(),\n",
    "                            df_symptoms_init.Symptom2.dropna(),\n",
    "                            df_symptoms_init.Symptom3.dropna(),\n",
    "                            df_symptoms_init.Symptom4.dropna()],\n",
    "                           axis=0).unique()\n",
    "symptoms_codes = [ 'symptom_' + str(symp) for symp in symptoms_codes ]\n",
    "symptoms_codes"
   ]
  },
  {
   "cell_type": "markdown",
   "metadata": {},
   "source": [
    "### Training Data"
   ]
  },
  {
   "cell_type": "code",
   "execution_count": 25,
   "metadata": {},
   "outputs": [
    {
     "name": "stdout",
     "output_type": "stream",
     "text": [
      "Installed Base.Product Group                      object\n",
      "Installed Base.InstalledBase ProductID            object\n",
      "Job Card.JobCard Number                           object\n",
      "Location.Country                                  object\n",
      "Location.City                                     object\n",
      "Location.Location Type                            object\n",
      "Location.Postal Code                              object\n",
      "Product.Product Name                              object\n",
      "Product.Product Number                            object\n",
      "ItemResourceAppliedQuantity                        int64\n",
      "Job Card.Date Start Work                  datetime64[ns]\n",
      "Job Card.Date End Work                    datetime64[ns]\n",
      "Job Card.ComponentCode                            object\n",
      "Job Card.FailureCode                              object\n",
      "Job Card.Symptom Description                      object\n",
      "dtype: object\n"
     ]
    }
   ],
   "source": [
    "df = ws.datasets['ItemResourceData.csv']\n",
    "df = df.to_pandas_dataframe()\n",
    "\n",
    "\n",
    "# df = pd.read_csv('ItemResourceData.csv', sep=';', header=0, \n",
    "#                      dtype={\n",
    "#                              'Installed Base.Product Group': str,\n",
    "#                              'Installed Base.InstalledBase ProductID': str,\n",
    "#                              'Job Card.JobCard Number': str,\n",
    "#                              'Location.Country': str,\n",
    "#                              'Location.City': str,\n",
    "#                              'Location.Location Type': str,\n",
    "#                              'Location.Postal Code': str,\n",
    "#                              'Product.Product Name': str,\n",
    "#                              'Product.Product Number': str,\n",
    "#                              'ItemResourceAppliedQuantity': int,\n",
    "#                              'Job Card.Date Start Work': str,\n",
    "#                              'Job Card.Date End Work': str,\n",
    "#                              'Job Card.ComponentCode': str,\n",
    "#                              'Job Card.FailureCode': str,\n",
    "#                              'Job Card.Symptom Description': str\n",
    "#                      },\n",
    "#                     parse_dates=['Job Card.Date Start Work',\n",
    "#                                  'Job Card.Date End Work']\n",
    "#                 )\n",
    "\n",
    "print(df.dtypes)"
   ]
  },
  {
   "cell_type": "markdown",
   "metadata": {},
   "source": [
    "#### Training Data\n",
    "\n",
    "- One Dataset of training data will consist of multiple row with id 'Job Card.JobCard Number'\n",
    "- so those row must first be integrated into one respectively\n",
    "\n",
    "- probably: all rows of one job have the same\n",
    "    - Installed Base\n",
    "        - Product Group\n",
    "        - ProductId\n",
    "    - Location\n",
    "        - Country\n",
    "        - City\n",
    "        - Location Type\n",
    "        - Postal Code\n",
    "    - Job Card\n",
    "        - start\n",
    "        - end\n",
    "        - ComponentCode\n",
    "        - FailureCode\n",
    "        - description\n",
    "        \n",
    "- and different\n",
    "    - Product\n",
    "        - name\n",
    "        - number\n",
    "        - quantity\n",
    "       \n",
    "#### Target Fields\n",
    "\n",
    "- Produkte und Services = 'Product.Product Name' bzw. 'Product.Product Number'\n",
    "- Dauer = 'Job Card.Date End Work' - 'Job Card.Date Start Work'"
   ]
  },
  {
   "cell_type": "markdown",
   "metadata": {},
   "source": [
    "## Clean Data"
   ]
  },
  {
   "cell_type": "code",
   "execution_count": 26,
   "metadata": {},
   "outputs": [
    {
     "data": {
      "text/plain": [
       "288990"
      ]
     },
     "execution_count": 26,
     "metadata": {},
     "output_type": "execute_result"
    }
   ],
   "source": [
    "# get only data from last n years\n",
    "n = 2\n",
    "\n",
    "df_tr = df\n",
    "df_tr = df[df['Job Card.Date Start Work']>(datetime.datetime.today() - datetime.timedelta(days=n*365))]\n",
    "len(df_tr)"
   ]
  },
  {
   "cell_type": "code",
   "execution_count": null,
   "metadata": {},
   "outputs": [],
   "source": [
    "# zu entfernende Werte\n",
    "\n",
    "# input\n",
    "# df['Installed Base.Product Group'].unique() # nan, 0 (evtl 999999)\n",
    "# df['Installed Base.InstalledBase ProductID'].unique() # nan, -\n",
    "# df['Job Card.JobCard Number'].unique() # <blank>\n",
    "# df['Location.Country'].unique() # nan\n",
    "# df['Location.City'].unique() # nan\n",
    "# df['Location.Postal Code'].unique() # nan\n",
    "# df['Job Card.ComponentCode'].unique() # nan, 000 ??? evtl. als placeholder interpretieren für \"keine Symptome genannt\" ???\n",
    "# df['Job Card.FailureCode'].unique() # nan, 000 ??? evtl. als placeholder interpretieren für \"keine Symptome genannt\" ???\n",
    "\n",
    "# df['Job Card.Symptom Description'].unique() ===> erstmal weglassen, vlt später mit Übersetzung, Textanalyse\n",
    "\n",
    "# target\n",
    "# df['Product.Product Name'].unique()\n",
    "# df['Product.Product Number'].unique()\n",
    "# df['ItemResourceAppliedQuantity'].unique()\n",
    "# df['Job Card.Date Start Work'].unique()\n",
    "# df['Job Card.Date End Work'].unique() # <blank>"
   ]
  },
  {
   "cell_type": "code",
   "execution_count": 31,
   "metadata": {},
   "outputs": [
    {
     "data": {
      "text/plain": [
       "13502"
      ]
     },
     "execution_count": 31,
     "metadata": {},
     "output_type": "execute_result"
    }
   ],
   "source": [
    "# check later if prod name und nr 1:1\n",
    "\n",
    "# len(df.groupby(['Product.Product Name', 'Product.Product Number']))\n",
    "# len(df['Product.Product Name'].unique())\n",
    "# len(df['Product.Product Number'].unique())"
   ]
  },
  {
   "cell_type": "code",
   "execution_count": 27,
   "metadata": {},
   "outputs": [],
   "source": [
    "# remove '-' as Installed Base.InstalledBase ProductID\n",
    "df_tr = df_tr.replace(['', '0', '-', '000','N/A'], np.nan)"
   ]
  },
  {
   "cell_type": "code",
   "execution_count": 28,
   "metadata": {},
   "outputs": [
    {
     "data": {
      "text/plain": [
       "257760"
      ]
     },
     "execution_count": 28,
     "metadata": {},
     "output_type": "execute_result"
    }
   ],
   "source": [
    "# remove rows with any nan\n",
    "\n",
    "# print(len(df_tr['Installed Base.Product Group'].dropna()))\n",
    "# print(len(df_tr['Installed Base.InstalledBase ProductID'].dropna()))\n",
    "# print(len(df_tr['Location.Country'].dropna()))\n",
    "# print(len(df_tr['Location.City'].dropna()))\n",
    "# print(len(df_tr['Location.Location Type'].dropna()))\n",
    "# print(len(df_tr['Location.Postal Code'].dropna()))\n",
    "# print(len(df_tr['Product.Product Number'].dropna()))\n",
    "# print(len(df_tr['Product.Product Name'].dropna()))\n",
    "# print(len(df_tr['ItemResourceAppliedQuantity'].dropna()))\n",
    "# print(len(df_tr['Job Card.Date Start Work'].dropna()))\n",
    "# print(len(df_tr['Job Card.Date End Work'].dropna()))\n",
    "# print(len(df_tr['Job Card.ComponentCode'].dropna()))\n",
    "# print(len(df_tr['Job Card.FailureCode'].dropna()))\n",
    "# print(len(df_tr['Job Card.Symptom Description'].dropna()))\n",
    "\n",
    "df_tr = df_tr[['Installed Base.Product Group', 'Installed Base.InstalledBase ProductID', 'Job Card.JobCard Number', 'Product.Product Number', 'Job Card.Date Start Work', 'Job Card.Date End Work', 'Job Card.ComponentCode', 'Job Card.FailureCode']]\n",
    "df_tr = df_tr.dropna().reset_index(drop=True)\n",
    "\n",
    "len(df_tr)"
   ]
  },
  {
   "cell_type": "markdown",
   "metadata": {},
   "source": [
    "## Collect Data"
   ]
  },
  {
   "cell_type": "markdown",
   "metadata": {},
   "source": [
    "### CaseIds"
   ]
  },
  {
   "cell_type": "code",
   "execution_count": 32,
   "metadata": {},
   "outputs": [
    {
     "name": "stdout",
     "output_type": "stream",
     "text": [
      "105090\n"
     ]
    },
    {
     "data": {
      "text/html": [
       "<div>\n",
       "<style scoped>\n",
       "    .dataframe tbody tr th:only-of-type {\n",
       "        vertical-align: middle;\n",
       "    }\n",
       "\n",
       "    .dataframe tbody tr th {\n",
       "        vertical-align: top;\n",
       "    }\n",
       "\n",
       "    .dataframe thead th {\n",
       "        text-align: right;\n",
       "    }\n",
       "</style>\n",
       "<table border=\"1\" class=\"dataframe\">\n",
       "  <thead>\n",
       "    <tr style=\"text-align: right;\">\n",
       "      <th></th>\n",
       "      <th>CaseId</th>\n",
       "    </tr>\n",
       "  </thead>\n",
       "  <tbody>\n",
       "    <tr>\n",
       "      <th>0</th>\n",
       "      <td>C-AT016226-ASCAL JC01.00</td>\n",
       "    </tr>\n",
       "    <tr>\n",
       "      <th>1</th>\n",
       "      <td>CAS-120240-N5Z8G3 JC01.00</td>\n",
       "    </tr>\n",
       "    <tr>\n",
       "      <th>2</th>\n",
       "      <td>CAS-162708-W1W3T3 JC01.00</td>\n",
       "    </tr>\n",
       "    <tr>\n",
       "      <th>3</th>\n",
       "      <td>CAS-192567-X1B6Y7 JC01.00</td>\n",
       "    </tr>\n",
       "    <tr>\n",
       "      <th>4</th>\n",
       "      <td>CAS-192567-X1B6Y7 JC01.01</td>\n",
       "    </tr>\n",
       "  </tbody>\n",
       "</table>\n",
       "</div>"
      ],
      "text/plain": [
       "                      CaseId\n",
       "0   C-AT016226-ASCAL JC01.00\n",
       "1  CAS-120240-N5Z8G3 JC01.00\n",
       "2  CAS-162708-W1W3T3 JC01.00\n",
       "3  CAS-192567-X1B6Y7 JC01.00\n",
       "4  CAS-192567-X1B6Y7 JC01.01"
      ]
     },
     "execution_count": 32,
     "metadata": {},
     "output_type": "execute_result"
    }
   ],
   "source": [
    "case_ids = pd.DataFrame(df_tr['Job Card.JobCard Number'].unique(), columns=['CaseId'])\n",
    "print(len(case_ids))\n",
    "case_ids.head()"
   ]
  },
  {
   "cell_type": "markdown",
   "metadata": {},
   "source": [
    "### Installed Base - Product Group and ID"
   ]
  },
  {
   "cell_type": "code",
   "execution_count": 33,
   "metadata": {},
   "outputs": [],
   "source": [
    "# Problem:\n",
    "# and also multiple ids per group\n",
    "# df_tr[['Installed Base.Product Group', 'Installed Base.InstalledBase ProductID']].groupby('Installed Base.Product Group').count()\n",
    "# there are multiple groups per id\n",
    "# df_tr[['Installed Base.Product Group', 'Installed Base.InstalledBase ProductID']].groupby('Installed Base.InstalledBase ProductID').count()"
   ]
  },
  {
   "cell_type": "code",
   "execution_count": 34,
   "metadata": {},
   "outputs": [
    {
     "name": "stdout",
     "output_type": "stream",
     "text": [
      "182\n",
      "12277\n"
     ]
    }
   ],
   "source": [
    "print(len(df_tr[['Installed Base.Product Group', 'Installed Base.InstalledBase ProductID']].groupby('Installed Base.Product Group')))\n",
    "print(len(df_tr[['Installed Base.Product Group', 'Installed Base.InstalledBase ProductID']].groupby('Installed Base.InstalledBase ProductID')))"
   ]
  },
  {
   "cell_type": "code",
   "execution_count": 35,
   "metadata": {},
   "outputs": [
    {
     "name": "stdout",
     "output_type": "stream",
     "text": [
      "105094\n"
     ]
    },
    {
     "data": {
      "text/html": [
       "<div>\n",
       "<style scoped>\n",
       "    .dataframe tbody tr th:only-of-type {\n",
       "        vertical-align: middle;\n",
       "    }\n",
       "\n",
       "    .dataframe tbody tr th {\n",
       "        vertical-align: top;\n",
       "    }\n",
       "\n",
       "    .dataframe thead th {\n",
       "        text-align: right;\n",
       "    }\n",
       "</style>\n",
       "<table border=\"1\" class=\"dataframe\">\n",
       "  <thead>\n",
       "    <tr style=\"text-align: right;\">\n",
       "      <th></th>\n",
       "      <th>CaseId</th>\n",
       "      <th>Installed Base.Product Group</th>\n",
       "      <th>Installed Base.InstalledBase ProductID</th>\n",
       "    </tr>\n",
       "  </thead>\n",
       "  <tbody>\n",
       "    <tr>\n",
       "      <th>0</th>\n",
       "      <td>C-AT016226-ASCAL JC01.00</td>\n",
       "      <td>base_group_93102</td>\n",
       "      <td>base_id_1020023</td>\n",
       "    </tr>\n",
       "    <tr>\n",
       "      <th>1</th>\n",
       "      <td>CAS-120240-N5Z8G3 JC01.00</td>\n",
       "      <td>base_group_22301</td>\n",
       "      <td>base_id_111150095</td>\n",
       "    </tr>\n",
       "    <tr>\n",
       "      <th>2</th>\n",
       "      <td>CAS-162708-W1W3T3 JC01.00</td>\n",
       "      <td>base_group_22301</td>\n",
       "      <td>base_id_111150095</td>\n",
       "    </tr>\n",
       "    <tr>\n",
       "      <th>3</th>\n",
       "      <td>CAS-192567-X1B6Y7 JC01.00</td>\n",
       "      <td>base_group_22301</td>\n",
       "      <td>base_id_111150095</td>\n",
       "    </tr>\n",
       "    <tr>\n",
       "      <th>4</th>\n",
       "      <td>CAS-192567-X1B6Y7 JC01.01</td>\n",
       "      <td>base_group_22301</td>\n",
       "      <td>base_id_111150095</td>\n",
       "    </tr>\n",
       "  </tbody>\n",
       "</table>\n",
       "</div>"
      ],
      "text/plain": [
       "                      CaseId Installed Base.Product Group  \\\n",
       "0   C-AT016226-ASCAL JC01.00             base_group_93102   \n",
       "1  CAS-120240-N5Z8G3 JC01.00             base_group_22301   \n",
       "2  CAS-162708-W1W3T3 JC01.00             base_group_22301   \n",
       "3  CAS-192567-X1B6Y7 JC01.00             base_group_22301   \n",
       "4  CAS-192567-X1B6Y7 JC01.01             base_group_22301   \n",
       "\n",
       "  Installed Base.InstalledBase ProductID  \n",
       "0                        base_id_1020023  \n",
       "1                      base_id_111150095  \n",
       "2                      base_id_111150095  \n",
       "3                      base_id_111150095  \n",
       "4                      base_id_111150095  "
      ]
     },
     "execution_count": 35,
     "metadata": {},
     "output_type": "execute_result"
    }
   ],
   "source": [
    "df_base = df_tr[['Job Card.JobCard Number', 'Installed Base.Product Group', 'Installed Base.InstalledBase ProductID']]\n",
    "df_base = df_base.drop_duplicates().reset_index(drop=True)\n",
    "# rename caseid column\n",
    "df_base = df_base.rename(columns={'Job Card.JobCard Number':'CaseId'})\n",
    "\n",
    "df_base['Installed Base.Product Group'] = df_base['Installed Base.Product Group'].apply(lambda x: 'base_group_' + str(x)).reset_index(drop=True)\n",
    "df_base['Installed Base.InstalledBase ProductID'] = df_base['Installed Base.InstalledBase ProductID'].apply(lambda x: 'base_id_' + str(x)).reset_index(drop=True)\n",
    "\n",
    "print(len(df_base))\n",
    "df_base.head()"
   ]
  },
  {
   "cell_type": "code",
   "execution_count": 36,
   "metadata": {},
   "outputs": [],
   "source": [
    "# df_base = df_base.iloc[0:2000]"
   ]
  },
  {
   "cell_type": "code",
   "execution_count": 37,
   "metadata": {},
   "outputs": [
    {
     "data": {
      "text/plain": [
       "4"
      ]
     },
     "execution_count": 37,
     "metadata": {},
     "output_type": "execute_result"
    }
   ],
   "source": [
    "# check for cases with multiple entries\n",
    "len(df_base) - len(df_base['CaseId'].unique())\n",
    "\n",
    "# not each case has exactly 1 Product Group and 1 Id\n",
    "# df_base.drop_duplicates().reset_index(drop=True).groupby('CaseId').count()['Installed Base.Product Group'].sum()\n",
    "# df_base.drop_duplicates().reset_index(drop=True).groupby('CaseId').count()['Installed Base.InstalledBase ProductID'].sum()"
   ]
  },
  {
   "cell_type": "code",
   "execution_count": 38,
   "metadata": {},
   "outputs": [],
   "source": [
    "# create headers with prefix\n",
    "# df_groups = [ 'base_group_' + str(group) for group in df_base['Installed Base.Product Group'].unique() ]\n",
    "# df_ids = [ 'base_id_' + str(ident) for ident in df_base['Installed Base.InstalledBase ProductID'].unique() ]\n",
    "df_groups = df_base['Installed Base.Product Group'].unique()\n",
    "df_ids = df_base['Installed Base.InstalledBase ProductID'].unique()"
   ]
  },
  {
   "cell_type": "code",
   "execution_count": 44,
   "metadata": {},
   "outputs": [
    {
     "data": {
      "text/html": [
       "<div>\n",
       "<style scoped>\n",
       "    .dataframe tbody tr th:only-of-type {\n",
       "        vertical-align: middle;\n",
       "    }\n",
       "\n",
       "    .dataframe tbody tr th {\n",
       "        vertical-align: top;\n",
       "    }\n",
       "\n",
       "    .dataframe thead th {\n",
       "        text-align: right;\n",
       "    }\n",
       "</style>\n",
       "<table border=\"1\" class=\"dataframe\">\n",
       "  <thead>\n",
       "    <tr style=\"text-align: right;\">\n",
       "      <th></th>\n",
       "      <th>Installed Base.Product Group</th>\n",
       "    </tr>\n",
       "    <tr>\n",
       "      <th>Installed Base.InstalledBase ProductID</th>\n",
       "      <th></th>\n",
       "    </tr>\n",
       "  </thead>\n",
       "  <tbody>\n",
       "    <tr>\n",
       "      <th>base_id_1020023</th>\n",
       "      <td>1</td>\n",
       "    </tr>\n",
       "    <tr>\n",
       "      <th>base_id_111150095</th>\n",
       "      <td>4</td>\n",
       "    </tr>\n",
       "    <tr>\n",
       "      <th>base_id_111150290</th>\n",
       "      <td>5</td>\n",
       "    </tr>\n",
       "    <tr>\n",
       "      <th>base_id_111151799</th>\n",
       "      <td>2</td>\n",
       "    </tr>\n",
       "    <tr>\n",
       "      <th>base_id_111319296</th>\n",
       "      <td>2</td>\n",
       "    </tr>\n",
       "    <tr>\n",
       "      <th>base_id_111590296</th>\n",
       "      <td>1</td>\n",
       "    </tr>\n",
       "    <tr>\n",
       "      <th>base_id_111831590</th>\n",
       "      <td>2</td>\n",
       "    </tr>\n",
       "    <tr>\n",
       "      <th>base_id_111863198</th>\n",
       "      <td>2</td>\n",
       "    </tr>\n",
       "    <tr>\n",
       "      <th>base_id_111938993</th>\n",
       "      <td>1</td>\n",
       "    </tr>\n",
       "    <tr>\n",
       "      <th>base_id_112073597</th>\n",
       "      <td>2</td>\n",
       "    </tr>\n",
       "    <tr>\n",
       "      <th>base_id_112121493</th>\n",
       "      <td>1</td>\n",
       "    </tr>\n",
       "    <tr>\n",
       "      <th>base_id_112122097</th>\n",
       "      <td>4</td>\n",
       "    </tr>\n",
       "    <tr>\n",
       "      <th>base_id_112124497</th>\n",
       "      <td>1</td>\n",
       "    </tr>\n",
       "    <tr>\n",
       "      <th>base_id_112126290</th>\n",
       "      <td>2</td>\n",
       "    </tr>\n",
       "    <tr>\n",
       "      <th>base_id_112154290</th>\n",
       "      <td>1</td>\n",
       "    </tr>\n",
       "    <tr>\n",
       "      <th>base_id_120483595</th>\n",
       "      <td>2</td>\n",
       "    </tr>\n",
       "    <tr>\n",
       "      <th>base_id_120549093</th>\n",
       "      <td>2</td>\n",
       "    </tr>\n",
       "    <tr>\n",
       "      <th>base_id_120549299</th>\n",
       "      <td>1</td>\n",
       "    </tr>\n",
       "    <tr>\n",
       "      <th>base_id_120778098</th>\n",
       "      <td>7</td>\n",
       "    </tr>\n",
       "    <tr>\n",
       "      <th>base_id_120868595</th>\n",
       "      <td>1</td>\n",
       "    </tr>\n",
       "    <tr>\n",
       "      <th>base_id_120882097</th>\n",
       "      <td>1</td>\n",
       "    </tr>\n",
       "    <tr>\n",
       "      <th>base_id_120894791</th>\n",
       "      <td>2</td>\n",
       "    </tr>\n",
       "    <tr>\n",
       "      <th>base_id_120897199</th>\n",
       "      <td>5</td>\n",
       "    </tr>\n",
       "    <tr>\n",
       "      <th>base_id_120900899</th>\n",
       "      <td>1</td>\n",
       "    </tr>\n",
       "    <tr>\n",
       "      <th>base_id_120900991</th>\n",
       "      <td>2</td>\n",
       "    </tr>\n",
       "    <tr>\n",
       "      <th>base_id_120909797</th>\n",
       "      <td>2</td>\n",
       "    </tr>\n",
       "    <tr>\n",
       "      <th>base_id_120910299</th>\n",
       "      <td>2</td>\n",
       "    </tr>\n",
       "    <tr>\n",
       "      <th>base_id_120910597</th>\n",
       "      <td>1</td>\n",
       "    </tr>\n",
       "    <tr>\n",
       "      <th>base_id_120910792</th>\n",
       "      <td>1</td>\n",
       "    </tr>\n",
       "    <tr>\n",
       "      <th>base_id_120910895</th>\n",
       "      <td>1</td>\n",
       "    </tr>\n",
       "    <tr>\n",
       "      <th>...</th>\n",
       "      <td>...</td>\n",
       "    </tr>\n",
       "    <tr>\n",
       "      <th>base_id_9998060</th>\n",
       "      <td>4</td>\n",
       "    </tr>\n",
       "    <tr>\n",
       "      <th>base_id_9998061</th>\n",
       "      <td>1</td>\n",
       "    </tr>\n",
       "    <tr>\n",
       "      <th>base_id_9998063</th>\n",
       "      <td>1</td>\n",
       "    </tr>\n",
       "    <tr>\n",
       "      <th>base_id_9998071</th>\n",
       "      <td>2</td>\n",
       "    </tr>\n",
       "    <tr>\n",
       "      <th>base_id_9998074</th>\n",
       "      <td>9</td>\n",
       "    </tr>\n",
       "    <tr>\n",
       "      <th>base_id_9998092</th>\n",
       "      <td>1</td>\n",
       "    </tr>\n",
       "    <tr>\n",
       "      <th>base_id_9998093</th>\n",
       "      <td>5</td>\n",
       "    </tr>\n",
       "    <tr>\n",
       "      <th>base_id_9998388</th>\n",
       "      <td>1</td>\n",
       "    </tr>\n",
       "    <tr>\n",
       "      <th>base_id_9998394</th>\n",
       "      <td>6</td>\n",
       "    </tr>\n",
       "    <tr>\n",
       "      <th>base_id_9999090</th>\n",
       "      <td>1</td>\n",
       "    </tr>\n",
       "    <tr>\n",
       "      <th>base_id_9999093</th>\n",
       "      <td>1</td>\n",
       "    </tr>\n",
       "    <tr>\n",
       "      <th>base_id_9999159</th>\n",
       "      <td>2</td>\n",
       "    </tr>\n",
       "    <tr>\n",
       "      <th>base_id_9999206</th>\n",
       "      <td>1</td>\n",
       "    </tr>\n",
       "    <tr>\n",
       "      <th>base_id_9999220</th>\n",
       "      <td>1</td>\n",
       "    </tr>\n",
       "    <tr>\n",
       "      <th>base_id_9999222</th>\n",
       "      <td>2</td>\n",
       "    </tr>\n",
       "    <tr>\n",
       "      <th>base_id_9999240</th>\n",
       "      <td>2</td>\n",
       "    </tr>\n",
       "    <tr>\n",
       "      <th>base_id_9999497</th>\n",
       "      <td>1</td>\n",
       "    </tr>\n",
       "    <tr>\n",
       "      <th>base_id_9999755</th>\n",
       "      <td>2</td>\n",
       "    </tr>\n",
       "    <tr>\n",
       "      <th>base_id_9999774</th>\n",
       "      <td>9</td>\n",
       "    </tr>\n",
       "    <tr>\n",
       "      <th>base_id_CONT100002</th>\n",
       "      <td>6</td>\n",
       "    </tr>\n",
       "    <tr>\n",
       "      <th>base_id_CONT100004</th>\n",
       "      <td>1</td>\n",
       "    </tr>\n",
       "    <tr>\n",
       "      <th>base_id_CONT600002</th>\n",
       "      <td>4</td>\n",
       "    </tr>\n",
       "    <tr>\n",
       "      <th>base_id_ITEM</th>\n",
       "      <td>2</td>\n",
       "    </tr>\n",
       "    <tr>\n",
       "      <th>base_id_MARDE2174495</th>\n",
       "      <td>2</td>\n",
       "    </tr>\n",
       "    <tr>\n",
       "      <th>base_id_N/A</th>\n",
       "      <td>1693</td>\n",
       "    </tr>\n",
       "    <tr>\n",
       "      <th>base_id_TEMPIB</th>\n",
       "      <td>149</td>\n",
       "    </tr>\n",
       "    <tr>\n",
       "      <th>base_id_TEMPPP</th>\n",
       "      <td>2</td>\n",
       "    </tr>\n",
       "    <tr>\n",
       "      <th>base_id_XYLEM_DEA</th>\n",
       "      <td>17</td>\n",
       "    </tr>\n",
       "    <tr>\n",
       "      <th>base_id_XYLEM_HVAC</th>\n",
       "      <td>9</td>\n",
       "    </tr>\n",
       "    <tr>\n",
       "      <th>base_id_XYLEM_WW</th>\n",
       "      <td>38</td>\n",
       "    </tr>\n",
       "  </tbody>\n",
       "</table>\n",
       "<p>12277 rows × 1 columns</p>\n",
       "</div>"
      ],
      "text/plain": [
       "                                        Installed Base.Product Group\n",
       "Installed Base.InstalledBase ProductID                              \n",
       "base_id_1020023                                                    1\n",
       "base_id_111150095                                                  4\n",
       "base_id_111150290                                                  5\n",
       "base_id_111151799                                                  2\n",
       "base_id_111319296                                                  2\n",
       "base_id_111590296                                                  1\n",
       "base_id_111831590                                                  2\n",
       "base_id_111863198                                                  2\n",
       "base_id_111938993                                                  1\n",
       "base_id_112073597                                                  2\n",
       "base_id_112121493                                                  1\n",
       "base_id_112122097                                                  4\n",
       "base_id_112124497                                                  1\n",
       "base_id_112126290                                                  2\n",
       "base_id_112154290                                                  1\n",
       "base_id_120483595                                                  2\n",
       "base_id_120549093                                                  2\n",
       "base_id_120549299                                                  1\n",
       "base_id_120778098                                                  7\n",
       "base_id_120868595                                                  1\n",
       "base_id_120882097                                                  1\n",
       "base_id_120894791                                                  2\n",
       "base_id_120897199                                                  5\n",
       "base_id_120900899                                                  1\n",
       "base_id_120900991                                                  2\n",
       "base_id_120909797                                                  2\n",
       "base_id_120910299                                                  2\n",
       "base_id_120910597                                                  1\n",
       "base_id_120910792                                                  1\n",
       "base_id_120910895                                                  1\n",
       "...                                                              ...\n",
       "base_id_9998060                                                    4\n",
       "base_id_9998061                                                    1\n",
       "base_id_9998063                                                    1\n",
       "base_id_9998071                                                    2\n",
       "base_id_9998074                                                    9\n",
       "base_id_9998092                                                    1\n",
       "base_id_9998093                                                    5\n",
       "base_id_9998388                                                    1\n",
       "base_id_9998394                                                    6\n",
       "base_id_9999090                                                    1\n",
       "base_id_9999093                                                    1\n",
       "base_id_9999159                                                    2\n",
       "base_id_9999206                                                    1\n",
       "base_id_9999220                                                    1\n",
       "base_id_9999222                                                    2\n",
       "base_id_9999240                                                    2\n",
       "base_id_9999497                                                    1\n",
       "base_id_9999755                                                    2\n",
       "base_id_9999774                                                    9\n",
       "base_id_CONT100002                                                 6\n",
       "base_id_CONT100004                                                 1\n",
       "base_id_CONT600002                                                 4\n",
       "base_id_ITEM                                                       2\n",
       "base_id_MARDE2174495                                               2\n",
       "base_id_N/A                                                     1693\n",
       "base_id_TEMPIB                                                   149\n",
       "base_id_TEMPPP                                                     2\n",
       "base_id_XYLEM_DEA                                                 17\n",
       "base_id_XYLEM_HVAC                                                 9\n",
       "base_id_XYLEM_WW                                                  38\n",
       "\n",
       "[12277 rows x 1 columns]"
      ]
     },
     "execution_count": 44,
     "metadata": {},
     "output_type": "execute_result"
    }
   ],
   "source": [
    "df_base[['Installed Base.Product Group','Installed Base.InstalledBase ProductID']].groupby('Installed Base.InstalledBase ProductID').count()"
   ]
  },
  {
   "cell_type": "markdown",
   "metadata": {},
   "source": [
    "#### Encode Product Group"
   ]
  },
  {
   "cell_type": "code",
   "execution_count": null,
   "metadata": {},
   "outputs": [],
   "source": [
    "group_mlb = MultiLabelBinarizer(classes=df_groups)\n",
    "df_groups_encoded = df_base[['CaseId', 'Installed Base.Product Group']].groupby('CaseId')['Installed Base.Product Group'].apply(lambda x: tuple(x)).reset_index()\n",
    "df_group_case_ids = df_groups_encoded[['CaseId']]\n",
    "df_groups_encoded = group_mlb.fit_transform(df_groups_encoded['Installed Base.Product Group'])\n",
    "df_groups_encoded = pd.DataFrame(df_groups_encoded, columns=group_mlb.classes)\n",
    "df_groups_encoded = pd.concat([df_group_case_ids, df_groups_encoded], axis=1)"
   ]
  },
  {
   "cell_type": "code",
   "execution_count": null,
   "metadata": {},
   "outputs": [],
   "source": [
    "# # check if every case is encoded correctly\n",
    "\n",
    "# for c in range(len(case_ids)):\n",
    "#     if c % 1000 == 0:\n",
    "#         print(c)\n",
    "#     caseid = case_ids['CaseId'][c]\n",
    "# #     print(caseid)\n",
    "# #     print(df_base[df_base['CaseId']==caseid]['Installed Base.Product Group'])\n",
    "#     group = df_base[df_base['CaseId']==caseid]['Installed Base.Product Group'].values[0]\n",
    "#     d = df_groups_encoded[df_groups_encoded['CaseId']==caseid].reset_index(drop=True).iloc[:,1:].values\n",
    "#     inv_group = group_mlb.inverse_transform(d)[0][0]\n",
    "#     if group != inv_group:\n",
    "#         print(group)\n",
    "#         print(inv_group)\n",
    "#         print(d)\n",
    "#         print('###########################################')\n",
    "#     else:\n",
    "#         print(group + ' = ' + inv_group)"
   ]
  },
  {
   "cell_type": "code",
   "execution_count": null,
   "metadata": {},
   "outputs": [],
   "source": [
    "# # old encoding\n",
    "\n",
    "# # create new dataframe with one row for each case id and columns for each base group code\n",
    "# df_groups_encoded = pd.concat([case_ids, pd.DataFrame(np.zeros([len(case_ids),len(df_groups)], dtype=int), columns=df_groups)], axis=1)\n",
    "# df_groups_encoded.head()\n",
    "\n",
    "# # encode base groups for cases\n",
    "# c = 0\n",
    "# for row in range(len(df_base)):\n",
    "#     c+=1\n",
    "#     if c % 1000 == 0:\n",
    "#         print(str(c) + '/' + str(len(df_base)))\n",
    "#     case_id = df_base['CaseId'][row]\n",
    "#     group = 'base_group_' + str(df_base['Installed Base.Product Group'][row])\n",
    "#     df_groups_encoded.loc[df_groups_encoded['CaseId']==case_id, group] = 1"
   ]
  },
  {
   "cell_type": "code",
   "execution_count": null,
   "metadata": {},
   "outputs": [],
   "source": [
    "# save\n",
    "df_groups_encoded.to_csv('df_groups_encoded.csv',header=True,index=False, sep=';')"
   ]
  },
  {
   "cell_type": "markdown",
   "metadata": {},
   "source": [
    "#### Encode Product ID"
   ]
  },
  {
   "cell_type": "code",
   "execution_count": null,
   "metadata": {},
   "outputs": [],
   "source": [
    "id_mlb = MultiLabelBinarizer(classes=df_ids)\n",
    "df_ids_encoded = df_base[['CaseId', 'Installed Base.InstalledBase ProductID']].groupby('CaseId')['Installed Base.InstalledBase ProductID'].apply(lambda x: tuple(x)).reset_index()\n",
    "df_id_case_ids = df_ids_encoded[['CaseId']]\n",
    "df_ids_encoded = id_mlb.fit_transform(df_ids_encoded['Installed Base.InstalledBase ProductID'])\n",
    "df_ids_encoded = pd.DataFrame(df_ids_encoded, columns=id_mlb.classes)\n",
    "df_ids_encoded = pd.concat([df_id_case_ids, df_ids_encoded], axis=1)"
   ]
  },
  {
   "cell_type": "code",
   "execution_count": null,
   "metadata": {},
   "outputs": [],
   "source": [
    "# # old encoding\n",
    "\n",
    "# # create new dataframe with one row for each case id and columns for each base id code\n",
    "# df_ids_encoded = pd.concat([case_ids, pd.DataFrame(np.zeros([len(case_ids), len(df_ids)], dtype=int), columns=df_ids)], axis=1)\n",
    "# df_ids_encoded.head()\n",
    "\n",
    "# # encode base ids for cases\n",
    "# c = 0\n",
    "# for row in range(len(df_base)):\n",
    "#     c+=1\n",
    "#     if c % 1000 == 0:\n",
    "#         print(str(c) + '/' + str(len(df_base)))\n",
    "#     case_id = df_base['CaseId'][row]\n",
    "#     ident = 'base_id_' + str(df_base['Installed Base.InstalledBase ProductID'][row])\n",
    "#     df_ids_encoded.loc[df_ids_encoded['CaseId']==case_id, ident]=1"
   ]
  },
  {
   "cell_type": "code",
   "execution_count": null,
   "metadata": {},
   "outputs": [],
   "source": [
    "# save\n",
    "df_ids_encoded.to_csv('df_ids_encoded.csv',header=True,index=False, sep=';')"
   ]
  },
  {
   "cell_type": "markdown",
   "metadata": {},
   "source": [
    "### Symptom Codes"
   ]
  },
  {
   "cell_type": "code",
   "execution_count": null,
   "metadata": {},
   "outputs": [],
   "source": [
    "df_failcodes = df_tr[['Job Card.JobCard Number', 'Job Card.ComponentCode','Job Card.FailureCode']]\n",
    "df_symptoms = df_symptoms_init[['ComponentCode', 'FailureCode', 'Symptom1', 'Symptom2', 'Symptom3', 'Symptom4']]"
   ]
  },
  {
   "cell_type": "code",
   "execution_count": null,
   "metadata": {},
   "outputs": [],
   "source": [
    "df_failcodes = df_failcodes.rename(columns={'Job Card.JobCard Number':'CaseId'})\n",
    "#df_symptoms.rename(columns={'Job Card.JobCard Number':'CaseId'})"
   ]
  },
  {
   "cell_type": "code",
   "execution_count": null,
   "metadata": {},
   "outputs": [],
   "source": [
    "# create component code - failure code combination column in traindata\n",
    "df_failcodes_combo = pd.DataFrame(df_failcodes.apply(lambda x: (x['Job Card.ComponentCode'],x['Job Card.FailureCode']),axis=1), columns=['CompFail'])\n",
    "df_failcodes = pd.concat([df_failcodes[['CaseId']], df_failcodes_combo], axis=1)\n",
    "\n",
    "# create component code - failure code combination column in symptom table\n",
    "symptoms_combo = pd.DataFrame(df_symptoms.apply(lambda x: (x['ComponentCode'],x['FailureCode']),axis=1), columns=['CompFail'])\n",
    "df_symptoms = pd.concat([df_symptoms[['Symptom1', 'Symptom2', 'Symptom3', 'Symptom4']], symptoms_combo], axis=1)\n",
    "\n",
    "\n",
    "# merge/join failures on symptoms => translation table\n",
    "df_map_fail_symp = pd.merge(df_failcodes, df_symptoms, on='CompFail', how='left')\n",
    "df_map_fail_symp = df_map_fail_symp[['CaseId', 'Symptom1', 'Symptom2', 'Symptom3', 'Symptom4']]\n",
    "\n",
    "print(len(df_map_fail_symp))\n",
    "df_map_fail_symp.head()"
   ]
  },
  {
   "cell_type": "code",
   "execution_count": null,
   "metadata": {},
   "outputs": [],
   "source": [
    "# # Problem: there are failcode combination without symptoms in traindata\n",
    "\n",
    "# a = set(df_symptoms['CompFail'].values.tolist())\n",
    "# b = set(df_failcodes['CompFail'].values.tolist())\n",
    "# b.difference(a)"
   ]
  },
  {
   "cell_type": "code",
   "execution_count": null,
   "metadata": {},
   "outputs": [],
   "source": [
    "# distribute symptoms to multiple rows per case\n",
    "df_case_symptoms = pd.melt(df_map_fail_symp, id_vars=['CaseId'], value_vars=['Symptom1', 'Symptom2', 'Symptom3','Symptom4'])\n",
    "df_case_symptoms = df_case_symptoms.drop(['variable'], axis=1).dropna().drop_duplicates().reset_index(drop=True)\n",
    "df_case_symptoms['value'] = df_case_symptoms['value'].apply(lambda x: 'symptom_' + str(x)).reset_index(drop=True)\n",
    "df_case_symptoms.head()"
   ]
  },
  {
   "cell_type": "markdown",
   "metadata": {},
   "source": [
    "#### Encode Symptoms"
   ]
  },
  {
   "cell_type": "code",
   "execution_count": null,
   "metadata": {},
   "outputs": [],
   "source": [
    "symptoms_mlb = MultiLabelBinarizer() #classes=symptoms_codes)\n",
    "df_symptoms_encoded = df_case_symptoms[['CaseId','value']].groupby('CaseId')['value'].apply(lambda x: tuple(x)).reset_index()\n",
    "df_symptom_case_ids = df_symptoms_encoded[['CaseId']]\n",
    "df_symptoms_encoded = symptoms_mlb.fit_transform(df_symptoms_encoded['value'])\n",
    "df_symptoms_encoded = pd.DataFrame(df_symptoms_encoded, columns=symptoms_mlb.classes)\n",
    "df_symptoms_encoded = pd.concat([df_symptom_case_ids, df_symptoms_encoded], axis=1)"
   ]
  },
  {
   "cell_type": "code",
   "execution_count": null,
   "metadata": {
    "scrolled": true
   },
   "outputs": [],
   "source": [
    "# # old encoding\n",
    "\n",
    "# # create new dataframe with one row for each case id and columns for each symptom code\n",
    "# df_symptoms_encoded = pd.concat([case_ids, pd.DataFrame(np.zeros([len(case_ids), len(symptoms_codes)], dtype=int), columns=symptoms_codes)], axis=1)\n",
    "# df_symptoms_encoded.head()\n",
    "\n",
    "# # encode symptoms for cases\n",
    "# c = 0\n",
    "# for row in range(len(df_case_symptoms)):\n",
    "#     c+=1\n",
    "#     if c % 1000 == 0:\n",
    "#         print(str(c) + '/' + str(len(df_case_symptoms)))\n",
    "#     case_id = df_case_symptoms['Job Card.JobCard Number'][row]\n",
    "#     symptom = df_case_symptoms['value'][row]\n",
    "#     symptoms_encoded.loc[symptoms_encoded['CaseId']==case_id, 'symptom_' + str(symptom)]=1"
   ]
  },
  {
   "cell_type": "code",
   "execution_count": null,
   "metadata": {},
   "outputs": [],
   "source": [
    "# save\n",
    "symptoms_encoded.to_csv('symptoms_encoded.csv',header=True,index=False, sep=';')"
   ]
  },
  {
   "cell_type": "markdown",
   "metadata": {},
   "source": [
    "### Targets\n",
    "\n",
    "- Product (Name/Nr)\n",
    "- Duration\n",
    "\n",
    "<font color='red'> Problem with inconsistent mapping of names and nrs </font>"
   ]
  },
  {
   "cell_type": "markdown",
   "metadata": {},
   "source": [
    "#### Products"
   ]
  },
  {
   "cell_type": "code",
   "execution_count": null,
   "metadata": {},
   "outputs": [],
   "source": [
    "# # nr of names  and nr of ids is unequal\n",
    "# print('Nr of Names:' + str(len(df_tr['Product.Product Name'].unique())))\n",
    "# print('Nr of Number:' + str(len(df_tr['Product.Product Number'].unique())))"
   ]
  },
  {
   "cell_type": "code",
   "execution_count": null,
   "metadata": {},
   "outputs": [],
   "source": [
    "# # There are Product Names with multiple numbers\n",
    "# count = 0\n",
    "# for key, item in df_tr[['Product.Product Name','Product.Product Number']].drop_duplicates().reset_index(drop=True).groupby(['Product.Product Name']):\n",
    "#     if len(item)>1:\n",
    "#         #print(item)\n",
    "#         count += 1\n",
    "# print(count)"
   ]
  },
  {
   "cell_type": "code",
   "execution_count": null,
   "metadata": {},
   "outputs": [],
   "source": [
    "# # There are Product Numbers with multiple Names\n",
    "# count = 0\n",
    "# for key, item in df_tr[['Product.Product Name','Product.Product Number']].drop_duplicates().reset_index(drop=True).groupby(['Product.Product Number']):\n",
    "#     if len(item)>1:\n",
    "# #         print(item)\n",
    "#         count += 1\n",
    "# print(count)"
   ]
  },
  {
   "cell_type": "code",
   "execution_count": null,
   "metadata": {},
   "outputs": [],
   "source": [
    "# we just take product number as target for now\n",
    "df_case_products = df_tr[['Job Card.JobCard Number', 'Product.Product Number']].drop_duplicates().reset_index(drop=True)\n",
    "df_case_products['Product.Product Number'] = df_case_products['Product.Product Number'].apply(lambda x: 'product_' + str(x)).reset_index(drop=True)\n",
    "print(len(df_case_products))\n",
    "df_case_products.head()"
   ]
  },
  {
   "cell_type": "code",
   "execution_count": null,
   "metadata": {},
   "outputs": [],
   "source": [
    "# get all unique product numbers with prefix\n",
    "# product_ids = [ 'product_' + str(prod) for prod in df_case_products['Product.Product Number'].unique() ]\n",
    "product_ids = df_case_products['Product.Product Number'].unique()"
   ]
  },
  {
   "cell_type": "markdown",
   "metadata": {},
   "source": [
    "#### Encode Products"
   ]
  },
  {
   "cell_type": "code",
   "execution_count": null,
   "metadata": {},
   "outputs": [],
   "source": [
    "product_mlb = MultiLabelBinarizer(classes=product_ids)\n",
    "df_products_encoded = df_case_products[['Job Card.JobCard Number', 'Product.Product Number']].groupby('Job Card.JobCard Number')['Product.Product Number'].apply(lambda x: tuple(x)).reset_index()\n",
    "df_product_case_ids = df_products_encoded[['Job Card.JobCard Number']]\n",
    "df_products_encoded = product_mlb.fit_transform(df_products_encoded['Product.Product Number'])\n",
    "df_products_encoded = pd.DataFrame(df_products_encoded, columns=product_mlb.classes)\n",
    "df_products_encoded = pd.concat([df_product_case_ids, df_products_encoded], axis=1)"
   ]
  },
  {
   "cell_type": "code",
   "execution_count": null,
   "metadata": {},
   "outputs": [],
   "source": [
    "df_products_encoded = df_products_encoded.rename(columns={'Job Card.JobCard Number':'CaseId'})"
   ]
  },
  {
   "cell_type": "code",
   "execution_count": null,
   "metadata": {},
   "outputs": [],
   "source": [
    "# # old encoding\n",
    "\n",
    "# # create new dataframe with one row for each case id and columns for each products number\n",
    "# products_encoded = pd.concat([case_ids, pd.DataFrame(np.zeros([len(case_ids),len(product_ids)], dtype=int), columns=product_ids)], axis=1)\n",
    "# products_encoded.head()\n",
    "\n",
    "# # encode products for cases\n",
    "# c=0\n",
    "# for row in range(len(df_case_products)):\n",
    "#     c+=1\n",
    "#     if c % 1000 == 0:\n",
    "#         print(str(c) + '/' + str(len(df_case_products)))\n",
    "#     case_id = df_case_products['Job Card.JobCard Number'][row]\n",
    "#     product = df_case_products['Product.Product Number'][row]\n",
    "#     products_encoded.loc[products_encoded['CaseId']==case_id, 'product_' + str(product)]=1"
   ]
  },
  {
   "cell_type": "code",
   "execution_count": null,
   "metadata": {},
   "outputs": [],
   "source": [
    "products_encoded.to_csv('products_encoded.csv',header=True,index=False, sep=';')"
   ]
  },
  {
   "cell_type": "markdown",
   "metadata": {},
   "source": [
    "#### Duration"
   ]
  },
  {
   "cell_type": "code",
   "execution_count": null,
   "metadata": {},
   "outputs": [],
   "source": [
    "# # check if multiple dates for one case (in older data yes, in last year no)\n",
    "# for key, item in df_tr[['Job Card.Date Start Work', 'Job Card.Date End Work','Job Card.JobCard Number']].drop_duplicates().reset_index(drop=True).groupby('Job Card.JobCard Number'):\n",
    "#     if len(item)>1:\n",
    "#         print(item)"
   ]
  },
  {
   "cell_type": "code",
   "execution_count": null,
   "metadata": {},
   "outputs": [],
   "source": [
    "# # concat duration per case row\n",
    "# df_duration = pd.DataFrame(df_tr.apply(lambda x: x['Job Card.Date End Work']-x['Job Card.Date Start Work'],axis=1), columns=['duration'])\n",
    "# df_duration = pd.concat([df_tr, df_duration], axis=1)\n",
    "# df_duration = df_duration[['Job Card.JobCard Number', 'duration']].drop_duplicates().reset_index(drop=True).groupby('Job Card.JobCard Number').sum().reset_index(drop=False)\n",
    "\n",
    "# # df_tr[df_tr['Job Card.JobCard Number']=='C-AT006368-HAFOL JC04.00']\n",
    "# df_duration.head()"
   ]
  },
  {
   "cell_type": "markdown",
   "metadata": {},
   "source": [
    "### Other Features (Location etc.)"
   ]
  },
  {
   "cell_type": "code",
   "execution_count": null,
   "metadata": {},
   "outputs": [],
   "source": [
    "# df_locations = df_tr[['Job Card.JobCard Number', 'Location.Country', 'Location.City','Location.Location Type','Location.Postal Code']]"
   ]
  },
  {
   "cell_type": "code",
   "execution_count": null,
   "metadata": {},
   "outputs": [],
   "source": [
    "# df_locations = df_locations.drop_duplicates().reset_index(drop=True)\n",
    "\n",
    "# # check for duplicate entries (i.e. cases with different location data)\n",
    "# len(df_locations) == len(df_locations['Job Card.JobCard Number'].unique())"
   ]
  },
  {
   "cell_type": "markdown",
   "metadata": {},
   "source": [
    "## Concat all data"
   ]
  },
  {
   "cell_type": "code",
   "execution_count": null,
   "metadata": {},
   "outputs": [],
   "source": [
    "traindata = case_ids"
   ]
  },
  {
   "cell_type": "code",
   "execution_count": null,
   "metadata": {},
   "outputs": [],
   "source": [
    "traindata = pd.merge(traindata, df_groups_encoded, on='CaseId', how='left')"
   ]
  },
  {
   "cell_type": "code",
   "execution_count": null,
   "metadata": {},
   "outputs": [],
   "source": [
    "traindata = pd.merge(traindata, df_ids_encoded, on='CaseId', how='left')"
   ]
  },
  {
   "cell_type": "code",
   "execution_count": null,
   "metadata": {},
   "outputs": [],
   "source": [
    "traindata = pd.merge(traindata, df_symptoms_encoded, on='CaseId', how='left')"
   ]
  },
  {
   "cell_type": "code",
   "execution_count": null,
   "metadata": {},
   "outputs": [],
   "source": [
    "traindata = pd.merge(traindata, df_products_encoded, on='CaseId', how='left')"
   ]
  },
  {
   "cell_type": "code",
   "execution_count": null,
   "metadata": {},
   "outputs": [],
   "source": [
    "traindata.shape"
   ]
  },
  {
   "cell_type": "markdown",
   "metadata": {},
   "source": [
    "### Sanity Check"
   ]
  },
  {
   "cell_type": "code",
   "execution_count": null,
   "metadata": {},
   "outputs": [],
   "source": [
    "df_tr[df_tr['Job Card.JobCard Number']=='CAS-192567-X1B6Y7 JC01.01']"
   ]
  },
  {
   "cell_type": "code",
   "execution_count": null,
   "metadata": {},
   "outputs": [],
   "source": [
    "x = traindata[traindata['CaseId']=='CAS-192567-X1B6Y7 JC01.01']\n",
    "\n",
    "# check prod nr\n",
    "print(x['2038370'])\n",
    "print(x['110851190'])\n",
    "print(x['501033799'])\n",
    "print(x['2186199'])"
   ]
  },
  {
   "cell_type": "code",
   "execution_count": null,
   "metadata": {},
   "outputs": [],
   "source": [
    "# check symptoms\n",
    "df_symptoms[df_symptoms['CompFail']==('CSXQ','CSZ5')]"
   ]
  },
  {
   "cell_type": "code",
   "execution_count": null,
   "metadata": {},
   "outputs": [],
   "source": [
    "print(x['M001'])\n",
    "print(x['M002'])"
   ]
  },
  {
   "cell_type": "markdown",
   "metadata": {},
   "source": [
    "### save train data"
   ]
  },
  {
   "cell_type": "code",
   "execution_count": null,
   "metadata": {},
   "outputs": [],
   "source": [
    "traindata.to_csv('WILO_traindata.csv', sep=';', header=True, index=False)"
   ]
  },
  {
   "cell_type": "code",
   "execution_count": null,
   "metadata": {},
   "outputs": [],
   "source": []
  },
  {
   "cell_type": "code",
   "execution_count": null,
   "metadata": {},
   "outputs": [],
   "source": []
  },
  {
   "cell_type": "markdown",
   "metadata": {},
   "source": [
    "## Check most important features:\n",
    "- ProductID\n",
    "- Symptoms"
   ]
  },
  {
   "cell_type": "code",
   "execution_count": null,
   "metadata": {},
   "outputs": [],
   "source": []
  }
 ],
 "metadata": {
  "kernelspec": {
   "display_name": "Python 3",
   "language": "python",
   "name": "python3"
  },
  "language_info": {
   "codemirror_mode": {
    "name": "ipython",
    "version": 3
   },
   "file_extension": ".py",
   "mimetype": "text/x-python",
   "name": "python",
   "nbconvert_exporter": "python",
   "pygments_lexer": "ipython3",
   "version": "3.6.9"
  },
  "nteract": {
   "version": "nteract-front-end@1.0.0"
  }
 },
 "nbformat": 4,
 "nbformat_minor": 4
}
