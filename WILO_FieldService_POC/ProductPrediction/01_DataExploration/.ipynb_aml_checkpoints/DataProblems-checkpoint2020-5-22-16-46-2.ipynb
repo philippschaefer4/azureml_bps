{
 "cells": [
  {
   "cell_type": "code",
   "execution_count": 75,
   "metadata": {},
   "outputs": [],
   "source": [
    "from azureml.core import Workspace\n",
    "from azureml.core.authentication import InteractiveLoginAuthentication\n",
    "\n",
    "import pandas as pd\n",
    "import numpy as np\n",
    "import datetime "
   ]
  },
  {
   "cell_type": "code",
   "execution_count": 76,
   "metadata": {},
   "outputs": [],
   "source": [
    "interactive_auth = InteractiveLoginAuthentication(tenant_id=\"39288a38-ff19-432c-8011-1cd9d0dff445\")\n",
    "ws = Workspace(subscription_id=\"793146d9-d4dc-4a73-9728-76c4ffd0cc0d\", resource_group=\"rg_dynamics_test\", workspace_name=\"resdynml1test\", auth=interactive_auth)"
   ]
  },
  {
   "cell_type": "code",
   "execution_count": 77,
   "metadata": {},
   "outputs": [],
   "source": [
    "# df_symptoms_init = pd.read_csv('symptomcodes.csv', sep=';', header=0)\n",
    "\n",
    "df_symptoms_init = ws.datasets['symptomcodes.csv']\n",
    "df_symptoms_init = df_symptoms_init.to_pandas_dataframe()\n",
    "\n",
    "symptoms_codes = pd.concat([df_symptoms_init.Symptom1.dropna(),\n",
    "                            df_symptoms_init.Symptom2.dropna(),\n",
    "                            df_symptoms_init.Symptom3.dropna(),\n",
    "                            df_symptoms_init.Symptom4.dropna()],\n",
    "                           axis=0).unique()\n",
    "symptoms_codes = [ 'symptom_' + str(symp) for symp in symptoms_codes ]"
   ]
  },
  {
   "cell_type": "code",
   "execution_count": 78,
   "metadata": {},
   "outputs": [
    {
     "data": {
      "text/plain": [
       "752544"
      ]
     },
     "execution_count": 78,
     "metadata": {},
     "output_type": "execute_result"
    }
   ],
   "source": [
    "df = ws.datasets['ItemResourceData.csv']\n",
    "df = df.to_pandas_dataframe()\n",
    "len(df)"
   ]
  },
  {
   "cell_type": "code",
   "execution_count": 79,
   "metadata": {},
   "outputs": [
    {
     "data": {
      "text/plain": [
       "605640"
      ]
     },
     "execution_count": 79,
     "metadata": {},
     "output_type": "execute_result"
    }
   ],
   "source": [
    "# get only data from last n years\n",
    "n = 5\n",
    "df_tr = df\n",
    "df_tr = df[df['Job Card.Date Start Work']>(datetime.datetime.today() - datetime.timedelta(days=n*365))]\n",
    "len(df_tr)"
   ]
  },
  {
   "cell_type": "code",
   "execution_count": 80,
   "metadata": {},
   "outputs": [
    {
     "data": {
      "text/plain": [
       "146904"
      ]
     },
     "execution_count": 80,
     "metadata": {},
     "output_type": "execute_result"
    }
   ],
   "source": [
    "# 1.1.1900\n",
    "len(df[df['Job Card.Date Start Work']<(datetime.datetime.today() - datetime.timedelta(days=n*365))])"
   ]
  },
  {
   "cell_type": "code",
   "execution_count": 81,
   "metadata": {},
   "outputs": [
    {
     "data": {
      "text/html": [
       "<div>\n",
       "<style scoped>\n",
       "    .dataframe tbody tr th:only-of-type {\n",
       "        vertical-align: middle;\n",
       "    }\n",
       "\n",
       "    .dataframe tbody tr th {\n",
       "        vertical-align: top;\n",
       "    }\n",
       "\n",
       "    .dataframe thead th {\n",
       "        text-align: right;\n",
       "    }\n",
       "</style>\n",
       "<table border=\"1\" class=\"dataframe\">\n",
       "  <thead>\n",
       "    <tr style=\"text-align: right;\">\n",
       "      <th></th>\n",
       "      <th>Installed Base.Product Group</th>\n",
       "      <th>Installed Base.InstalledBase ProductID</th>\n",
       "      <th>Job Card.JobCard Number</th>\n",
       "      <th>Location.Country</th>\n",
       "      <th>Location.City</th>\n",
       "      <th>Location.Location Type</th>\n",
       "      <th>Location.Postal Code</th>\n",
       "      <th>Product.Product Name</th>\n",
       "      <th>Product.Product Number</th>\n",
       "      <th>ItemResourceAppliedQuantity</th>\n",
       "      <th>Job Card.Date Start Work</th>\n",
       "      <th>Job Card.Date End Work</th>\n",
       "      <th>Job Card.ComponentCode</th>\n",
       "      <th>Job Card.FailureCode</th>\n",
       "      <th>Job Card.Symptom Description</th>\n",
       "    </tr>\n",
       "  </thead>\n",
       "  <tbody>\n",
       "    <tr>\n",
       "      <th>23</th>\n",
       "      <td>None</td>\n",
       "      <td>-</td>\n",
       "      <td>CAS-105628-J5W5Y8 JC01.00</td>\n",
       "      <td>GB</td>\n",
       "      <td>Suffolk</td>\n",
       "      <td>Building - Commercial</td>\n",
       "      <td>IP1 1DT</td>\n",
       "      <td>Labour Supervisor Basic Time (15 min.)</td>\n",
       "      <td>2028262</td>\n",
       "      <td>0</td>\n",
       "      <td>1900-01-01</td>\n",
       "      <td>1900-01-01</td>\n",
       "      <td>None</td>\n",
       "      <td>None</td>\n",
       "      <td>None</td>\n",
       "    </tr>\n",
       "    <tr>\n",
       "      <th>24</th>\n",
       "      <td>None</td>\n",
       "      <td>-</td>\n",
       "      <td>CAS-105628-J5W5Y8 JC01.00</td>\n",
       "      <td>GB</td>\n",
       "      <td>Suffolk</td>\n",
       "      <td>Building - Commercial</td>\n",
       "      <td>IP1 1DT</td>\n",
       "      <td>Travel Time (15 min.)</td>\n",
       "      <td>2028261</td>\n",
       "      <td>0</td>\n",
       "      <td>1900-01-01</td>\n",
       "      <td>1900-01-01</td>\n",
       "      <td>None</td>\n",
       "      <td>None</td>\n",
       "      <td>None</td>\n",
       "    </tr>\n",
       "    <tr>\n",
       "      <th>25</th>\n",
       "      <td>None</td>\n",
       "      <td>-</td>\n",
       "      <td>CAS-105628-J5W5Y8 JC02.00</td>\n",
       "      <td>GB</td>\n",
       "      <td>Suffolk</td>\n",
       "      <td>Building - Commercial</td>\n",
       "      <td>IP1 1DT</td>\n",
       "      <td>Labour Supervisor Basic Time (15 min.)</td>\n",
       "      <td>2028262</td>\n",
       "      <td>0</td>\n",
       "      <td>1900-01-01</td>\n",
       "      <td>1900-01-01</td>\n",
       "      <td>None</td>\n",
       "      <td>None</td>\n",
       "      <td>None</td>\n",
       "    </tr>\n",
       "    <tr>\n",
       "      <th>26</th>\n",
       "      <td>None</td>\n",
       "      <td>-</td>\n",
       "      <td>CAS-105628-J5W5Y8 JC02.00</td>\n",
       "      <td>GB</td>\n",
       "      <td>Suffolk</td>\n",
       "      <td>Building - Commercial</td>\n",
       "      <td>IP1 1DT</td>\n",
       "      <td>Travel Time (15 min.)</td>\n",
       "      <td>2028261</td>\n",
       "      <td>0</td>\n",
       "      <td>1900-01-01</td>\n",
       "      <td>1900-01-01</td>\n",
       "      <td>None</td>\n",
       "      <td>None</td>\n",
       "      <td>None</td>\n",
       "    </tr>\n",
       "    <tr>\n",
       "      <th>49</th>\n",
       "      <td>None</td>\n",
       "      <td>-</td>\n",
       "      <td>CAS-77855-B1M2F5 JC02.00</td>\n",
       "      <td>GB</td>\n",
       "      <td>London</td>\n",
       "      <td>Building - Residential</td>\n",
       "      <td>SW20 8JG</td>\n",
       "      <td>Labour Supervisor Basic Time (15 min.)</td>\n",
       "      <td>2028262</td>\n",
       "      <td>0</td>\n",
       "      <td>1900-01-01</td>\n",
       "      <td>1900-01-01</td>\n",
       "      <td>None</td>\n",
       "      <td>None</td>\n",
       "      <td>None</td>\n",
       "    </tr>\n",
       "  </tbody>\n",
       "</table>\n",
       "</div>"
      ],
      "text/plain": [
       "   Installed Base.Product Group Installed Base.InstalledBase ProductID  \\\n",
       "23                         None                                      -   \n",
       "24                         None                                      -   \n",
       "25                         None                                      -   \n",
       "26                         None                                      -   \n",
       "49                         None                                      -   \n",
       "\n",
       "      Job Card.JobCard Number Location.Country Location.City  \\\n",
       "23  CAS-105628-J5W5Y8 JC01.00               GB       Suffolk   \n",
       "24  CAS-105628-J5W5Y8 JC01.00               GB       Suffolk   \n",
       "25  CAS-105628-J5W5Y8 JC02.00               GB       Suffolk   \n",
       "26  CAS-105628-J5W5Y8 JC02.00               GB       Suffolk   \n",
       "49   CAS-77855-B1M2F5 JC02.00               GB        London   \n",
       "\n",
       "    Location.Location Type Location.Postal Code  \\\n",
       "23   Building - Commercial              IP1 1DT   \n",
       "24   Building - Commercial              IP1 1DT   \n",
       "25   Building - Commercial              IP1 1DT   \n",
       "26   Building - Commercial              IP1 1DT   \n",
       "49  Building - Residential             SW20 8JG   \n",
       "\n",
       "                      Product.Product Name Product.Product Number  \\\n",
       "23  Labour Supervisor Basic Time (15 min.)                2028262   \n",
       "24                   Travel Time (15 min.)                2028261   \n",
       "25  Labour Supervisor Basic Time (15 min.)                2028262   \n",
       "26                   Travel Time (15 min.)                2028261   \n",
       "49  Labour Supervisor Basic Time (15 min.)                2028262   \n",
       "\n",
       "    ItemResourceAppliedQuantity Job Card.Date Start Work  \\\n",
       "23                            0               1900-01-01   \n",
       "24                            0               1900-01-01   \n",
       "25                            0               1900-01-01   \n",
       "26                            0               1900-01-01   \n",
       "49                            0               1900-01-01   \n",
       "\n",
       "   Job Card.Date End Work Job Card.ComponentCode Job Card.FailureCode  \\\n",
       "23             1900-01-01                   None                 None   \n",
       "24             1900-01-01                   None                 None   \n",
       "25             1900-01-01                   None                 None   \n",
       "26             1900-01-01                   None                 None   \n",
       "49             1900-01-01                   None                 None   \n",
       "\n",
       "   Job Card.Symptom Description  \n",
       "23                         None  \n",
       "24                         None  \n",
       "25                         None  \n",
       "26                         None  \n",
       "49                         None  "
      ]
     },
     "execution_count": 81,
     "metadata": {},
     "output_type": "execute_result"
    }
   ],
   "source": [
    "df[df['Job Card.Date Start Work']<(datetime.datetime.today() - datetime.timedelta(days=n*365))].head()"
   ]
  },
  {
   "cell_type": "code",
   "execution_count": 82,
   "metadata": {},
   "outputs": [
    {
     "data": {
      "text/plain": [
       "605640"
      ]
     },
     "execution_count": 82,
     "metadata": {},
     "output_type": "execute_result"
    }
   ],
   "source": [
    "# remove '-' as Installed Base.InstalledBase ProductID\n",
    "df_tr = df_tr.replace(['', '0', '-', '000', 'N/A'], np.nan)\n",
    "len(df_tr)"
   ]
  },
  {
   "cell_type": "code",
   "execution_count": 83,
   "metadata": {},
   "outputs": [
    {
     "data": {
      "text/plain": [
       "385346"
      ]
     },
     "execution_count": 83,
     "metadata": {},
     "output_type": "execute_result"
    }
   ],
   "source": [
    "df_tr = df_tr[['Installed Base.Product Group', 'Installed Base.InstalledBase ProductID','Location.Country', 'Location.City', 'Location.Location Type','Location.Postal Code', 'Job Card.JobCard Number', 'Product.Product Number','Product.Product Name', 'Job Card.Date Start Work', 'Job Card.Date End Work', 'Job Card.ComponentCode', 'Job Card.FailureCode', 'Job Card.Symptom Description']]\n",
    "df_tr = df_tr.dropna().reset_index(drop=True)\n",
    "len(df_tr)"
   ]
  },
  {
   "cell_type": "code",
   "execution_count": 84,
   "metadata": {},
   "outputs": [
    {
     "data": {
      "text/plain": [
       "Index(['Installed Base.Product Group',\n",
       "       'Installed Base.InstalledBase ProductID', 'Location.Country',\n",
       "       'Location.City', 'Location.Location Type', 'Location.Postal Code',\n",
       "       'Job Card.JobCard Number', 'Product.Product Number',\n",
       "       'Product.Product Name', 'Job Card.Date Start Work',\n",
       "       'Job Card.Date End Work', 'Job Card.ComponentCode',\n",
       "       'Job Card.FailureCode', 'Job Card.Symptom Description'],\n",
       "      dtype='object')"
      ]
     },
     "execution_count": 84,
     "metadata": {},
     "output_type": "execute_result"
    }
   ],
   "source": [
    "df_tr.columns"
   ]
  },
  {
   "cell_type": "markdown",
   "metadata": {},
   "source": [
    "# Features"
   ]
  },
  {
   "cell_type": "markdown",
   "metadata": {},
   "source": [
    "## Product Group / Product ID"
   ]
  },
  {
   "cell_type": "code",
   "execution_count": 13,
   "metadata": {},
   "outputs": [
    {
     "name": "stdout",
     "output_type": "stream",
     "text": [
      "74.18857142857142\n",
      "10.0\n",
      "1.0110583287905925\n",
      "1.0\n"
     ]
    }
   ],
   "source": [
    "# Problem: es gibt mehrere Groups pro ID und mehrere IDs pro Group\n",
    "\n",
    "# anzahl ids pro gruppe\n",
    "print(df_tr[['Installed Base.Product Group', 'Installed Base.InstalledBase ProductID']].drop_duplicates().groupby(['Installed Base.Product Group'])['Installed Base.InstalledBase ProductID'].count().mean())\n",
    "print(df_tr[['Installed Base.Product Group', 'Installed Base.InstalledBase ProductID']].drop_duplicates().groupby(['Installed Base.Product Group'])['Installed Base.InstalledBase ProductID'].count().median())\n",
    "\n",
    "# anzahl gruppen pro id\n",
    "print(df_tr[['Installed Base.Product Group', 'Installed Base.InstalledBase ProductID']].drop_duplicates().groupby(['Installed Base.InstalledBase ProductID'])['Installed Base.Product Group'].count().mean())\n",
    "print(df_tr[['Installed Base.Product Group', 'Installed Base.InstalledBase ProductID']].drop_duplicates().groupby(['Installed Base.InstalledBase ProductID'])['Installed Base.Product Group'].count().median())"
   ]
  },
  {
   "cell_type": "code",
   "execution_count": 17,
   "metadata": {},
   "outputs": [
    {
     "data": {
      "text/html": [
       "<div>\n",
       "<style scoped>\n",
       "    .dataframe tbody tr th:only-of-type {\n",
       "        vertical-align: middle;\n",
       "    }\n",
       "\n",
       "    .dataframe tbody tr th {\n",
       "        vertical-align: top;\n",
       "    }\n",
       "\n",
       "    .dataframe thead th {\n",
       "        text-align: right;\n",
       "    }\n",
       "</style>\n",
       "<table border=\"1\" class=\"dataframe\">\n",
       "  <thead>\n",
       "    <tr style=\"text-align: right;\">\n",
       "      <th></th>\n",
       "      <th>Installed Base.InstalledBase ProductID</th>\n",
       "      <th>Installed Base.Product Group</th>\n",
       "    </tr>\n",
       "  </thead>\n",
       "  <tbody>\n",
       "    <tr>\n",
       "      <th>80</th>\n",
       "      <td>111319193</td>\n",
       "      <td>22101</td>\n",
       "    </tr>\n",
       "    <tr>\n",
       "      <th>83</th>\n",
       "      <td>111319296</td>\n",
       "      <td>22101</td>\n",
       "    </tr>\n",
       "    <tr>\n",
       "      <th>9038</th>\n",
       "      <td>2001345</td>\n",
       "      <td>22101</td>\n",
       "    </tr>\n",
       "    <tr>\n",
       "      <th>9040</th>\n",
       "      <td>2001350</td>\n",
       "      <td>22101</td>\n",
       "    </tr>\n",
       "    <tr>\n",
       "      <th>9047</th>\n",
       "      <td>2001351</td>\n",
       "      <td>22101</td>\n",
       "    </tr>\n",
       "  </tbody>\n",
       "</table>\n",
       "</div>"
      ],
      "text/plain": [
       "     Installed Base.InstalledBase ProductID Installed Base.Product Group\n",
       "80                                111319193                        22101\n",
       "83                                111319296                        22101\n",
       "9038                                2001345                        22101\n",
       "9040                                2001350                        22101\n",
       "9047                                2001351                        22101"
      ]
     },
     "execution_count": 17,
     "metadata": {},
     "output_type": "execute_result"
    }
   ],
   "source": [
    "# multiple productids for one group\n",
    "df_tr[df_tr['Installed Base.Product Group'] == '22101'][['Installed Base.InstalledBase ProductID', 'Installed Base.Product Group']].drop_duplicates().head()"
   ]
  },
  {
   "cell_type": "code",
   "execution_count": 69,
   "metadata": {},
   "outputs": [
    {
     "data": {
      "text/plain": [
       "128"
      ]
     },
     "execution_count": 69,
     "metadata": {},
     "output_type": "execute_result"
    }
   ],
   "source": [
    "# df_count = df_tr[['Installed Base.Product Group', 'Installed Base.InstalledBase ProductID']].drop_duplicates().groupby(['Installed Base.InstalledBase ProductID'])['Installed Base.Product Group'].count()\n",
    "# len(df_count[df_count>1])"
   ]
  },
  {
   "cell_type": "code",
   "execution_count": 16,
   "metadata": {},
   "outputs": [
    {
     "data": {
      "text/html": [
       "<div>\n",
       "<style scoped>\n",
       "    .dataframe tbody tr th:only-of-type {\n",
       "        vertical-align: middle;\n",
       "    }\n",
       "\n",
       "    .dataframe tbody tr th {\n",
       "        vertical-align: top;\n",
       "    }\n",
       "\n",
       "    .dataframe thead th {\n",
       "        text-align: right;\n",
       "    }\n",
       "</style>\n",
       "<table border=\"1\" class=\"dataframe\">\n",
       "  <thead>\n",
       "    <tr style=\"text-align: right;\">\n",
       "      <th></th>\n",
       "      <th>Installed Base.InstalledBase ProductID</th>\n",
       "      <th>Installed Base.Product Group</th>\n",
       "    </tr>\n",
       "  </thead>\n",
       "  <tbody>\n",
       "    <tr>\n",
       "      <th>93078</th>\n",
       "      <td>2155017</td>\n",
       "      <td>93108</td>\n",
       "    </tr>\n",
       "    <tr>\n",
       "      <th>93262</th>\n",
       "      <td>2155017</td>\n",
       "      <td>43601</td>\n",
       "    </tr>\n",
       "    <tr>\n",
       "      <th>93282</th>\n",
       "      <td>2155017</td>\n",
       "      <td>43503</td>\n",
       "    </tr>\n",
       "    <tr>\n",
       "      <th>93323</th>\n",
       "      <td>2155017</td>\n",
       "      <td>41402</td>\n",
       "    </tr>\n",
       "  </tbody>\n",
       "</table>\n",
       "</div>"
      ],
      "text/plain": [
       "      Installed Base.InstalledBase ProductID Installed Base.Product Group\n",
       "93078                                2155017                        93108\n",
       "93262                                2155017                        43601\n",
       "93282                                2155017                        43503\n",
       "93323                                2155017                        41402"
      ]
     },
     "execution_count": 16,
     "metadata": {},
     "output_type": "execute_result"
    }
   ],
   "source": [
    "# multiple groups for one productid\n",
    "df_tr[df_tr['Installed Base.InstalledBase ProductID'] == '2155017'][['Installed Base.InstalledBase ProductID', 'Installed Base.Product Group']].drop_duplicates()"
   ]
  },
  {
   "cell_type": "code",
   "execution_count": null,
   "metadata": {},
   "outputs": [],
   "source": [
    "# allgemein:\n",
    "# large number of ids => problematic feature\n",
    "# => one clf per id/instance ?                 <<< ja, id = articletype; v.a. feste Menge an Ersatzteilen/Service pro Artikel\n",
    "# => one more general clf ?"
   ]
  },
  {
   "cell_type": "code",
   "execution_count": 73,
   "metadata": {},
   "outputs": [
    {
     "data": {
      "text/plain": [
       "12841"
      ]
     },
     "execution_count": 73,
     "metadata": {},
     "output_type": "execute_result"
    }
   ],
   "source": [
    "len(df_tr['Installed Base.InstalledBase ProductID'].unique())"
   ]
  },
  {
   "cell_type": "code",
   "execution_count": 74,
   "metadata": {},
   "outputs": [
    {
     "data": {
      "text/plain": [
       "175"
      ]
     },
     "execution_count": 74,
     "metadata": {},
     "output_type": "execute_result"
    }
   ],
   "source": [
    "len(df_tr['Installed Base.Product Group'].unique())"
   ]
  },
  {
   "cell_type": "markdown",
   "metadata": {},
   "source": [
    "## Location"
   ]
  },
  {
   "cell_type": "code",
   "execution_count": 21,
   "metadata": {},
   "outputs": [
    {
     "name": "stdout",
     "output_type": "stream",
     "text": [
      "1.2106533759053033\n",
      "4.205124211510007\n",
      "2.0441554396075072\n",
      "4.795420917374036\n",
      "      Job Card.JobCard Number Installed Base.InstalledBase ProductID  \\\n",
      "42      C-BE005805-HA JC01.00                              111151799   \n",
      "43      C-BE005805-HA JC01.00                              111151799   \n",
      "44   CAS-45039-B8Q3F3 JC01.00                              111151799   \n",
      "45   CAS-45039-B8Q3F3 JC01.00                              111151799   \n",
      "46   CAS-45039-B8Q3F3 JC01.00                              111151799   \n",
      "47  CAS-142034-M9P4B2 JC01.00                              111151799   \n",
      "48  CAS-142034-M9P4B2 JC01.00                              111151799   \n",
      "49  CAS-142034-M9P4B2 JC01.00                              111151799   \n",
      "50   CAS-65124-G7C0X4 JC01.00                              111151799   \n",
      "51   CAS-65124-G7C0X4 JC01.00                              111151799   \n",
      "52   CAS-65124-G7C0X4 JC01.00                              111151799   \n",
      "53   CAS-65124-G7C0X4 JC01.00                              111151799   \n",
      "54   CAS-65124-G7C0X4 JC01.00                              111151799   \n",
      "55   CAS-65124-G7C0X4 JC01.00                              111151799   \n",
      "56   CAS-65124-G7C0X4 JC01.00                              111151799   \n",
      "57   CAS-65124-G7C0X4 JC01.00                              111151799   \n",
      "58   CAS-65124-G7C0X4 JC01.00                              111151799   \n",
      "59   CAS-65500-G9M3J3 JC01.00                              111151799   \n",
      "60   CAS-65500-G9M3J3 JC01.00                              111151799   \n",
      "\n",
      "   Location.Country  Location.City     Location.Location Type  \\\n",
      "42               BE      BRUXELLES     Building - Residential   \n",
      "43               BE      BRUXELLES     Building - Residential   \n",
      "44               DE  Veitshöchheim      Building - Commercial   \n",
      "45               DE  Veitshöchheim      Building - Commercial   \n",
      "46               DE  Veitshöchheim      Building - Commercial   \n",
      "47               DE    Liebenwalde  Building - Administrative   \n",
      "48               DE    Liebenwalde  Building - Administrative   \n",
      "49               DE    Liebenwalde  Building - Administrative   \n",
      "50               DE       Nittenau            Plant - Factory   \n",
      "51               DE       Nittenau            Plant - Factory   \n",
      "52               DE       Nittenau            Plant - Factory   \n",
      "53               DE       Nittenau            Plant - Factory   \n",
      "54               DE       Nittenau            Plant - Factory   \n",
      "55               DE       Nittenau            Plant - Factory   \n",
      "56               DE       Nittenau            Plant - Factory   \n",
      "57               DE       Nittenau            Plant - Factory   \n",
      "58               DE       Nittenau            Plant - Factory   \n",
      "59               DE         Tabarz        Building - Hospital   \n",
      "60               DE         Tabarz        Building - Hospital   \n",
      "\n",
      "   Location.Postal Code  \n",
      "42                 1180  \n",
      "43                 1180  \n",
      "44                97209  \n",
      "45                97209  \n",
      "46                97209  \n",
      "47                16559  \n",
      "48                16559  \n",
      "49                16559  \n",
      "50                93149  \n",
      "51                93149  \n",
      "52                93149  \n",
      "53                93149  \n",
      "54                93149  \n",
      "55                93149  \n",
      "56                93149  \n",
      "57                93149  \n",
      "58                93149  \n",
      "59                99891  \n",
      "60                99891  \n"
     ]
    }
   ],
   "source": [
    "# Problem: es gibt mehrere Locations pro ID (abhängig von CaseId)\n",
    "\n",
    "print(df_tr[['Location.Country', 'Installed Base.InstalledBase ProductID']].drop_duplicates().groupby(['Installed Base.InstalledBase ProductID'])['Location.Country'].count().mean())\n",
    "print(df_tr[['Location.City', 'Installed Base.InstalledBase ProductID']].drop_duplicates().groupby(['Installed Base.InstalledBase ProductID'])['Location.City'].count().mean())\n",
    "print(df_tr[['Location.Location Type', 'Installed Base.InstalledBase ProductID']].drop_duplicates().groupby(['Installed Base.InstalledBase ProductID'])['Location.Location Type'].count().mean())\n",
    "print(df_tr[['Location.Postal Code', 'Installed Base.InstalledBase ProductID']].drop_duplicates().groupby(['Installed Base.InstalledBase ProductID'])['Location.Postal Code'].count().mean())\n",
    "\n",
    "print(df_tr[df_tr['Installed Base.InstalledBase ProductID']=='111151799'][['Job Card.JobCard Number',  'Installed Base.InstalledBase ProductID', 'Location.Country', 'Location.City', 'Location.Location Type', 'Location.Postal Code']])"
   ]
  },
  {
   "cell_type": "code",
   "execution_count": 22,
   "metadata": {},
   "outputs": [
    {
     "name": "stdout",
     "output_type": "stream",
     "text": [
      "1.2014172379265193\n",
      "4.16067164753909\n",
      "2.0317338057459753\n",
      "4.744435030424401\n",
      "      Job Card.JobCard Number Installed Base.InstalledBase ProductID  \\\n",
      "42      C-BE005805-HA JC01.00                              111151799   \n",
      "43      C-BE005805-HA JC01.00                              111151799   \n",
      "44   CAS-45039-B8Q3F3 JC01.00                              111151799   \n",
      "45   CAS-45039-B8Q3F3 JC01.00                              111151799   \n",
      "46   CAS-45039-B8Q3F3 JC01.00                              111151799   \n",
      "47  CAS-142034-M9P4B2 JC01.00                              111151799   \n",
      "48  CAS-142034-M9P4B2 JC01.00                              111151799   \n",
      "49  CAS-142034-M9P4B2 JC01.00                              111151799   \n",
      "50   CAS-65124-G7C0X4 JC01.00                              111151799   \n",
      "51   CAS-65124-G7C0X4 JC01.00                              111151799   \n",
      "52   CAS-65124-G7C0X4 JC01.00                              111151799   \n",
      "53   CAS-65124-G7C0X4 JC01.00                              111151799   \n",
      "54   CAS-65124-G7C0X4 JC01.00                              111151799   \n",
      "55   CAS-65124-G7C0X4 JC01.00                              111151799   \n",
      "56   CAS-65124-G7C0X4 JC01.00                              111151799   \n",
      "57   CAS-65124-G7C0X4 JC01.00                              111151799   \n",
      "58   CAS-65124-G7C0X4 JC01.00                              111151799   \n",
      "59   CAS-65500-G9M3J3 JC01.00                              111151799   \n",
      "60   CAS-65500-G9M3J3 JC01.00                              111151799   \n",
      "\n",
      "   Installed Base.Product Group Location.Country  Location.City  \\\n",
      "42                        22301               BE      BRUXELLES   \n",
      "43                        22301               BE      BRUXELLES   \n",
      "44                        22301               DE  Veitshöchheim   \n",
      "45                        22301               DE  Veitshöchheim   \n",
      "46                        22301               DE  Veitshöchheim   \n",
      "47                        22301               DE    Liebenwalde   \n",
      "48                        22301               DE    Liebenwalde   \n",
      "49                        22301               DE    Liebenwalde   \n",
      "50                        22301               DE       Nittenau   \n",
      "51                        22301               DE       Nittenau   \n",
      "52                        22301               DE       Nittenau   \n",
      "53                        22301               DE       Nittenau   \n",
      "54                        22301               DE       Nittenau   \n",
      "55                        22301               DE       Nittenau   \n",
      "56                        22301               DE       Nittenau   \n",
      "57                        22301               DE       Nittenau   \n",
      "58                        22301               DE       Nittenau   \n",
      "59                        22301               DE         Tabarz   \n",
      "60                        22301               DE         Tabarz   \n",
      "\n",
      "       Location.Location Type Location.Postal Code  \n",
      "42     Building - Residential                 1180  \n",
      "43     Building - Residential                 1180  \n",
      "44      Building - Commercial                97209  \n",
      "45      Building - Commercial                97209  \n",
      "46      Building - Commercial                97209  \n",
      "47  Building - Administrative                16559  \n",
      "48  Building - Administrative                16559  \n",
      "49  Building - Administrative                16559  \n",
      "50            Plant - Factory                93149  \n",
      "51            Plant - Factory                93149  \n",
      "52            Plant - Factory                93149  \n",
      "53            Plant - Factory                93149  \n",
      "54            Plant - Factory                93149  \n",
      "55            Plant - Factory                93149  \n",
      "56            Plant - Factory                93149  \n",
      "57            Plant - Factory                93149  \n",
      "58            Plant - Factory                93149  \n",
      "59        Building - Hospital                99891  \n",
      "60        Building - Hospital                99891  \n"
     ]
    }
   ],
   "source": [
    "# Problem: es gibt mehrere Locations pro ID (abhängig von CaseId)\n",
    "\n",
    "print(df_tr[['Location.Country', 'Installed Base.InstalledBase ProductID', 'Installed Base.Product Group']].drop_duplicates().groupby(['Installed Base.InstalledBase ProductID', 'Installed Base.Product Group'])['Location.Country'].count().mean())\n",
    "print(df_tr[['Location.City', 'Installed Base.InstalledBase ProductID', 'Installed Base.Product Group']].drop_duplicates().groupby(['Installed Base.InstalledBase ProductID', 'Installed Base.Product Group'])['Location.City'].count().mean())\n",
    "print(df_tr[['Location.Location Type', 'Installed Base.InstalledBase ProductID', 'Installed Base.Product Group']].drop_duplicates().groupby(['Installed Base.InstalledBase ProductID', 'Installed Base.Product Group'])['Location.Location Type'].count().mean())\n",
    "print(df_tr[['Location.Postal Code', 'Installed Base.InstalledBase ProductID', 'Installed Base.Product Group']].drop_duplicates().groupby(['Installed Base.InstalledBase ProductID', 'Installed Base.Product Group'])['Location.Postal Code'].count().mean())\n",
    "\n",
    "print(df_tr[df_tr['Installed Base.InstalledBase ProductID']=='111151799'][['Job Card.JobCard Number',  'Installed Base.InstalledBase ProductID', 'Installed Base.Product Group', 'Location.Country', 'Location.City', 'Location.Location Type', 'Location.Postal Code']])"
   ]
  },
  {
   "cell_type": "markdown",
   "metadata": {},
   "source": [
    "## Component und Failure Codes"
   ]
  },
  {
   "cell_type": "code",
   "execution_count": 23,
   "metadata": {},
   "outputs": [],
   "source": [
    "# es gibt comp fail combos die nicht in symptom tabelle sind\n",
    "\n",
    "df_failcodes = df_tr[['Job Card.JobCard Number', 'Job Card.ComponentCode','Job Card.FailureCode']].rename(columns={'Job Card.JobCard Number':'CaseId'})\n",
    "df_symptoms = df_symptoms_init[['ComponentCode', 'FailureCode', 'Symptom1', 'Symptom2', 'Symptom3', 'Symptom4']]\n",
    "\n",
    "# create component code - failure code combination column in traindata\n",
    "df_failcodes_combo = pd.DataFrame(df_failcodes.apply(lambda x: (x['Job Card.ComponentCode'],x['Job Card.FailureCode']),axis=1), columns=['CompFail'])\n",
    "df_failcodes = pd.concat([df_failcodes[['CaseId']], df_failcodes_combo], axis=1)\n",
    "\n",
    "# create component code - failure code combination column in symptom table\n",
    "symptoms_combo = pd.DataFrame(df_symptoms.apply(lambda x: (x['ComponentCode'],x['FailureCode']),axis=1), columns=['CompFail'])\n",
    "df_symptoms = pd.concat([df_symptoms[['Symptom1', 'Symptom2', 'Symptom3', 'Symptom4']], symptoms_combo], axis=1)"
   ]
  },
  {
   "cell_type": "code",
   "execution_count": 37,
   "metadata": {},
   "outputs": [
    {
     "name": "stdout",
     "output_type": "stream",
     "text": [
      "  Symptom1 Symptom2 Symptom3 Symptom4      CompFail\n",
      "0     G001     P002     K001     K002  (CS1A, CSW9)\n",
      "1     P002     M002     None     None  (CS1A, CSX3)\n",
      "2     P002     M002     None     None  (CS1A, CSY0)\n",
      "3     A002     M002     None     None  (CS1B, CSY5)\n",
      "4     G001     None     None     None  (CS1C, CSZ9)\n",
      "Symptom1            None\n",
      "Symptom2            None\n",
      "Symptom3            None\n",
      "Symptom4            None\n",
      "CompFail    (CSXE, CSX9)\n",
      "Name: 43, dtype: object\n"
     ]
    }
   ],
   "source": [
    "print(df_symptoms.head())\n",
    "print(df_symptoms.iloc[43])"
   ]
  },
  {
   "cell_type": "code",
   "execution_count": 25,
   "metadata": {},
   "outputs": [
    {
     "data": {
      "text/html": [
       "<div>\n",
       "<style scoped>\n",
       "    .dataframe tbody tr th:only-of-type {\n",
       "        vertical-align: middle;\n",
       "    }\n",
       "\n",
       "    .dataframe tbody tr th {\n",
       "        vertical-align: top;\n",
       "    }\n",
       "\n",
       "    .dataframe thead th {\n",
       "        text-align: right;\n",
       "    }\n",
       "</style>\n",
       "<table border=\"1\" class=\"dataframe\">\n",
       "  <thead>\n",
       "    <tr style=\"text-align: right;\">\n",
       "      <th></th>\n",
       "      <th>CaseId</th>\n",
       "      <th>CompFail</th>\n",
       "    </tr>\n",
       "  </thead>\n",
       "  <tbody>\n",
       "    <tr>\n",
       "      <th>0</th>\n",
       "      <td>CAS-34621-Z7R3S7 JC18.00</td>\n",
       "      <td>(CSXT, CSY7)</td>\n",
       "    </tr>\n",
       "    <tr>\n",
       "      <th>1</th>\n",
       "      <td>CAS-57422-L8N1P3 JC07.00</td>\n",
       "      <td>(CSXT, CSY7)</td>\n",
       "    </tr>\n",
       "    <tr>\n",
       "      <th>2</th>\n",
       "      <td>CAS-93677-L2H9S3 JC01.00</td>\n",
       "      <td>(CSXT, CSY7)</td>\n",
       "    </tr>\n",
       "    <tr>\n",
       "      <th>3</th>\n",
       "      <td>CAS-120240-N5Z8G3 JC01.00</td>\n",
       "      <td>(CSXT, CSY7)</td>\n",
       "    </tr>\n",
       "    <tr>\n",
       "      <th>4</th>\n",
       "      <td>CAS-162708-W1W3T3 JC01.00</td>\n",
       "      <td>(CSXT, CSY7)</td>\n",
       "    </tr>\n",
       "  </tbody>\n",
       "</table>\n",
       "</div>"
      ],
      "text/plain": [
       "                      CaseId      CompFail\n",
       "0   CAS-34621-Z7R3S7 JC18.00  (CSXT, CSY7)\n",
       "1   CAS-57422-L8N1P3 JC07.00  (CSXT, CSY7)\n",
       "2   CAS-93677-L2H9S3 JC01.00  (CSXT, CSY7)\n",
       "3  CAS-120240-N5Z8G3 JC01.00  (CSXT, CSY7)\n",
       "4  CAS-162708-W1W3T3 JC01.00  (CSXT, CSY7)"
      ]
     },
     "execution_count": 25,
     "metadata": {},
     "output_type": "execute_result"
    }
   ],
   "source": [
    "df_failcodes.head()"
   ]
  },
  {
   "cell_type": "code",
   "execution_count": 26,
   "metadata": {},
   "outputs": [
    {
     "name": "stdout",
     "output_type": "stream",
     "text": [
      "33\n",
      "3\n"
     ]
    }
   ],
   "source": [
    "# Combo in Symptom-Tabelle aber nicht in Training data (nicht so schlimm, aber ?)\n",
    "print(len(set(df_symptoms['CompFail']).difference(set(df_failcodes['CompFail']))))\n",
    "      \n",
    "# Combo in Traindata aber nicht in Sympton tabelle (keine Symptome übersetzbar)\n",
    "print(len(set(df_failcodes['CompFail']).difference(set(df_symptoms['CompFail']))))"
   ]
  },
  {
   "cell_type": "code",
   "execution_count": null,
   "metadata": {},
   "outputs": [],
   "source": [
    "set(df_failcodes['CompFail']).difference(set(df_symptoms['CompFail']))"
   ]
  },
  {
   "cell_type": "code",
   "execution_count": null,
   "metadata": {},
   "outputs": [],
   "source": [
    "set(df_symptoms['CompFail']"
   ]
  },
  {
   "cell_type": "code",
   "execution_count": 27,
   "metadata": {},
   "outputs": [
    {
     "data": {
      "text/plain": [
       "30"
      ]
     },
     "execution_count": 27,
     "metadata": {},
     "output_type": "execute_result"
    }
   ],
   "source": [
    "# Combos in Symptom tabelle ohne Symptome\n",
    "# (keine Symptome übersetzbar)\n",
    "\n",
    "df_s = df_symptoms[df_symptoms['Symptom1'].isnull()].reset_index(drop=True)\n",
    "df_s = df_s[df_s['Symptom2'].isnull()].reset_index(drop=True)\n",
    "df_s = df_s[df_s['Symptom3'].isnull()].reset_index(drop=True)\n",
    "df_s = df_s[df_s['Symptom4'].isnull()].reset_index(drop=True)\n",
    "len(df_s)"
   ]
  },
  {
   "cell_type": "markdown",
   "metadata": {},
   "source": [
    "## Description"
   ]
  },
  {
   "cell_type": "code",
   "execution_count": null,
   "metadata": {},
   "outputs": [],
   "source": [
    "# könnte auch analysiert werden, aber eher später\n",
    "# Frage: steht da auch etwas sinnvolles drin?\n",
    "\n",
    "df_tr['Job Card.Symptom Description'].head(30)"
   ]
  },
  {
   "cell_type": "markdown",
   "metadata": {},
   "source": [
    "# Targets"
   ]
  },
  {
   "cell_type": "markdown",
   "metadata": {},
   "source": [
    "## ProductName / ProductNr"
   ]
  },
  {
   "cell_type": "code",
   "execution_count": 39,
   "metadata": {},
   "outputs": [
    {
     "data": {
      "text/plain": [
       "Index(['Installed Base.Product Group',\n",
       "       'Installed Base.InstalledBase ProductID', 'Location.Country',\n",
       "       'Location.City', 'Location.Location Type', 'Location.Postal Code',\n",
       "       'Job Card.JobCard Number', 'Product.Product Number',\n",
       "       'Product.Product Name', 'Job Card.Date Start Work',\n",
       "       'Job Card.Date End Work', 'Job Card.ComponentCode',\n",
       "       'Job Card.FailureCode', 'Job Card.Symptom Description'],\n",
       "      dtype='object')"
      ]
     },
     "execution_count": 39,
     "metadata": {},
     "output_type": "execute_result"
    }
   ],
   "source": [
    "df_tr.columns"
   ]
  },
  {
   "cell_type": "code",
   "execution_count": 40,
   "metadata": {},
   "outputs": [
    {
     "name": "stdout",
     "output_type": "stream",
     "text": [
      "1.207628256782165\n",
      "1.0177702320316921\n"
     ]
    }
   ],
   "source": [
    "# Problem: es gibt mehrere Namen pro Nr und mehrere Nr pro Name\n",
    "\n",
    "# anzahl namen pro nr\n",
    "print(df_tr[['Product.Product Number', 'Product.Product Name']].drop_duplicates().groupby(['Product.Product Number'])['Product.Product Name'].count().mean())\n",
    "\n",
    "# anzahl nr pro name\n",
    "print(df_tr[['Product.Product Number', 'Product.Product Name']].drop_duplicates().groupby(['Product.Product Name'])['Product.Product Number'].count().mean())"
   ]
  },
  {
   "cell_type": "code",
   "execution_count": 41,
   "metadata": {},
   "outputs": [
    {
     "data": {
      "text/plain": [
       "26423    PASSSTÜCK FL DN40 X 30 PN6 KPL.F1\n",
       "59108           F1 Passstück DN40 30mm PN6\n",
       "97414                            SPACER F1\n",
       "Name: Product.Product Name, dtype: object"
      ]
     },
     "execution_count": 41,
     "metadata": {},
     "output_type": "execute_result"
    }
   ],
   "source": [
    "df_tr[df_tr['Product.Product Number']=='110586593']['Product.Product Name'].drop_duplicates()"
   ]
  },
  {
   "cell_type": "code",
   "execution_count": 42,
   "metadata": {},
   "outputs": [
    {
     "data": {
      "text/plain": [
       "37040     2830018-10\n",
       "102964       2830091\n",
       "Name: Product.Product Number, dtype: object"
      ]
     },
     "execution_count": 42,
     "metadata": {},
     "output_type": "execute_result"
    }
   ],
   "source": [
    "df_tr[df_tr['Product.Product Name']=='Flanschdichtung DN65 PN10']['Product.Product Number'].drop_duplicates()"
   ]
  },
  {
   "cell_type": "code",
   "execution_count": null,
   "metadata": {},
   "outputs": [],
   "source": [
    "# which is correct column: name or nr     <<<< nr benutzen\n",
    "# is any grouping/reduction possible      <<<< nein"
   ]
  },
  {
   "cell_type": "code",
   "execution_count": null,
   "metadata": {},
   "outputs": [],
   "source": [
    "# Should we split products into Products AND Services\n",
    "#\n",
    "# ==> one clf for products\n",
    "# ==> one clf for services\n",
    "#\n",
    "# how could we differentiate between prods and services?"
   ]
  },
  {
   "cell_type": "code",
   "execution_count": 67,
   "metadata": {},
   "outputs": [
    {
     "data": {
      "text/html": [
       "<div>\n",
       "<style scoped>\n",
       "    .dataframe tbody tr th:only-of-type {\n",
       "        vertical-align: middle;\n",
       "    }\n",
       "\n",
       "    .dataframe tbody tr th {\n",
       "        vertical-align: top;\n",
       "    }\n",
       "\n",
       "    .dataframe thead th {\n",
       "        text-align: right;\n",
       "    }\n",
       "</style>\n",
       "<table border=\"1\" class=\"dataframe\">\n",
       "  <thead>\n",
       "    <tr style=\"text-align: right;\">\n",
       "      <th></th>\n",
       "      <th>Job Card.JobCard Number</th>\n",
       "      <th>Product.Product Number</th>\n",
       "      <th>Product.Product Name</th>\n",
       "    </tr>\n",
       "  </thead>\n",
       "  <tbody>\n",
       "    <tr>\n",
       "      <th>0</th>\n",
       "      <td>CAS-34621-Z7R3S7 JC18.00</td>\n",
       "      <td>2028266</td>\n",
       "      <td>Lohnkosten Wartung Techniker</td>\n",
       "    </tr>\n",
       "    <tr>\n",
       "      <th>1</th>\n",
       "      <td>CAS-57422-L8N1P3 JC07.00</td>\n",
       "      <td>2028266</td>\n",
       "      <td>Lohnkosten Wartung Techniker</td>\n",
       "    </tr>\n",
       "    <tr>\n",
       "      <th>2</th>\n",
       "      <td>CAS-93677-L2H9S3 JC01.00</td>\n",
       "      <td>2028266</td>\n",
       "      <td>Lohnkosten Wartung Techniker</td>\n",
       "    </tr>\n",
       "    <tr>\n",
       "      <th>3</th>\n",
       "      <td>CAS-120240-N5Z8G3 JC01.00</td>\n",
       "      <td>2028266</td>\n",
       "      <td>Lohnkosten Wartung Techniker</td>\n",
       "    </tr>\n",
       "    <tr>\n",
       "      <th>4</th>\n",
       "      <td>CAS-162708-W1W3T3 JC01.00</td>\n",
       "      <td>2028266</td>\n",
       "      <td>Lohnkosten Wartung Techniker</td>\n",
       "    </tr>\n",
       "    <tr>\n",
       "      <th>5</th>\n",
       "      <td>CAS-41672-N0N6X7 JC01.01</td>\n",
       "      <td>2038370</td>\n",
       "      <td>Einsatzbasisleistung</td>\n",
       "    </tr>\n",
       "    <tr>\n",
       "      <th>6</th>\n",
       "      <td>CAS-41672-N0N6X7 JC01.01</td>\n",
       "      <td>2028262</td>\n",
       "      <td>Lohnkosten Spezialist</td>\n",
       "    </tr>\n",
       "    <tr>\n",
       "      <th>7</th>\n",
       "      <td>CAS-41672-N0N6X7 JC01.01</td>\n",
       "      <td>2132712</td>\n",
       "      <td>Tagespauschale Messgeräte</td>\n",
       "    </tr>\n",
       "    <tr>\n",
       "      <th>8</th>\n",
       "      <td>CAS-41672-N0N6X7 JC01.02</td>\n",
       "      <td>2038370</td>\n",
       "      <td>Einsatzbasisleistung</td>\n",
       "    </tr>\n",
       "    <tr>\n",
       "      <th>9</th>\n",
       "      <td>CAS-41672-N0N6X7 JC01.02</td>\n",
       "      <td>2028262</td>\n",
       "      <td>Lohnkosten Spezialist</td>\n",
       "    </tr>\n",
       "    <tr>\n",
       "      <th>10</th>\n",
       "      <td>CAS-192567-X1B6Y7 JC01.01</td>\n",
       "      <td>2038370</td>\n",
       "      <td>Einsatzbasisleistung</td>\n",
       "    </tr>\n",
       "    <tr>\n",
       "      <th>11</th>\n",
       "      <td>CAS-192567-X1B6Y7 JC01.01</td>\n",
       "      <td>110851190</td>\n",
       "      <td>FLANSCH DN40X50 PN16 KPL.F26</td>\n",
       "    </tr>\n",
       "    <tr>\n",
       "      <th>12</th>\n",
       "      <td>CAS-192567-X1B6Y7 JC01.01</td>\n",
       "      <td>501033799</td>\n",
       "      <td>Lohnkosten Techniker</td>\n",
       "    </tr>\n",
       "    <tr>\n",
       "      <th>13</th>\n",
       "      <td>CAS-192567-X1B6Y7 JC01.01</td>\n",
       "      <td>2186199</td>\n",
       "      <td>Stratos MAXO 40/0,5-8 PN6/10 (DE)</td>\n",
       "    </tr>\n",
       "    <tr>\n",
       "      <th>14</th>\n",
       "      <td>CAS-34621-Z7R3S7 JC09.00</td>\n",
       "      <td>2028266</td>\n",
       "      <td>Lohnkosten Wartung Techniker</td>\n",
       "    </tr>\n",
       "    <tr>\n",
       "      <th>15</th>\n",
       "      <td>CAS-57421-L9W8Y1 JC04.00</td>\n",
       "      <td>2028266</td>\n",
       "      <td>Lohnkosten Wartung Techniker</td>\n",
       "    </tr>\n",
       "    <tr>\n",
       "      <th>16</th>\n",
       "      <td>CAS-93681-F9Q8N7 JC01.00</td>\n",
       "      <td>2028266</td>\n",
       "      <td>Lohnkosten Wartung Techniker</td>\n",
       "    </tr>\n",
       "    <tr>\n",
       "      <th>17</th>\n",
       "      <td>CAS-120237-J9X6Z8 JC01.00</td>\n",
       "      <td>2028266</td>\n",
       "      <td>Lohnkosten Wartung Techniker</td>\n",
       "    </tr>\n",
       "    <tr>\n",
       "      <th>18</th>\n",
       "      <td>CAS-125137-B2P1Q8 JC01.00</td>\n",
       "      <td>501033799</td>\n",
       "      <td>Lohnkosten Techniker</td>\n",
       "    </tr>\n",
       "    <tr>\n",
       "      <th>19</th>\n",
       "      <td>CAS-125137-B2P1Q8 JC01.00</td>\n",
       "      <td>110623098</td>\n",
       "      <td>PASSSTÜCK FL DN50X20 PN6 KPL.F3</td>\n",
       "    </tr>\n",
       "  </tbody>\n",
       "</table>\n",
       "</div>"
      ],
      "text/plain": [
       "      Job Card.JobCard Number Product.Product Number  \\\n",
       "0    CAS-34621-Z7R3S7 JC18.00                2028266   \n",
       "1    CAS-57422-L8N1P3 JC07.00                2028266   \n",
       "2    CAS-93677-L2H9S3 JC01.00                2028266   \n",
       "3   CAS-120240-N5Z8G3 JC01.00                2028266   \n",
       "4   CAS-162708-W1W3T3 JC01.00                2028266   \n",
       "5    CAS-41672-N0N6X7 JC01.01                2038370   \n",
       "6    CAS-41672-N0N6X7 JC01.01                2028262   \n",
       "7    CAS-41672-N0N6X7 JC01.01                2132712   \n",
       "8    CAS-41672-N0N6X7 JC01.02                2038370   \n",
       "9    CAS-41672-N0N6X7 JC01.02                2028262   \n",
       "10  CAS-192567-X1B6Y7 JC01.01                2038370   \n",
       "11  CAS-192567-X1B6Y7 JC01.01              110851190   \n",
       "12  CAS-192567-X1B6Y7 JC01.01              501033799   \n",
       "13  CAS-192567-X1B6Y7 JC01.01                2186199   \n",
       "14   CAS-34621-Z7R3S7 JC09.00                2028266   \n",
       "15   CAS-57421-L9W8Y1 JC04.00                2028266   \n",
       "16   CAS-93681-F9Q8N7 JC01.00                2028266   \n",
       "17  CAS-120237-J9X6Z8 JC01.00                2028266   \n",
       "18  CAS-125137-B2P1Q8 JC01.00              501033799   \n",
       "19  CAS-125137-B2P1Q8 JC01.00              110623098   \n",
       "\n",
       "                 Product.Product Name  \n",
       "0        Lohnkosten Wartung Techniker  \n",
       "1        Lohnkosten Wartung Techniker  \n",
       "2        Lohnkosten Wartung Techniker  \n",
       "3        Lohnkosten Wartung Techniker  \n",
       "4        Lohnkosten Wartung Techniker  \n",
       "5                Einsatzbasisleistung  \n",
       "6               Lohnkosten Spezialist  \n",
       "7           Tagespauschale Messgeräte  \n",
       "8                Einsatzbasisleistung  \n",
       "9               Lohnkosten Spezialist  \n",
       "10               Einsatzbasisleistung  \n",
       "11       FLANSCH DN40X50 PN16 KPL.F26  \n",
       "12               Lohnkosten Techniker  \n",
       "13  Stratos MAXO 40/0,5-8 PN6/10 (DE)  \n",
       "14       Lohnkosten Wartung Techniker  \n",
       "15       Lohnkosten Wartung Techniker  \n",
       "16       Lohnkosten Wartung Techniker  \n",
       "17       Lohnkosten Wartung Techniker  \n",
       "18               Lohnkosten Techniker  \n",
       "19    PASSSTÜCK FL DN50X20 PN6 KPL.F3  "
      ]
     },
     "execution_count": 67,
     "metadata": {},
     "output_type": "execute_result"
    }
   ],
   "source": [
    "df_tr[['Job Card.JobCard Number', 'Product.Product Number', 'Product.Product Name']].head(20)"
   ]
  },
  {
   "cell_type": "markdown",
   "metadata": {},
   "source": [
    "### Dauer"
   ]
  },
  {
   "cell_type": "code",
   "execution_count": 43,
   "metadata": {},
   "outputs": [
    {
     "name": "stdout",
     "output_type": "stream",
     "text": [
      "Job Card.Date Start Work    1.000031\n",
      "Job Card.Date End Work      1.000031\n",
      "dtype: float64\n"
     ]
    }
   ],
   "source": [
    "# mehrere Timestamps pro Case\n",
    "\n",
    "print(df_tr[['Job Card.JobCard Number', 'Job Card.Date Start Work', 'Job Card.Date End Work']].drop_duplicates().groupby(['Job Card.JobCard Number'])['Job Card.Date Start Work', 'Job Card.Date End Work'].count().mean())"
   ]
  },
  {
   "cell_type": "code",
   "execution_count": 46,
   "metadata": {},
   "outputs": [
    {
     "data": {
      "text/html": [
       "<div>\n",
       "<style scoped>\n",
       "    .dataframe tbody tr th:only-of-type {\n",
       "        vertical-align: middle;\n",
       "    }\n",
       "\n",
       "    .dataframe tbody tr th {\n",
       "        vertical-align: top;\n",
       "    }\n",
       "\n",
       "    .dataframe thead th {\n",
       "        text-align: right;\n",
       "    }\n",
       "</style>\n",
       "<table border=\"1\" class=\"dataframe\">\n",
       "  <thead>\n",
       "    <tr style=\"text-align: right;\">\n",
       "      <th></th>\n",
       "      <th>Job Card.JobCard Number</th>\n",
       "      <th>Job Card.Date Start Work</th>\n",
       "      <th>Job Card.Date End Work</th>\n",
       "    </tr>\n",
       "  </thead>\n",
       "  <tbody>\n",
       "    <tr>\n",
       "      <th>33316</th>\n",
       "      <td>CAS-124239-C6C8Y1 JC01.00</td>\n",
       "      <td>2</td>\n",
       "      <td>2</td>\n",
       "    </tr>\n",
       "    <tr>\n",
       "      <th>94091</th>\n",
       "      <td>CAS-34560-S4Y6Q9 JC01.05</td>\n",
       "      <td>2</td>\n",
       "      <td>2</td>\n",
       "    </tr>\n",
       "    <tr>\n",
       "      <th>117219</th>\n",
       "      <td>CAS-54837-Q4D1N1 JC01.00</td>\n",
       "      <td>3</td>\n",
       "      <td>3</td>\n",
       "    </tr>\n",
       "    <tr>\n",
       "      <th>122533</th>\n",
       "      <td>CAS-59460-T9G6C2 JC01.01</td>\n",
       "      <td>2</td>\n",
       "      <td>2</td>\n",
       "    </tr>\n",
       "  </tbody>\n",
       "</table>\n",
       "</div>"
      ],
      "text/plain": [
       "          Job Card.JobCard Number  Job Card.Date Start Work  \\\n",
       "33316   CAS-124239-C6C8Y1 JC01.00                         2   \n",
       "94091    CAS-34560-S4Y6Q9 JC01.05                         2   \n",
       "117219   CAS-54837-Q4D1N1 JC01.00                         3   \n",
       "122533   CAS-59460-T9G6C2 JC01.01                         2   \n",
       "\n",
       "        Job Card.Date End Work  \n",
       "33316                        2  \n",
       "94091                        2  \n",
       "117219                       3  \n",
       "122533                       2  "
      ]
     },
     "execution_count": 46,
     "metadata": {},
     "output_type": "execute_result"
    }
   ],
   "source": [
    "x = df_tr[['Job Card.JobCard Number', 'Job Card.Date Start Work', 'Job Card.Date End Work']].drop_duplicates().groupby(['Job Card.JobCard Number'])['Job Card.Date Start Work', 'Job Card.Date End Work'].count().reset_index()\n",
    "x[x['Job Card.Date Start Work']>1]"
   ]
  },
  {
   "cell_type": "code",
   "execution_count": 47,
   "metadata": {},
   "outputs": [
    {
     "data": {
      "text/html": [
       "<div>\n",
       "<style scoped>\n",
       "    .dataframe tbody tr th:only-of-type {\n",
       "        vertical-align: middle;\n",
       "    }\n",
       "\n",
       "    .dataframe tbody tr th {\n",
       "        vertical-align: top;\n",
       "    }\n",
       "\n",
       "    .dataframe thead th {\n",
       "        text-align: right;\n",
       "    }\n",
       "</style>\n",
       "<table border=\"1\" class=\"dataframe\">\n",
       "  <thead>\n",
       "    <tr style=\"text-align: right;\">\n",
       "      <th></th>\n",
       "      <th>Job Card.Date Start Work</th>\n",
       "      <th>Job Card.Date End Work</th>\n",
       "    </tr>\n",
       "  </thead>\n",
       "  <tbody>\n",
       "    <tr>\n",
       "      <th>3991</th>\n",
       "      <td>2018-10-25 09:45:00</td>\n",
       "      <td>2018-10-25 10:30:00</td>\n",
       "    </tr>\n",
       "    <tr>\n",
       "      <th>273457</th>\n",
       "      <td>2018-10-25 08:30:00</td>\n",
       "      <td>2018-10-25 09:00:00</td>\n",
       "    </tr>\n",
       "  </tbody>\n",
       "</table>\n",
       "</div>"
      ],
      "text/plain": [
       "       Job Card.Date Start Work Job Card.Date End Work\n",
       "3991        2018-10-25 09:45:00    2018-10-25 10:30:00\n",
       "273457      2018-10-25 08:30:00    2018-10-25 09:00:00"
      ]
     },
     "execution_count": 47,
     "metadata": {},
     "output_type": "execute_result"
    }
   ],
   "source": [
    "df_tr[df_tr['Job Card.JobCard Number']=='CAS-124239-C6C8Y1 JC01.00'][['Job Card.Date Start Work', 'Job Card.Date End Work']]"
   ]
  },
  {
   "cell_type": "code",
   "execution_count": 56,
   "metadata": {},
   "outputs": [
    {
     "name": "stdout",
     "output_type": "stream",
     "text": [
      "       Job Card.Date Start Work Job Card.Date End Work\n",
      "270307      2016-10-18 08:30:00    2016-10-18 09:00:00\n",
      "270328      2016-10-28 13:00:00    2016-10-28 14:30:00\n",
      "       Job Card.Date Start Work Job Card.Date End Work\n",
      "270307      2016-10-18 08:30:00    2016-10-18 09:00:00\n",
      "270308      2016-10-18 08:30:00    2016-10-18 09:00:00\n",
      "270309      2016-10-18 08:30:00    2016-10-18 09:00:00\n",
      "270328      2016-10-28 13:00:00    2016-10-28 14:30:00\n",
      "270329      2016-10-28 13:00:00    2016-10-28 14:30:00\n",
      "270330      2016-10-28 13:00:00    2016-10-28 14:30:00\n",
      "270331      2016-10-28 13:00:00    2016-10-28 14:30:00\n"
     ]
    }
   ],
   "source": [
    "# wie soll dauer berechnet werden\n",
    "# z.B. hier\n",
    "# 1) von 6:30 (min_start) bis 14:00 (max_ende)                        = 10.5h \n",
    "# oder\n",
    "# 2) Summe: 6:30-7:00 + 11:30-12:00 + 12:00-12:30 + 13:30-14:00       = 2h          <=== wahrscheinlich das\n",
    "# oder\n",
    "# 3) Summe von allen Einträgen                                        = 2.5\n",
    "\n",
    "print(df_tr[df_tr['Job Card.JobCard Number']=='CAS-59460-T9G6C2 JC01.01'][['Job Card.Date Start Work', 'Job Card.Date End Work']].drop_duplicates())\n",
    "print(df_tr[df_tr['Job Card.JobCard Number']=='CAS-59460-T9G6C2 JC01.01'][['Job Card.Date Start Work', 'Job Card.Date End Work']])"
   ]
  },
  {
   "cell_type": "code",
   "execution_count": 90,
   "metadata": {},
   "outputs": [
    {
     "data": {
      "text/html": [
       "<div>\n",
       "<style scoped>\n",
       "    .dataframe tbody tr th:only-of-type {\n",
       "        vertical-align: middle;\n",
       "    }\n",
       "\n",
       "    .dataframe tbody tr th {\n",
       "        vertical-align: top;\n",
       "    }\n",
       "\n",
       "    .dataframe thead th {\n",
       "        text-align: right;\n",
       "    }\n",
       "</style>\n",
       "<table border=\"1\" class=\"dataframe\">\n",
       "  <thead>\n",
       "    <tr style=\"text-align: right;\">\n",
       "      <th></th>\n",
       "      <th>Product.Product Name</th>\n",
       "      <th>Job Card.Date Start Work</th>\n",
       "      <th>Job Card.Date End Work</th>\n",
       "    </tr>\n",
       "  </thead>\n",
       "  <tbody>\n",
       "    <tr>\n",
       "      <th>270265</th>\n",
       "      <td>Einsatzbasisleistung</td>\n",
       "      <td>2016-10-18 08:30:00</td>\n",
       "      <td>2016-10-18 09:00:00</td>\n",
       "    </tr>\n",
       "    <tr>\n",
       "      <th>270266</th>\n",
       "      <td>Lohnkosten Techniker</td>\n",
       "      <td>2016-10-18 08:30:00</td>\n",
       "      <td>2016-10-18 09:00:00</td>\n",
       "    </tr>\n",
       "    <tr>\n",
       "      <th>270267</th>\n",
       "      <td>Schmutzzulage</td>\n",
       "      <td>2016-10-18 08:30:00</td>\n",
       "      <td>2016-10-18 09:00:00</td>\n",
       "    </tr>\n",
       "    <tr>\n",
       "      <th>270286</th>\n",
       "      <td>Einsatzbasisleistung</td>\n",
       "      <td>2016-10-28 13:00:00</td>\n",
       "      <td>2016-10-28 14:30:00</td>\n",
       "    </tr>\n",
       "    <tr>\n",
       "      <th>270287</th>\n",
       "      <td>Lohnkosten Techniker</td>\n",
       "      <td>2016-10-28 13:00:00</td>\n",
       "      <td>2016-10-28 14:30:00</td>\n",
       "    </tr>\n",
       "    <tr>\n",
       "      <th>270288</th>\n",
       "      <td>Pumpenaufsatz RexaLift L/16 SET</td>\n",
       "      <td>2016-10-28 13:00:00</td>\n",
       "      <td>2016-10-28 14:30:00</td>\n",
       "    </tr>\n",
       "    <tr>\n",
       "      <th>270289</th>\n",
       "      <td>Schmutzzulage</td>\n",
       "      <td>2016-10-28 13:00:00</td>\n",
       "      <td>2016-10-28 14:30:00</td>\n",
       "    </tr>\n",
       "  </tbody>\n",
       "</table>\n",
       "</div>"
      ],
      "text/plain": [
       "                   Product.Product Name Job Card.Date Start Work  \\\n",
       "270265             Einsatzbasisleistung      2016-10-18 08:30:00   \n",
       "270266             Lohnkosten Techniker      2016-10-18 08:30:00   \n",
       "270267                    Schmutzzulage      2016-10-18 08:30:00   \n",
       "270286             Einsatzbasisleistung      2016-10-28 13:00:00   \n",
       "270287             Lohnkosten Techniker      2016-10-28 13:00:00   \n",
       "270288  Pumpenaufsatz RexaLift L/16 SET      2016-10-28 13:00:00   \n",
       "270289                    Schmutzzulage      2016-10-28 13:00:00   \n",
       "\n",
       "       Job Card.Date End Work  \n",
       "270265    2016-10-18 09:00:00  \n",
       "270266    2016-10-18 09:00:00  \n",
       "270267    2016-10-18 09:00:00  \n",
       "270286    2016-10-28 14:30:00  \n",
       "270287    2016-10-28 14:30:00  \n",
       "270288    2016-10-28 14:30:00  \n",
       "270289    2016-10-28 14:30:00  "
      ]
     },
     "execution_count": 90,
     "metadata": {},
     "output_type": "execute_result"
    }
   ],
   "source": [
    "df_tr[df_tr['Job Card.JobCard Number']=='CAS-59460-T9G6C2 JC01.01'][['Product.Product Name', 'Job Card.Date Start Work', 'Job Card.Date End Work']]"
   ]
  },
  {
   "cell_type": "code",
   "execution_count": null,
   "metadata": {},
   "outputs": [],
   "source": [
    "# ==> pro JobCard genau 1 Timestamp paar\n",
    "# evtl entfernen wenn mehrere timestamp"
   ]
  },
  {
   "cell_type": "code",
   "execution_count": 57,
   "metadata": {},
   "outputs": [
    {
     "data": {
      "text/html": [
       "<div>\n",
       "<style scoped>\n",
       "    .dataframe tbody tr th:only-of-type {\n",
       "        vertical-align: middle;\n",
       "    }\n",
       "\n",
       "    .dataframe tbody tr th {\n",
       "        vertical-align: top;\n",
       "    }\n",
       "\n",
       "    .dataframe thead th {\n",
       "        text-align: right;\n",
       "    }\n",
       "</style>\n",
       "<table border=\"1\" class=\"dataframe\">\n",
       "  <thead>\n",
       "    <tr style=\"text-align: right;\">\n",
       "      <th></th>\n",
       "      <th>Job Card.JobCard Number</th>\n",
       "      <th>Job Card.Date Start Work</th>\n",
       "      <th>Job Card.Date End Work</th>\n",
       "    </tr>\n",
       "  </thead>\n",
       "  <tbody>\n",
       "    <tr>\n",
       "      <th>33316</th>\n",
       "      <td>CAS-124239-C6C8Y1 JC01.00</td>\n",
       "      <td>2</td>\n",
       "      <td>2</td>\n",
       "    </tr>\n",
       "    <tr>\n",
       "      <th>94091</th>\n",
       "      <td>CAS-34560-S4Y6Q9 JC01.05</td>\n",
       "      <td>2</td>\n",
       "      <td>2</td>\n",
       "    </tr>\n",
       "    <tr>\n",
       "      <th>117219</th>\n",
       "      <td>CAS-54837-Q4D1N1 JC01.00</td>\n",
       "      <td>3</td>\n",
       "      <td>3</td>\n",
       "    </tr>\n",
       "    <tr>\n",
       "      <th>122533</th>\n",
       "      <td>CAS-59460-T9G6C2 JC01.01</td>\n",
       "      <td>2</td>\n",
       "      <td>2</td>\n",
       "    </tr>\n",
       "  </tbody>\n",
       "</table>\n",
       "</div>"
      ],
      "text/plain": [
       "          Job Card.JobCard Number  Job Card.Date Start Work  \\\n",
       "33316   CAS-124239-C6C8Y1 JC01.00                         2   \n",
       "94091    CAS-34560-S4Y6Q9 JC01.05                         2   \n",
       "117219   CAS-54837-Q4D1N1 JC01.00                         3   \n",
       "122533   CAS-59460-T9G6C2 JC01.01                         2   \n",
       "\n",
       "        Job Card.Date End Work  \n",
       "33316                        2  \n",
       "94091                        2  \n",
       "117219                       3  \n",
       "122533                       2  "
      ]
     },
     "execution_count": 57,
     "metadata": {},
     "output_type": "execute_result"
    }
   ],
   "source": [
    "x[x['Job Card.Date Start Work']>1]"
   ]
  },
  {
   "cell_type": "code",
   "execution_count": 58,
   "metadata": {},
   "outputs": [],
   "source": [
    "y = df_tr[['Job Card.JobCard Number', 'Job Card.Date Start Work', 'Job Card.Date End Work']].drop_duplicates()"
   ]
  }
 ],
 "metadata": {
  "kernelspec": {
   "display_name": "Python 3.6 - AzureML",
   "language": "python",
   "name": "python3-azureml"
  },
  "language_info": {
   "codemirror_mode": {
    "name": "ipython",
    "version": 3
   },
   "file_extension": ".py",
   "mimetype": "text/x-python",
   "name": "python",
   "nbconvert_exporter": "python",
   "pygments_lexer": "ipython3",
   "version": "3.6.9"
  }
 },
 "nbformat": 4,
 "nbformat_minor": 2
}
